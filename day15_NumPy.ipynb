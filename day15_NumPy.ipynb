{
  "nbformat": 4,
  "nbformat_minor": 0,
  "metadata": {
    "colab": {
      "provenance": []
    },
    "kernelspec": {
      "name": "python3",
      "display_name": "Python 3"
    },
    "language_info": {
      "name": "python"
    }
  },
  "cells": [
    {
      "cell_type": "markdown",
      "source": [
        "# NumPy\n",
        "\n",
        "NumPy( short for Numerical Python) one of the most fundamental libraries in Python for scientific computing which provides support for large multi-dimensional arrays and matrices along with a collectin of mathematical functions to operate on arrays."
      ],
      "metadata": {
        "id": "eCmfD7gWGXQ2"
      }
    },
    {
      "cell_type": "code",
      "execution_count": null,
      "metadata": {
        "colab": {
          "base_uri": "https://localhost:8080/"
        },
        "id": "ITPW4dBfF1tz",
        "outputId": "7d3eec55-352b-40a1-80a7-9d75c0d1c775"
      },
      "outputs": [
        {
          "output_type": "stream",
          "name": "stdout",
          "text": [
            "[1 2 3 4]\n"
          ]
        }
      ],
      "source": [
        "import numpy as np\n",
        "\n",
        "tup=(1,2,3,4)\n",
        "numpy_array=np.array(tup)\n",
        "print(numpy_array)"
      ]
    },
    {
      "cell_type": "code",
      "source": [
        "zeros=np.zeros((1,2))\n",
        "ones=np.ones((1,2))\n",
        "constants=np.full((1,2),7)\n",
        "range=np.arange(0,9,2) # start stop step\n",
        "linspace=np.linspace(0,1,4) # start stop num\n",
        "\n",
        "print(\"zeros array:\",\"\\n\",zeros)\n",
        "print(\"Ones Array:\",\"\\n\",ones)\n",
        "print(\"Constant Array:\",\"\\n\",constants)\n",
        "print(\"Range Array:\",\"\\n\",range)\n",
        "print(\"Linspace Array:\",\"\\n\",linspace)"
      ],
      "metadata": {
        "colab": {
          "base_uri": "https://localhost:8080/"
        },
        "id": "-MOCoVeIK6z5",
        "outputId": "52c4bfa9-d6f1-4804-f83b-facdf6d6d2d9"
      },
      "execution_count": null,
      "outputs": [
        {
          "output_type": "stream",
          "name": "stdout",
          "text": [
            "zeros array: \n",
            " [[0. 0.]]\n",
            "Ones Array: \n",
            " [[1. 1.]]\n",
            "Constant Array: \n",
            " [[7 7]]\n",
            "Range Array: \n",
            " [0 2 4 6 8]\n",
            "Linspace Array: \n",
            " [0.         0.33333333 0.66666667 1.        ]\n"
          ]
        }
      ]
    },
    {
      "cell_type": "code",
      "source": [
        "random=np.random.rand(2,6)\n",
        "normal=np.random.randn(1,5)\n",
        "randint=np.random.randint(3,9,size=(3,3))\n",
        "print(random)\n",
        "print(normal)\n",
        "print(randint)"
      ],
      "metadata": {
        "colab": {
          "base_uri": "https://localhost:8080/"
        },
        "id": "72CSn1OhN1gg",
        "outputId": "fe204484-8346-4a45-c30e-790e95afccde"
      },
      "execution_count": null,
      "outputs": [
        {
          "output_type": "stream",
          "name": "stdout",
          "text": [
            "[[0.90215454 0.05600133 0.73791332 0.23161213 0.78830234 0.71269967]\n",
            " [0.26097366 0.32139754 0.47480577 0.97542981 0.0593892  0.77616151]]\n",
            "[[ 0.28048837 -0.03506681  1.80252718  1.81446469 -1.40942221]]\n",
            "[[6 5 7]\n",
            " [6 8 5]\n",
            " [8 7 8]]\n"
          ]
        }
      ]
    },
    {
      "cell_type": "code",
      "source": [
        "identity_mat=np.eye(3)\n",
        "diagonal_arr=np.diag([1,2])\n",
        "zeros_like=np.zeros_like(diagonal_arr)\n",
        "ones_like=np.ones_like(identity_mat)\n",
        "\n",
        "print(\"identity matrix:\\n \",identity_mat)\n",
        "print(\"diagonal array:\\n \",diagonal_arr)\n",
        "print(\"zeros like array:\\n \",zeros_like)\n",
        "print(\"ones like array:\\n \",ones_like)"
      ],
      "metadata": {
        "colab": {
          "base_uri": "https://localhost:8080/"
        },
        "id": "yCJV3cZHO-fq",
        "outputId": "7f027d11-bfd4-48db-c926-5ef1ecd55bb1"
      },
      "execution_count": null,
      "outputs": [
        {
          "output_type": "stream",
          "name": "stdout",
          "text": [
            "identity matrix:\n",
            "  [[1. 0. 0.]\n",
            " [0. 1. 0.]\n",
            " [0. 0. 1.]]\n",
            "diagonal array:\n",
            "  [[1 0]\n",
            " [0 2]]\n",
            "zeros like array:\n",
            "  [[0 0]\n",
            " [0 0]]\n",
            "ones like array:\n",
            "  [[1. 1. 1.]\n",
            " [1. 1. 1.]\n",
            " [1. 1. 1.]]\n"
          ]
        }
      ]
    },
    {
      "cell_type": "markdown",
      "source": [
        "**Numpy Array Indexing**\n",
        "\n",
        "Array indexing in NumPy means accessing specific elements or subsets of data within an array."
      ],
      "metadata": {
        "id": "LMGGqtwqQzWy"
      }
    },
    {
      "cell_type": "code",
      "source": [
        "#accessing elements in 1D array\n",
        "arr=np.array([10,20,30,40])\n",
        "print(arr[2])"
      ],
      "metadata": {
        "colab": {
          "base_uri": "https://localhost:8080/"
        },
        "id": "OwYCS_4VQ9bG",
        "outputId": "98945ac6-23cf-4b80-ded6-7b892bd564a2"
      },
      "execution_count": null,
      "outputs": [
        {
          "output_type": "stream",
          "name": "stdout",
          "text": [
            "30\n"
          ]
        }
      ]
    },
    {
      "cell_type": "code",
      "source": [
        "#accessing elements in multidmensional arrays\n",
        "\n",
        "#2D array\n",
        "matrix=np.array([[1,2],[2,2],[3,4]])\n",
        "print(matrix)\n",
        "print(matrix[1,0])\n",
        "\n",
        "#3D array\n",
        "matrix1=np.array([[[1,2,3],[2,5,2],[3,2,4]]])\n",
        "print(matrix1)\n",
        "print(matrix1[0,0,1])"
      ],
      "metadata": {
        "colab": {
          "base_uri": "https://localhost:8080/"
        },
        "id": "gFSwZ65nRSYJ",
        "outputId": "7abe8604-231b-4e0f-f6c5-59a78df06bbd"
      },
      "execution_count": null,
      "outputs": [
        {
          "output_type": "stream",
          "name": "stdout",
          "text": [
            "[[1 2]\n",
            " [2 2]\n",
            " [3 4]]\n",
            "2\n",
            "[[[1 2 3]\n",
            "  [2 5 2]\n",
            "  [3 2 4]]]\n",
            "2\n"
          ]
        }
      ]
    },
    {
      "cell_type": "code",
      "source": [
        "# slicing array\n",
        "arr=np.array([10,20,30,40])\n",
        "print(arr[0:3])"
      ],
      "metadata": {
        "colab": {
          "base_uri": "https://localhost:8080/"
        },
        "id": "yNzSHT4wRzpr",
        "outputId": "3bc8cce8-241b-4f4c-cf07-256a9bc22e16"
      },
      "execution_count": null,
      "outputs": [
        {
          "output_type": "stream",
          "name": "stdout",
          "text": [
            "[10 20 30]\n"
          ]
        }
      ]
    },
    {
      "cell_type": "code",
      "source": [
        "#boolean indexing\n",
        "arr=np.array([3,6,9,12])\n",
        "print(arr[arr<=9])\n",
        "print(arr[(arr<=6) & (arr< 12)])"
      ],
      "metadata": {
        "colab": {
          "base_uri": "https://localhost:8080/"
        },
        "id": "uIj09wCPTH1C",
        "outputId": "79b51b2b-6940-4b78-c7ff-75048f1c7771"
      },
      "execution_count": null,
      "outputs": [
        {
          "output_type": "stream",
          "name": "stdout",
          "text": [
            "[3 6 9]\n",
            "[3 6]\n"
          ]
        }
      ]
    },
    {
      "cell_type": "code",
      "source": [
        "# modifying array elements\n",
        "arr=np.array([3,6,9,12])\n",
        "arr[0:2]=4\n",
        "print(arr)"
      ],
      "metadata": {
        "colab": {
          "base_uri": "https://localhost:8080/"
        },
        "id": "Is4bvtrcTdxQ",
        "outputId": "104d7a19-41c8-4152-889f-b6c520799ef3"
      },
      "execution_count": null,
      "outputs": [
        {
          "output_type": "stream",
          "name": "stdout",
          "text": [
            "[ 4  4  9 12]\n"
          ]
        }
      ]
    },
    {
      "cell_type": "code",
      "source": [
        "# fancy indexing\n",
        "arr=np.array([3,6,9,12])\n",
        "indices=[1,2,3]\n",
        "print(arr[indices])"
      ],
      "metadata": {
        "colab": {
          "base_uri": "https://localhost:8080/"
        },
        "id": "vBVjrTqKUCix",
        "outputId": "fed5b5a1-09da-4b5a-ca43-c113cf68678b"
      },
      "execution_count": null,
      "outputs": [
        {
          "output_type": "stream",
          "name": "stdout",
          "text": [
            "[ 6  9 12]\n"
          ]
        }
      ]
    }
  ]
}