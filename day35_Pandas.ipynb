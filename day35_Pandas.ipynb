{
  "nbformat": 4,
  "nbformat_minor": 0,
  "metadata": {
    "colab": {
      "provenance": []
    },
    "kernelspec": {
      "name": "python3",
      "display_name": "Python 3"
    },
    "language_info": {
      "name": "python"
    }
  },
  "cells": [
    {
      "cell_type": "markdown",
      "source": [
        "# Removing the duplicates\n",
        "\n",
        "Using Pandas dataframe.drop_duplicates()"
      ],
      "metadata": {
        "id": "_z4wJWImvyc9"
      }
    },
    {
      "cell_type": "code",
      "execution_count": 8,
      "metadata": {
        "colab": {
          "base_uri": "https://localhost:8080/"
        },
        "id": "lD6zYH9_vbUA",
        "outputId": "f59e6ce9-4dc9-454b-cc95-eac65899b346"
      },
      "outputs": [
        {
          "output_type": "stream",
          "name": "stdout",
          "text": [
            "Original DataFrame:\n",
            "    Name  Age     City\n",
            "0  Ngima   21      Ktm\n",
            "1   Rabi   24      Bkt\n",
            "2  Ngima   21      Ktm\n",
            "3  Himal   27  Chicago\n",
            "\n",
            "No duplicate DataFrame:\n",
            "    Name  Age     City\n",
            "0  Ngima   21      Ktm\n",
            "1   Rabi   24      Bkt\n",
            "3  Himal   27  Chicago\n"
          ]
        }
      ],
      "source": [
        "import pandas as pd\n",
        "\n",
        "data={\n",
        "    \"Name\":['Ngima','Rabi','Ngima','Himal'],\n",
        "    \"Age\":[21,24,21,27],\n",
        "    \"City\":['Ktm','Bkt','Ktm','Chicago']\n",
        "}\n",
        "df=pd.DataFrame(data)\n",
        "print(f\"Original DataFrame:\\n{df}\")\n",
        "\n",
        "df_cleaned=df.drop_duplicates()\n",
        "print(f\"\\nNo duplicate DataFrame:\\n{df_cleaned}\")"
      ]
    },
    {
      "cell_type": "markdown",
      "source": [
        "Note: drop_duplicates() removes completely identical rows."
      ],
      "metadata": {
        "id": "L5xCCPzZxusw"
      }
    },
    {
      "cell_type": "code",
      "source": [
        "# Dropping Duplicates Based on Specific Columns\n",
        "\n",
        "import pandas as pd\n",
        "\n",
        "data={\n",
        "    \"Name\":['Ngima','Rabi','Ngima','Himal'],\n",
        "    \"Age\":[21,24,21,27],\n",
        "    \"City\":['Ktm','Bkt','Lalitpur','Chicago']\n",
        "}\n",
        "\n",
        "df = pd.DataFrame(data)\n",
        "\n",
        "print(\"Original DataFrame:\")\n",
        "print(df)\n",
        "\n",
        "df_cleaned = df.drop_duplicates(subset=['Name'])\n",
        "\n",
        "print(\"\\nModified DataFrame (no duplicates)\")\n",
        "print(df_cleaned)"
      ],
      "metadata": {
        "colab": {
          "base_uri": "https://localhost:8080/"
        },
        "id": "a1EGrrILxEM1",
        "outputId": "be7b9268-0cec-42a4-d707-2ba546d1e74b"
      },
      "execution_count": 9,
      "outputs": [
        {
          "output_type": "stream",
          "name": "stdout",
          "text": [
            "Original DataFrame:\n",
            "    Name  Age      City\n",
            "0  Ngima   21       Ktm\n",
            "1   Rabi   24       Bkt\n",
            "2  Ngima   21  Lalitpur\n",
            "3  Himal   27   Chicago\n",
            "\n",
            "Modified DataFrame (no duplicates)\n",
            "    Name  Age     City\n",
            "0  Ngima   21      Ktm\n",
            "1   Rabi   24      Bkt\n",
            "3  Himal   27  Chicago\n"
          ]
        }
      ]
    },
    {
      "cell_type": "markdown",
      "source": [
        "Note: Here duplicates are removed only based on the Name column while Age and City are ignored for the purpose of removing duplicates."
      ],
      "metadata": {
        "id": "j8cLIE6TyKn0"
      }
    },
    {
      "cell_type": "code",
      "source": [
        "#  Keeping the Last Occurrence of Duplicates\n",
        "\n",
        "import pandas as pd\n",
        "\n",
        "data={\n",
        "    \"Name\":['Ngima','Rabi','Ngima','Himal'],\n",
        "    \"Age\":[21,24,21,27],\n",
        "    \"City\":['Ktm','Bkt','Ktm','Chicago']\n",
        "}\n",
        "\n",
        "df = pd.DataFrame(data)\n",
        "df_cleaned = df.drop_duplicates(keep='last')\n",
        "\n",
        "print(\"\\nModified DataFrame (no duplicates)\")\n",
        "print(df_cleaned)"
      ],
      "metadata": {
        "colab": {
          "base_uri": "https://localhost:8080/"
        },
        "id": "mvMtrgbbyWAP",
        "outputId": "efba237c-af68-4024-8f32-7eafb417c824"
      },
      "execution_count": 11,
      "outputs": [
        {
          "output_type": "stream",
          "name": "stdout",
          "text": [
            "\n",
            "Modified DataFrame (no duplicates)\n",
            "    Name  Age     City\n",
            "1   Rabi   24      Bkt\n",
            "2  Ngima   21      Ktm\n",
            "3  Himal   27  Chicago\n"
          ]
        }
      ]
    },
    {
      "cell_type": "markdown",
      "source": [
        "Here the last occurrence of Ngima is kept and the first occurrence is removed."
      ],
      "metadata": {
        "id": "wemwy3dIyl0Q"
      }
    },
    {
      "cell_type": "code",
      "source": [
        "#  Dropping All Duplicates\n",
        "\n",
        "import pandas as pd\n",
        "\n",
        "data={\n",
        "    \"Name\":['Ngima','Rabi','Ngima','Himal'],\n",
        "    \"Age\":[21,24,21,27],\n",
        "    \"City\":['Ktm','Bkt','Ktm','Chicago']\n",
        "}\n",
        "\n",
        "df = pd.DataFrame(data)\n",
        "df_cleaned = df.drop_duplicates(keep=False)\n",
        "\n",
        "print(\"\\nModified DataFrame (no duplicates)\")\n",
        "print(df_cleaned)"
      ],
      "metadata": {
        "colab": {
          "base_uri": "https://localhost:8080/"
        },
        "id": "1h1_w1eZynxS",
        "outputId": "34fb2162-e60f-4684-d606-23fed2fc79df"
      },
      "execution_count": 12,
      "outputs": [
        {
          "output_type": "stream",
          "name": "stdout",
          "text": [
            "\n",
            "Modified DataFrame (no duplicates)\n",
            "    Name  Age     City\n",
            "1   Rabi   24      Bkt\n",
            "3  Himal   27  Chicago\n"
          ]
        }
      ]
    },
    {
      "cell_type": "markdown",
      "source": [
        "Note: With keep=False both occurrences of Ngima are removed leaving only the rows with unique values across all columns."
      ],
      "metadata": {
        "id": "3oW9QydMyzgg"
      }
    },
    {
      "cell_type": "code",
      "source": [
        "#. Modifying the Original DataFrame Directly\n",
        "\n",
        "import pandas as pd\n",
        "\n",
        "data={\n",
        "    \"Name\":['Ngima','Rabi','Ngima','Himal'],\n",
        "    \"Age\":[21,24,21,27],\n",
        "    \"City\":['Ktm','Bkt','Ktm','Chicago']\n",
        "}\n",
        "\n",
        "df = pd.DataFrame(data)\n",
        "df.drop_duplicates(inplace=True)\n",
        "\n",
        "print(\"\\nModified DataFrame (no duplicates)\")\n",
        "print(df)"
      ],
      "metadata": {
        "colab": {
          "base_uri": "https://localhost:8080/"
        },
        "id": "TuKEUUzry2n_",
        "outputId": "fb02e863-3868-41c9-e364-ff14567062c9"
      },
      "execution_count": 13,
      "outputs": [
        {
          "output_type": "stream",
          "name": "stdout",
          "text": [
            "\n",
            "Modified DataFrame (no duplicates)\n",
            "    Name  Age     City\n",
            "0  Ngima   21      Ktm\n",
            "1   Rabi   24      Bkt\n",
            "3  Himal   27  Chicago\n"
          ]
        }
      ]
    },
    {
      "cell_type": "markdown",
      "source": [
        "Note: Using inplace=True directly modifies the original DataFrame saving memory and avoiding the need to assign the result to a new variable."
      ],
      "metadata": {
        "id": "PI3Qzq2JzI69"
      }
    }
  ]
}