{
  "nbformat": 4,
  "nbformat_minor": 0,
  "metadata": {
    "colab": {
      "provenance": []
    },
    "kernelspec": {
      "name": "python3",
      "display_name": "Python 3"
    },
    "language_info": {
      "name": "python"
    }
  },
  "cells": [
    {
      "cell_type": "code",
      "execution_count": 1,
      "metadata": {
        "colab": {
          "base_uri": "https://localhost:8080/"
        },
        "id": "BlEFCcyVSb6f",
        "outputId": "7bf90e07-ed65-42e8-ffcf-f6a869e72b6a"
      },
      "outputs": [
        {
          "output_type": "execute_result",
          "data": {
            "text/plain": [
              "15"
            ]
          },
          "metadata": {},
          "execution_count": 1
        }
      ],
      "source": [
        "#reduce () in python which is defined in functools module\n",
        "from functools import reduce\n",
        "\n",
        "def add(a,b):\n",
        "  return a+b\n",
        "a=[1,2,3,4,5]\n",
        "reduce(add,a)"
      ]
    },
    {
      "cell_type": "code",
      "source": [
        "# using reduce() with lambda: anonymous function\n",
        "from functools import reduce\n",
        "\n",
        "x=[1,2,3,4,5]\n",
        "reduce(lambda a,b:a+b,x)"
      ],
      "metadata": {
        "colab": {
          "base_uri": "https://localhost:8080/"
        },
        "id": "9bxbv4DxVH85",
        "outputId": "ed291352-c4d6-465d-94b8-3234aa2cf073"
      },
      "execution_count": 4,
      "outputs": [
        {
          "output_type": "execute_result",
          "data": {
            "text/plain": [
              "15"
            ]
          },
          "metadata": {},
          "execution_count": 4
        }
      ]
    },
    {
      "cell_type": "code",
      "source": [
        "#using reduce () with operator functions\n",
        "import operator\n",
        "from functools import reduce\n",
        "\n",
        "a=[1,2,3,4,5]\n",
        "print(reduce(operator.add,a))\n",
        "print(reduce(operator.mul,a))\n",
        "print(reduce(operator.add,['neema','lama']))"
      ],
      "metadata": {
        "colab": {
          "base_uri": "https://localhost:8080/"
        },
        "id": "Utw76LESV0Fd",
        "outputId": "75ac7e62-adf4-4ae2-8d75-cd5901ff3ae5"
      },
      "execution_count": 11,
      "outputs": [
        {
          "output_type": "stream",
          "name": "stdout",
          "text": [
            "15\n",
            "120\n",
            "neemalama\n"
          ]
        }
      ]
    },
    {
      "cell_type": "code",
      "source": [
        "# using accumulate()\n",
        "from itertools import accumulate\n",
        "\n",
        "def add(a,b):\n",
        "  return a+b\n",
        "\n",
        "a=[1,2,3,4,5]\n",
        "res=accumulate(a,add)\n",
        "print(list(res))"
      ],
      "metadata": {
        "colab": {
          "base_uri": "https://localhost:8080/"
        },
        "id": "AEzkjZslWk4C",
        "outputId": "7edcbd24-40d0-4088-e46a-59aa758a2ee4"
      },
      "execution_count": 15,
      "outputs": [
        {
          "output_type": "stream",
          "name": "stdout",
          "text": [
            "[1, 3, 6, 10, 15]\n"
          ]
        }
      ]
    },
    {
      "cell_type": "code",
      "source": [
        "#using map() to apply a function to every item of an iterable\n",
        "a=['1','2','3','4','5']\n",
        "list(map(int,a))"
      ],
      "metadata": {
        "colab": {
          "base_uri": "https://localhost:8080/"
        },
        "id": "VH5YA07CYKj6",
        "outputId": "3350ba43-210b-43c4-ab2d-01acc247cf6a"
      },
      "execution_count": 17,
      "outputs": [
        {
          "output_type": "execute_result",
          "data": {
            "text/plain": [
              "[1, 2, 3, 4, 5]"
            ]
          },
          "metadata": {},
          "execution_count": 17
        }
      ]
    },
    {
      "cell_type": "markdown",
      "source": [
        "syntax of map():\n",
        "\n",
        "map(function,iterable)"
      ],
      "metadata": {
        "id": "55S7SEylZRR9"
      }
    },
    {
      "cell_type": "code",
      "source": [
        "# using map() with lambda\n",
        "a=[2,4,6]\n",
        "list(map(lambda x: x*2,a))"
      ],
      "metadata": {
        "colab": {
          "base_uri": "https://localhost:8080/"
        },
        "id": "urReEJQkZNRt",
        "outputId": "757e5170-3be7-457e-9a02-66f5bc540f06"
      },
      "execution_count": 20,
      "outputs": [
        {
          "output_type": "execute_result",
          "data": {
            "text/plain": [
              "[4, 8, 12]"
            ]
          },
          "metadata": {},
          "execution_count": 20
        }
      ]
    },
    {
      "cell_type": "code",
      "source": [
        "color = ['yellow','blue','green']\n",
        "result= list(map(str.upper,color))\n",
        "print(result)"
      ],
      "metadata": {
        "colab": {
          "base_uri": "https://localhost:8080/"
        },
        "id": "mqkF6aqGZ7G8",
        "outputId": "211ef34c-38b7-4543-a200-553968b0fc5a"
      },
      "execution_count": 21,
      "outputs": [
        {
          "output_type": "stream",
          "name": "stdout",
          "text": [
            "['YELLOW', 'BLUE', 'GREEN']\n"
          ]
        }
      ]
    },
    {
      "cell_type": "code",
      "source": [
        "# using filter() to test each element in the sequence is true or not\n",
        "def even(n):\n",
        "  return n % 2==0\n",
        "a=[1,2,3,4,5,6,7]\n",
        "list(filter(even,a))"
      ],
      "metadata": {
        "colab": {
          "base_uri": "https://localhost:8080/"
        },
        "id": "Mo8fIXMBavEA",
        "outputId": "06c465a2-f77e-4fc7-a00c-4409f911db54"
      },
      "execution_count": 23,
      "outputs": [
        {
          "output_type": "execute_result",
          "data": {
            "text/plain": [
              "[2, 4, 6]"
            ]
          },
          "metadata": {},
          "execution_count": 23
        }
      ]
    },
    {
      "cell_type": "markdown",
      "source": [
        "syntax of filter():\n",
        "\n",
        "filter(function, sequence)"
      ],
      "metadata": {
        "id": "iARJmTcebNOX"
      }
    },
    {
      "cell_type": "code",
      "source": [
        "#Python String\n",
        "s='Neema'\n",
        "print(s[0])\n",
        "s1=s+s[0]\n",
        "print(s1)"
      ],
      "metadata": {
        "colab": {
          "base_uri": "https://localhost:8080/"
        },
        "id": "CZnUYvnabUQr",
        "outputId": "3f6755d6-eb90-48ce-9d85-ed62d5c7c700"
      },
      "execution_count": 25,
      "outputs": [
        {
          "output_type": "stream",
          "name": "stdout",
          "text": [
            "N\n",
            "NeemaN\n"
          ]
        }
      ]
    },
    {
      "cell_type": "markdown",
      "source": [
        "Note: Python has no character data type so single character is a string of length 1."
      ],
      "metadata": {
        "id": "YUPFE5p8cO2g"
      }
    },
    {
      "cell_type": "code",
      "source": [
        "# multi-line string\n",
        "s=\"\"\"I am learning\n",
        "Python\"\"\"\n",
        "print(s)\n",
        "print(s[1])\n",
        "print(s[-1])"
      ],
      "metadata": {
        "colab": {
          "base_uri": "https://localhost:8080/"
        },
        "id": "Tti4FMx1cd1y",
        "outputId": "429d4f88-ae6e-43c9-9b33-8a924016d20e"
      },
      "execution_count": 31,
      "outputs": [
        {
          "output_type": "stream",
          "name": "stdout",
          "text": [
            "I am learning\n",
            "Python\n",
            " \n",
            "n\n"
          ]
        }
      ]
    },
    {
      "cell_type": "markdown",
      "source": [
        "Note: Whitespace also counts as a character in string. And -1 access last character."
      ],
      "metadata": {
        "id": "2hPA1tmqdR04"
      }
    },
    {
      "cell_type": "code",
      "source": [
        "#string slicing\n",
        "\n",
        "s='Neemalama'\n",
        "# retrieves character from 1 to 3\n",
        "print(s[1:4])\n",
        "# retrieves character from beginning to index 2\n",
        "print(s[:3])\n",
        "# retrieves character from index 3 to end\n",
        "print(s[3:])\n",
        "#reverses a string\n",
        "print(s[::-1])"
      ],
      "metadata": {
        "colab": {
          "base_uri": "https://localhost:8080/"
        },
        "id": "PFVIeEbxdaCL",
        "outputId": "68eaf2e5-d685-4056-b2da-25ee5b0bf428"
      },
      "execution_count": 37,
      "outputs": [
        {
          "output_type": "stream",
          "name": "stdout",
          "text": [
            "eem\n",
            "Nee\n",
            "malama\n",
            "amalameeN\n"
          ]
        }
      ]
    },
    {
      "cell_type": "markdown",
      "source": [
        "Note: string immutability\n",
        "\n",
        "Strings in pythons can't be changed after created but manipulation can be done like: concatenation, slicing or formatting."
      ],
      "metadata": {
        "id": "7hcZn3lxfi2_"
      }
    },
    {
      "cell_type": "code",
      "source": [
        "#updating a string by creating new string\n",
        "s='Challenge'\n",
        "s= 'c'+ s[1:]\n",
        "print(s)"
      ],
      "metadata": {
        "colab": {
          "base_uri": "https://localhost:8080/"
        },
        "id": "fN6p4nT9fgbz",
        "outputId": "de002f14-793a-49d4-b666-c799e49ad763"
      },
      "execution_count": 42,
      "outputs": [
        {
          "output_type": "stream",
          "name": "stdout",
          "text": [
            "challenge\n"
          ]
        }
      ]
    },
    {
      "cell_type": "code",
      "source": [
        "#replacing a string\n",
        "s=' learning Challenge'\n",
        "s=s.replace('Challenge','2025')\n",
        "print(s)\n",
        "print(s.strip()) # removes spaces"
      ],
      "metadata": {
        "colab": {
          "base_uri": "https://localhost:8080/"
        },
        "id": "vBmieXQngNWC",
        "outputId": "dcd37260-d15b-43c2-a2df-3d2dbbba5e43"
      },
      "execution_count": 45,
      "outputs": [
        {
          "output_type": "stream",
          "name": "stdout",
          "text": [
            " learning 2025\n",
            "learning 2025\n"
          ]
        }
      ]
    },
    {
      "cell_type": "markdown",
      "source": [
        "Python lists:\n",
        "\n",
        " List is a built-in dynamic sized array that can store all types of items including different data types, list itself, duplicates and are mutable."
      ],
      "metadata": {
        "id": "t-NLFSYThKgW"
      }
    },
    {
      "cell_type": "code",
      "source": [
        "# creating a list\n",
        "mix=['apple',1,True,['hey','hi']]\n",
        "print(mix)\n",
        "print(mix[0])\n",
        "print(mix[1])\n",
        "print(mix[2])\n",
        "print(mix[3])\n",
        "print(mix[3][1])"
      ],
      "metadata": {
        "colab": {
          "base_uri": "https://localhost:8080/"
        },
        "id": "med__dX_gkc1",
        "outputId": "26dce1ec-6da7-4036-b72b-cbd304555040"
      },
      "execution_count": 69,
      "outputs": [
        {
          "output_type": "stream",
          "name": "stdout",
          "text": [
            "['apple', 1, True, ['hey', 'hi']]\n",
            "apple\n",
            "1\n",
            "True\n",
            "['hey', 'hi']\n",
            "hi\n"
          ]
        }
      ]
    },
    {
      "cell_type": "code",
      "source": [
        "# list can also be created using list()constructor\n",
        "#from a tuple\n",
        "a= list(('neema','challenge',2025))\n",
        "a"
      ],
      "metadata": {
        "colab": {
          "base_uri": "https://localhost:8080/"
        },
        "id": "bYGxGTHZiI6s",
        "outputId": "9887fc78-df52-47d6-9a55-744528fc6b08"
      },
      "execution_count": 53,
      "outputs": [
        {
          "output_type": "execute_result",
          "data": {
            "text/plain": [
              "['neema', 'challenge', 2025]"
            ]
          },
          "metadata": {},
          "execution_count": 53
        }
      ]
    },
    {
      "cell_type": "code",
      "source": [
        "# creating list with repeated elemnts\n",
        "a=[3]*8\n",
        "a"
      ],
      "metadata": {
        "colab": {
          "base_uri": "https://localhost:8080/"
        },
        "id": "98iUcri6ifvh",
        "outputId": "c516eb2f-0856-4ed1-9875-f38714878233"
      },
      "execution_count": 54,
      "outputs": [
        {
          "output_type": "execute_result",
          "data": {
            "text/plain": [
              "[3, 3, 3, 3, 3, 3, 3, 3]"
            ]
          },
          "metadata": {},
          "execution_count": 54
        }
      ]
    },
    {
      "cell_type": "markdown",
      "source": [
        "Adding elements into list:\n",
        "\n",
        "append() - adds an element at end of list\n",
        "\n",
        "extend() - adds multiple elements at end\n",
        "\n",
        "insert()- adds an element at specific position\n"
      ],
      "metadata": {
        "id": "v6zLJtbWixhu"
      }
    },
    {
      "cell_type": "code",
      "source": [
        "lis=[]\n",
        "lis.append(1)\n",
        "lis.insert(0,3) # inserting 3 at index 0\n",
        "lis.extend([2,3,'bye'])\n",
        "lis"
      ],
      "metadata": {
        "colab": {
          "base_uri": "https://localhost:8080/"
        },
        "id": "OBF9LMYninWm",
        "outputId": "0f70e560-4957-4b0f-bad2-1cf43410a9a3"
      },
      "execution_count": 60,
      "outputs": [
        {
          "output_type": "execute_result",
          "data": {
            "text/plain": [
              "[3, 1, 2, 3, 'bye']"
            ]
          },
          "metadata": {},
          "execution_count": 60
        }
      ]
    },
    {
      "cell_type": "code",
      "source": [
        "#updating elements into list\n",
        "lis=[1,2,'hi']\n",
        "lis[1]='hello'\n",
        "lis"
      ],
      "metadata": {
        "colab": {
          "base_uri": "https://localhost:8080/"
        },
        "id": "MEqJzML-jXPG",
        "outputId": "49f300df-efe3-42ba-cb55-2c6fb42ec2a9"
      },
      "execution_count": 61,
      "outputs": [
        {
          "output_type": "execute_result",
          "data": {
            "text/plain": [
              "[1, 'hello', 'hi']"
            ]
          },
          "metadata": {},
          "execution_count": 61
        }
      ]
    },
    {
      "cell_type": "markdown",
      "source": [
        "Removing elemnts from list:\n",
        "\n",
        "remove() - removes first occurance of an element\n",
        "\n",
        "pop()- removes element at specific index or last if not specified.\n",
        "\n",
        "del statement: deletes element at a specific index."
      ],
      "metadata": {
        "id": "m1LL7uYmjts1"
      }
    },
    {
      "cell_type": "code",
      "source": [
        "l=[1,2,'neema','leapfrog',1]\n",
        "l.remove(1)\n",
        "l.pop(0)\n",
        "del l[0]\n",
        "l"
      ],
      "metadata": {
        "colab": {
          "base_uri": "https://localhost:8080/"
        },
        "id": "a2TTeFLljmtT",
        "outputId": "032f95f3-48c5-4660-d614-3b58d574e2b8"
      },
      "execution_count": 66,
      "outputs": [
        {
          "output_type": "execute_result",
          "data": {
            "text/plain": [
              "['leapfrog', 1]"
            ]
          },
          "metadata": {},
          "execution_count": 66
        }
      ]
    },
    {
      "cell_type": "code",
      "source": [
        "#iterating over list\n",
        "l=[1,2,'neema','leapfrog',1]\n",
        "for item in l:\n",
        "  print(item)"
      ],
      "metadata": {
        "colab": {
          "base_uri": "https://localhost:8080/"
        },
        "id": "WD9lWnVZkv8X",
        "outputId": "3e177740-4a72-4ee4-81cd-09656b84a6bd"
      },
      "execution_count": 71,
      "outputs": [
        {
          "output_type": "stream",
          "name": "stdout",
          "text": [
            "1\n",
            "2\n",
            "neema\n",
            "leapfrog\n",
            "1\n"
          ]
        }
      ]
    },
    {
      "cell_type": "markdown",
      "source": [
        "Tuple:\n",
        "\n",
        "A tuple is similar to list but placed all items inside () and is imutable."
      ],
      "metadata": {
        "id": "9xQy17BBlhT_"
      }
    },
    {
      "cell_type": "code",
      "source": [
        "tup=('ram','shyam',10)\n",
        "print(tup)\n",
        "\n",
        "# using list\n",
        "lis=['ram','hari',20]\n",
        "print(tuple(lis))\n",
        "\n",
        "#using built-in function\n",
        "tu=tuple('Learn')\n",
        "print(tu)\n",
        "print(tu[1:3])"
      ],
      "metadata": {
        "colab": {
          "base_uri": "https://localhost:8080/"
        },
        "id": "cstSVdTylpoK",
        "outputId": "535c0345-b628-44e4-df9c-a235de1c7a9c"
      },
      "execution_count": 77,
      "outputs": [
        {
          "output_type": "stream",
          "name": "stdout",
          "text": [
            "('ram', 'shyam', 10)\n",
            "('ram', 'hari', 20)\n",
            "('L', 'e', 'a', 'r', 'n')\n",
            "('e', 'a')\n"
          ]
        }
      ]
    },
    {
      "cell_type": "code",
      "source": [
        "#tuple concatenation\n",
        "tup=('ram','shyam',10)\n",
        "tup1=('ram','hari',20)\n",
        "tup2=tup+tup1\n",
        "tup2"
      ],
      "metadata": {
        "colab": {
          "base_uri": "https://localhost:8080/"
        },
        "id": "8OlxVWNwmqDT",
        "outputId": "123a9162-8748-41b0-d15a-26a01e795f00"
      },
      "execution_count": 78,
      "outputs": [
        {
          "output_type": "execute_result",
          "data": {
            "text/plain": [
              "('ram', 'shyam', 10, 'ram', 'hari', 20)"
            ]
          },
          "metadata": {},
          "execution_count": 78
        }
      ]
    },
    {
      "cell_type": "markdown",
      "source": [
        "Python dictionary:\n",
        "\n",
        "Data structure that stores value in key:value pairs where values can be any data type, duplicate but key can't be duplicate, and is inside {}."
      ],
      "metadata": {
        "id": "IYPtYjCUoH_J"
      }
    },
    {
      "cell_type": "code",
      "source": [
        "dic={1:60,2:'Days',3:'Learning'}\n",
        "dic"
      ],
      "metadata": {
        "colab": {
          "base_uri": "https://localhost:8080/"
        },
        "id": "UDOs2H0EnANW",
        "outputId": "c4d354ff-4cc4-41e9-a7f1-a5fb98488d8c"
      },
      "execution_count": 81,
      "outputs": [
        {
          "output_type": "execute_result",
          "data": {
            "text/plain": [
              "{1: 60, 2: 'Days', 3: 'Learning'}"
            ]
          },
          "metadata": {},
          "execution_count": 81
        }
      ]
    },
    {
      "cell_type": "markdown",
      "source": [
        "Accessing dictionary items:\n",
        "\n",
        "use key within square brackets or get() method."
      ],
      "metadata": {
        "id": "vAfSRLjUpBwQ"
      }
    },
    {
      "cell_type": "code",
      "source": [
        "d = { \"name\": \"Ngima\", 1: \"Python\", (1, 2): [1,2,4] }\n",
        "\n",
        "# Access using key\n",
        "print(d[\"name\"])\n",
        "\n",
        "# Access using get()\n",
        "print(d.get(\"name\"))\n",
        "print(d.get((1,2)))"
      ],
      "metadata": {
        "colab": {
          "base_uri": "https://localhost:8080/"
        },
        "id": "ihL41kKbo0K1",
        "outputId": "54c47f14-143b-4883-baea-18ff1b36b4ce"
      },
      "execution_count": 85,
      "outputs": [
        {
          "output_type": "stream",
          "name": "stdout",
          "text": [
            "Ngima\n",
            "Ngima\n",
            "[1, 2, 4]\n"
          ]
        }
      ]
    },
    {
      "cell_type": "code",
      "source": [
        "d = { \"name\": \"Ngima\", 1: \"Python\", (1, 2): [1,2,4] }\n",
        "\n",
        "#adding a new key-value pair\n",
        "d[3]=\"Lama\"\n",
        "\n",
        "# updating an exsting one\n",
        "d[\"name\"]='Neema'\n",
        "d"
      ],
      "metadata": {
        "colab": {
          "base_uri": "https://localhost:8080/"
        },
        "id": "zdq7mlYIpiMv",
        "outputId": "186e42d0-b2f6-4894-960f-3df802ac80ea"
      },
      "execution_count": 88,
      "outputs": [
        {
          "output_type": "execute_result",
          "data": {
            "text/plain": [
              "{'name': 'Neema', 1: 'Python', (1, 2): [1, 2, 4], 3: 'Lama'}"
            ]
          },
          "metadata": {},
          "execution_count": 88
        }
      ]
    }
  ]
}