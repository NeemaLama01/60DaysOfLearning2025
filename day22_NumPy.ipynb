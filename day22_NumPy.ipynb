{
  "nbformat": 4,
  "nbformat_minor": 0,
  "metadata": {
    "colab": {
      "provenance": []
    },
    "kernelspec": {
      "name": "python3",
      "display_name": "Python 3"
    },
    "language_info": {
      "name": "python"
    }
  },
  "cells": [
    {
      "cell_type": "markdown",
      "source": [
        "#Chi-Square Distribution in NumPy\n",
        "\n",
        "It is used in statistics when squares of independent random numbers are add up which follows a standard normal distribution.\n",
        "\n",
        "Syntax: numpy.random.chisquare(df,size=None)"
      ],
      "metadata": {
        "id": "JCUcYYL4O4mY"
      }
    },
    {
      "cell_type": "code",
      "source": [
        "#a single random number\n",
        "import numpy as np\n",
        "random_num=np.random.chisquare(df=2)\n",
        "print(random_num)"
      ],
      "metadata": {
        "colab": {
          "base_uri": "https://localhost:8080/"
        },
        "id": "1tFGrxVuNU-O",
        "outputId": "73f68943-22de-4766-bd61-972613927ed5"
      },
      "execution_count": null,
      "outputs": [
        {
          "output_type": "stream",
          "name": "stdout",
          "text": [
            "2.8211026786801563\n"
          ]
        }
      ]
    },
    {
      "cell_type": "code",
      "source": [
        "#a multiple random number\n",
        "import numpy as np\n",
        "random_nums=np.random.chisquare(df=2,size=5)\n",
        "print(random_nums)"
      ],
      "metadata": {
        "colab": {
          "base_uri": "https://localhost:8080/"
        },
        "id": "trXcamhUOv8f",
        "outputId": "f4e76c24-88c3-4c4c-e19e-21f9c106af30"
      },
      "execution_count": null,
      "outputs": [
        {
          "output_type": "stream",
          "name": "stdout",
          "text": [
            "[2.71738939 1.02539781 1.32823454 1.25550775 0.74345565]\n"
          ]
        }
      ]
    },
    {
      "cell_type": "code",
      "source": [
        "#visualizing the chi-square distriubution\n",
        "\n",
        "import matplotlib.pyplot as plt\n",
        "import seaborn as sns\n",
        "\n",
        "size=1000\n",
        "df=1\n",
        "data=np.random.chisquare(df=df,size=size)\n",
        "sns.displot(data,kind='kde',color='red')\n",
        "plt.title(\"Chi-square distribution\")\n",
        "plt.xlabel('Values')\n",
        "plt.ylabel('Density')\n",
        "plt.grid()\n",
        "plt.show()"
      ],
      "metadata": {
        "colab": {
          "base_uri": "https://localhost:8080/",
          "height": 548
        },
        "id": "av1bK8uwO6M9",
        "outputId": "042fcff8-4139-4dda-8f10-6ff33f6768ea"
      },
      "execution_count": null,
      "outputs": [
        {
          "output_type": "display_data",
          "data": {
            "text/plain": [
              "<Figure size 500x500 with 1 Axes>"
            ],
            "image/png": "[encoded data removed]"
          },
          "metadata": {}
        }
      ]
    },
    {
      "cell_type": "markdown",
      "source": [
        "# Compute the mean, standard deviation, and variance"
      ],
      "metadata": {
        "id": "nIX2Q1mzhKzy"
      }
    },
    {
      "cell_type": "code",
      "source": [
        "import numpy as np\n",
        "\n",
        "array=np.arange(10)\n",
        "print(array)\n",
        "\n",
        "r1=np.mean(array)\n",
        "print(\"\\nmean:\",r1)\n",
        "\n",
        "r2=np.std(array)\n",
        "print(\"\\nstd:\",r2)\n",
        "\n",
        "r2=np.var(array)\n",
        "print(\"\\nvariance:\",r2)"
      ],
      "metadata": {
        "colab": {
          "base_uri": "https://localhost:8080/"
        },
        "id": "vMTKLrjVehGk",
        "outputId": "eb06b3f0-0edb-4959-a064-e1b419a50b90"
      },
      "execution_count": 5,
      "outputs": [
        {
          "output_type": "stream",
          "name": "stdout",
          "text": [
            "[0 1 2 3 4 5 6 7 8 9]\n",
            "\n",
            "mean: 4.5\n",
            "\n",
            "std: 2.8722813232690143\n",
            "\n",
            "variance: 8.25\n"
          ]
        }
      ]
    },
    {
      "cell_type": "markdown",
      "source": [
        "# Compute covariance matrix"
      ],
      "metadata": {
        "id": "KP5aqBbPmRVX"
      }
    },
    {
      "cell_type": "code",
      "source": [
        "array1=np.array([1,3,5,7])\n",
        "array2=np.array([2,3,4,5])\n",
        "print(\"Covaraince matrix of the two arrays:\\n\",np.cov(array1,array2))"
      ],
      "metadata": {
        "colab": {
          "base_uri": "https://localhost:8080/"
        },
        "id": "OihdERGWmRAg",
        "outputId": "a61cf30c-31ef-446d-81fd-90ed7c3c5d80"
      },
      "execution_count": 7,
      "outputs": [
        {
          "output_type": "stream",
          "name": "stdout",
          "text": [
            "Covaraince matrix of the two arrays:\n",
            " [[6.66666667 3.33333333]\n",
            " [3.33333333 1.66666667]]\n"
          ]
        }
      ]
    }
  ]
}