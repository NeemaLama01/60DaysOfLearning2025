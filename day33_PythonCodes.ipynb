{
  "nbformat": 4,
  "nbformat_minor": 0,
  "metadata": {
    "colab": {
      "provenance": []
    },
    "kernelspec": {
      "name": "python3",
      "display_name": "Python 3"
    },
    "language_info": {
      "name": "python"
    }
  },
  "cells": [
    {
      "cell_type": "markdown",
      "source": [
        "#Python Codes"
      ],
      "metadata": {
        "id": "FOKuCiAzUzX2"
      }
    },
    {
      "cell_type": "markdown",
      "source": [
        "**Find Top K Largest Numbers**"
      ],
      "metadata": {
        "id": "dORPzS0fU2eU"
      }
    },
    {
      "cell_type": "code",
      "execution_count": 1,
      "metadata": {
        "colab": {
          "base_uri": "https://localhost:8080/"
        },
        "id": "-3U9MGI-gCsu",
        "outputId": "5c0ed55f-9a21-419e-d64f-730b132f33fa"
      },
      "outputs": [
        {
          "output_type": "stream",
          "name": "stdout",
          "text": [
            "[30, 20, 15]\n"
          ]
        }
      ],
      "source": [
        "def largest_num(num,k):\n",
        "  # Sort the list in descending order (largest to smallest)\n",
        "  sorted_list=sorted(num,reverse=True)\n",
        "\n",
        "   # Return the first k elements from the sorted list\n",
        "  return sorted_list[:k]\n",
        "\n",
        "#list of numbers\n",
        "num=[5,10,15,20,30]\n",
        "k=3\n",
        "print(largest_num(num,k))"
      ]
    },
    {
      "cell_type": "markdown",
      "source": [
        "\n",
        "![Screenshot 2025-07-04 225724.png](data:image/png;base64,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)\n",
        "\n",
        "Find MSE using function."
      ],
      "metadata": {
        "id": "uU3eKiNxatvS"
      }
    },
    {
      "cell_type": "code",
      "source": [
        "def mean_sq_error(predictions,true_labels):\n",
        "  # Initialize mean squared error accumulator\n",
        "  mse = 0\n",
        "\n",
        "  # Loop through predicted and true values together\n",
        "  for pred,true in zip(predictions,true_labels):\n",
        "    # Add squared difference to mse\n",
        "    mse += (pred-true)**2\n",
        "\n",
        "  # Divide total squared error by number of predictions to get mean\n",
        "  mse= mse/len(predictions)\n",
        "  # Return final mean squared error\n",
        "  return mse\n",
        "\n",
        "predictions=[1,0,1,0,1]\n",
        "true_labels=[1,1,0,1,1]\n",
        "\n",
        "# Call the function and print the result\n",
        "print(mean_sq_error(predictions,true_labels))"
      ],
      "metadata": {
        "colab": {
          "base_uri": "https://localhost:8080/"
        },
        "id": "6-epOoAQZ8TX",
        "outputId": "869d81d8-bb50-4d06-c64e-c8541bfcd8d6"
      },
      "execution_count": 8,
      "outputs": [
        {
          "output_type": "stream",
          "name": "stdout",
          "text": [
            "0.6\n"
          ]
        }
      ]
    },
    {
      "cell_type": "markdown",
      "source": [
        "**Find Precision and Recall**\n",
        "\n",
        "Precision=TP/TP+FP\n",
        "\n",
        "Recall=TP/TP+FN"
      ],
      "metadata": {
        "id": "Q3bx_wo3d-kE"
      }
    },
    {
      "cell_type": "code",
      "source": [
        "def precision_recall(predictions,true_labels):\n",
        "  TP = 0  # True positives\n",
        "  FP = 0  # False positives\n",
        "  FN = 0  # False negatives\n",
        "\n",
        "  # Count TP, FP, FN\n",
        "  for pred,true in zip(predictions,true_labels):\n",
        "    if pred==1 and true==1:\n",
        "      TP += 1\n",
        "    elif pred ==1 and true ==0:\n",
        "      FP += 1\n",
        "    elif pred==0 and true ==1:\n",
        "      FN +=1\n",
        "  # Calculate precision safely\n",
        "  if (TP+FP>0):\n",
        "   precision=TP/(TP+FP)\n",
        "  else:\n",
        "    0\n",
        "\n",
        "  # Calculate recall safely\n",
        "  if (TP+FN>0):\n",
        "    recall=TP/(TP+FN)\n",
        "  else:\n",
        "    0\n",
        "  return precision,recall\n",
        "\n",
        "predictions=[1,0,0,1,0,1]\n",
        "true_labels=[0,1,1,0,0,1]\n",
        "\n",
        "print(precision_recall(predictions,true_labels))"
      ],
      "metadata": {
        "colab": {
          "base_uri": "https://localhost:8080/"
        },
        "id": "QgJJSWXMgkW_",
        "outputId": "8b4bad46-4464-4154-ea0d-26b4f134494f"
      },
      "execution_count": 10,
      "outputs": [
        {
          "output_type": "stream",
          "name": "stdout",
          "text": [
            "(0.3333333333333333, 0.3333333333333333)\n"
          ]
        }
      ]
    }
  ]
}