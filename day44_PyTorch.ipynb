{
  "nbformat": 4,
  "nbformat_minor": 0,
  "metadata": {
    "colab": {
      "provenance": []
    },
    "kernelspec": {
      "name": "python3",
      "display_name": "Python 3"
    },
    "language_info": {
      "name": "python"
    }
  },
  "cells": [
    {
      "cell_type": "markdown",
      "source": [
        "#Building and training Neural Networks with PyTorch\n",
        "\n",
        "A neural network is a subset of machine learning that uses the interconnected layers of nodes to process the data and find patterns.\n",
        "\n",
        "PyTorch is a Deep-Learning framework that allows us to do it.\n",
        "\n",
        "Torch.nn module is the collection that includes various pre-defined layers, activation functions, loss functions and utilities for building and training neural networks."
      ],
      "metadata": {
        "id": "M51h8n3Dxew_"
      }
    },
    {
      "cell_type": "code",
      "execution_count": 1,
      "metadata": {
        "id": "38jgigBExLVn"
      },
      "outputs": [],
      "source": [
        "# define the Neural Network Class\n",
        "import torch\n",
        "import torch.nn as nn\n",
        "\n",
        "class SimpleRNN(nn.Module):\n",
        "  def __init__(self): #constructor\n",
        "    super(SimpleRNN,self).__init__()\n",
        "    self.fc1=nn.Linear(2,4)\n",
        "    self.fc2=nn.Linear(4,1)\n",
        "  def forward(self,x):\n",
        "     x= torch.relu(self.fc1(x))\n",
        "     x= self.fc2(x)\n",
        "     return x"
      ]
    },
    {
      "cell_type": "code",
      "source": [
        "#prepare the Data using simple dataset representing XOR logic gate.\n",
        "X_train=torch.tensor([[0,0],[0,1],[1,0],[1,1]]).float()\n",
        "Y_train=torch.tensor([[0],[1],[1],[0]]).float()"
      ],
      "metadata": {
        "id": "1UPB-Qx-_5RU"
      },
      "execution_count": 7,
      "outputs": []
    },
    {
      "cell_type": "code",
      "source": [
        "# Instantiate the model, Define loss function and Optimizer.\n",
        "import torch.optim as optim\n",
        "\n",
        "model=SimpleRNN()\n",
        "loss_func=nn.MSELoss()\n",
        "optimizer=optim.SGD(model.parameters(),lr=0.1)"
      ],
      "metadata": {
        "id": "kRaVIjrBARro"
      },
      "execution_count": 8,
      "outputs": []
    },
    {
      "cell_type": "code",
      "source": [
        "#Training the Model'\n",
        "for epoch in range(100):\n",
        "    model.train()\n",
        "\n",
        "    # Forward pass\n",
        "    outputs = model(X_train)\n",
        "    loss = loss_func(outputs, Y_train)\n",
        "\n",
        "    # Backward pass and optimize\n",
        "    optimizer.zero_grad()\n",
        "    loss.backward()\n",
        "    optimizer.step()\n",
        "\n",
        "    if (epoch + 1) % 10 == 0:\n",
        "        print(f'Epoch [{epoch + 1}/10], Loss: {loss.item():.4f}')"
      ],
      "metadata": {
        "colab": {
          "base_uri": "https://localhost:8080/"
        },
        "id": "J12WZl45C49Z",
        "outputId": "0469b1b8-9dfc-4280-ac35-813f5fc3d9dd"
      },
      "execution_count": 13,
      "outputs": [
        {
          "output_type": "stream",
          "name": "stdout",
          "text": [
            "Epoch [10/10], Loss: 0.2500\n",
            "Epoch [20/10], Loss: 0.2500\n",
            "Epoch [30/10], Loss: 0.2500\n",
            "Epoch [40/10], Loss: 0.2500\n",
            "Epoch [50/10], Loss: 0.2500\n",
            "Epoch [60/10], Loss: 0.2500\n",
            "Epoch [70/10], Loss: 0.2500\n",
            "Epoch [80/10], Loss: 0.2500\n",
            "Epoch [90/10], Loss: 0.2500\n",
            "Epoch [100/10], Loss: 0.2500\n"
          ]
        }
      ]
    },
    {
      "cell_type": "code",
      "source": [
        "#testing the model\n",
        "model.eval()\n",
        "with torch.no_grad():\n",
        "    test_data = torch.tensor([[0.0, 0.0], [0.0, 1.0], [1.0, 0.0], [1.0, 1.0]])\n",
        "    predictions = model(test_data)\n",
        "    print(f'Predictions:\\n{predictions}')"
      ],
      "metadata": {
        "colab": {
          "base_uri": "https://localhost:8080/"
        },
        "id": "yQx0G7OfDoRX",
        "outputId": "b80e34a6-b45b-487e-faf6-40bd0adba68b"
      },
      "execution_count": 11,
      "outputs": [
        {
          "output_type": "stream",
          "name": "stdout",
          "text": [
            "Predictions:\n",
            "tensor([[0.5080],\n",
            "        [0.5005],\n",
            "        [0.5005],\n",
            "        [0.4930]])\n"
          ]
        }
      ]
    }
  ]
}