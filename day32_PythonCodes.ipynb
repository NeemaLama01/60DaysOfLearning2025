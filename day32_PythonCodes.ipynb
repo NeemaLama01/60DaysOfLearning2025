{
  "nbformat": 4,
  "nbformat_minor": 0,
  "metadata": {
    "colab": {
      "provenance": []
    },
    "kernelspec": {
      "name": "python3",
      "display_name": "Python 3"
    },
    "language_info": {
      "name": "python"
    }
  },
  "cells": [
    {
      "cell_type": "markdown",
      "source": [
        "# Python Codes"
      ],
      "metadata": {
        "id": "v3HgKzgVpD7-"
      }
    },
    {
      "cell_type": "markdown",
      "source": [
        "1. Normalize a NumPy Array"
      ],
      "metadata": {
        "id": "PPvtVkn_keks"
      }
    },
    {
      "cell_type": "code",
      "execution_count": 2,
      "metadata": {
        "colab": {
          "base_uri": "https://localhost:8080/"
        },
        "id": "r9KAmF81kUM5",
        "outputId": "88fa88d1-2990-4431-e505-1cc282145106"
      },
      "outputs": [
        {
          "output_type": "stream",
          "name": "stdout",
          "text": [
            "[0.11111111 0.33333333 0.77777778 0.         1.        ]\n"
          ]
        }
      ],
      "source": [
        "# use min-max normalization\n",
        "#import required library\n",
        "import numpy as np\n",
        "\n",
        "#define function\n",
        "def normalize_array(arr):\n",
        "  min_val=np.min(arr)\n",
        "  max_val=np.max(arr)\n",
        "  return(arr-min_val)/(max_val-min_val)\n",
        "\n",
        "#initialize an array\n",
        "a=np.array([2,4,8,1,10])\n",
        "#calling function\n",
        "print(normalize_array(a))"
      ]
    },
    {
      "cell_type": "markdown",
      "source": [
        "2. Normalize a list of numbers to range [0, 1]."
      ],
      "metadata": {
        "id": "ArG4tmUuqkM6"
      }
    },
    {
      "cell_type": "code",
      "source": [
        "# use min-max normalization\n",
        "#import required library\n",
        "import numpy as np\n",
        "\n",
        "#define function\n",
        "def normalize_array(arr):\n",
        "  #converting to array as list doesn't support element wise operation\n",
        "  arr=np.array(lis)\n",
        "  min_val=np.min(arr)\n",
        "  max_val=np.max(arr)\n",
        "  return(arr-min_val)/(max_val-min_val)\n",
        "\n",
        "#initialize a list\n",
        "lis=[2,4,8,1,10]\n",
        "#calling function\n",
        "print(normalize_array(lis))"
      ],
      "metadata": {
        "colab": {
          "base_uri": "https://localhost:8080/"
        },
        "id": "UQA96oi5qmOb",
        "outputId": "f8862088-f72e-4694-8764-62bdec38ad1e"
      },
      "execution_count": 6,
      "outputs": [
        {
          "output_type": "stream",
          "name": "stdout",
          "text": [
            "[0.11111111 0.33333333 0.77777778 0.         1.        ]\n"
          ]
        }
      ]
    },
    {
      "cell_type": "markdown",
      "source": [
        "3. Find the maximum number in a list."
      ],
      "metadata": {
        "id": "jvmt5ZzFr7Pu"
      }
    },
    {
      "cell_type": "code",
      "source": [
        "def max_num(lis):\n",
        "  max_num=lis[0]\n",
        "  for num in lis:\n",
        "    if num>max_num:\n",
        "      max_num=num\n",
        "  return max_num\n",
        "\n",
        "lis=[20,4,7,8,1]\n",
        "print(f\"Maximum number in a list:{max_num(lis)}\")"
      ],
      "metadata": {
        "colab": {
          "base_uri": "https://localhost:8080/"
        },
        "id": "P3IElje1r5q-",
        "outputId": "533cb438-6ecb-4ac7-dd43-e7c795c17c19"
      },
      "execution_count": 9,
      "outputs": [
        {
          "output_type": "stream",
          "name": "stdout",
          "text": [
            "Maximum number in a list:20\n"
          ]
        }
      ]
    },
    {
      "cell_type": "markdown",
      "source": [
        "4. Print the prime numbers only using a function."
      ],
      "metadata": {
        "id": "LMM2bwJTSZgE"
      }
    },
    {
      "cell_type": "code",
      "source": [
        "import math # Import math module for mathematical functions like sqrt\n",
        "\n",
        "def is_prime(number):\n",
        "  # Check if the number is less than 2, which are not prime\n",
        "  if number < 2:\n",
        "    return False\n",
        "   # Loop from 2 to the square root of the number (inclusive)\n",
        "  for i in range(2,int(math.sqrt(number)+1)):\n",
        "    if number % i !=0:\n",
        "      # If no divisor found, number is prime\n",
        "      return False\n",
        "  return True\n",
        "\n",
        "# List of numbers to check\n",
        "lis=[5,6,7,8,2]\n",
        "# Loop through each number in the list\n",
        "for num in lis:\n",
        "  # Check if the number is prime\n",
        "  if is_prime(num):\n",
        "   print(num) # Print the number if it is prime"
      ],
      "metadata": {
        "colab": {
          "base_uri": "https://localhost:8080/"
        },
        "id": "2D6UsJ4n-b6h",
        "outputId": "0dff77ba-8917-4417-8239-d80e708c3b39"
      },
      "execution_count": 19,
      "outputs": [
        {
          "output_type": "stream",
          "name": "stdout",
          "text": [
            "6\n",
            "8\n",
            "2\n"
          ]
        }
      ]
    },
    {
      "cell_type": "markdown",
      "source": [
        "5. Implement a Sigmoid function\n",
        "\n",
        "σ(x)= 1/1+e ^-x"
      ],
      "metadata": {
        "id": "CUta1-6oDCqI"
      }
    },
    {
      "cell_type": "code",
      "source": [
        "import math\n",
        "def sigmoid_fun(x):\n",
        "  return 1/(1+math.exp(-x))\n",
        "print(sigmoid_fun(0))\n",
        "print(sigmoid_fun(1))"
      ],
      "metadata": {
        "colab": {
          "base_uri": "https://localhost:8080/"
        },
        "id": "QBE3LOZmRzyL",
        "outputId": "30073961-827c-4ff6-a925-f2ff38e36817"
      },
      "execution_count": 22,
      "outputs": [
        {
          "output_type": "stream",
          "name": "stdout",
          "text": [
            "0.5\n",
            "0.7310585786300049\n"
          ]
        }
      ]
    }
  ]
}