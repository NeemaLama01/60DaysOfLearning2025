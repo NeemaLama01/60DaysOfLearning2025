{
  "nbformat": 4,
  "nbformat_minor": 0,
  "metadata": {
    "colab": {
      "provenance": []
    },
    "kernelspec": {
      "name": "python3",
      "display_name": "Python 3"
    },
    "language_info": {
      "name": "python"
    }
  },
  "cells": [
    {
      "cell_type": "markdown",
      "source": [
        "# NumPy Array Broadcasting\n",
        "\n",
        "It allows to perform arithmetic operations on arrays of different shapes without reshaping them."
      ],
      "metadata": {
        "id": "emO07reT3uht"
      }
    },
    {
      "cell_type": "code",
      "execution_count": 1,
      "metadata": {
        "colab": {
          "base_uri": "https://localhost:8080/"
        },
        "id": "GSCoDfXgzGeX",
        "outputId": "c90997c5-8413-4e20-b593-f9aefa6b5fbd"
      },
      "outputs": [
        {
          "output_type": "stream",
          "name": "stdout",
          "text": [
            "[[5 6]\n",
            " [6 7]]\n"
          ]
        }
      ],
      "source": [
        "import numpy as np\n",
        "array_2d=np.array([[2,3,],[3,4]])\n",
        "scalar=3\n",
        "result= array_2d + scalar\n",
        "print(result)"
      ]
    },
    {
      "cell_type": "code",
      "source": [
        "#broadcasting 1D to 2D array\n",
        "\n",
        "array_1d=np.array([3,2])\n",
        "array_2d=np.array([[2,3,],[3,4]])\n",
        "result= array_1d + array_2d\n",
        "print(result)"
      ],
      "metadata": {
        "colab": {
          "base_uri": "https://localhost:8080/"
        },
        "id": "1y4dEK3Y4Qsn",
        "outputId": "43236e0f-cb4a-48dc-805d-9fc6346396ba"
      },
      "execution_count": 3,
      "outputs": [
        {
          "output_type": "stream",
          "name": "stdout",
          "text": [
            "[[5 5]\n",
            " [6 6]]\n"
          ]
        }
      ]
    },
    {
      "cell_type": "markdown",
      "source": [
        "#Normalizing Image Data\n",
        "\n",
        "Normalizing means to center data by subtracting the mean ensuring features have zero mean, then scaling data by dividing standrad deviation.\n",
        "\n",
        "Improves numerical stability and performance of algorithms like gradient descent."
      ],
      "metadata": {
        "id": "WmMpTQuT7xnV"
      }
    },
    {
      "cell_type": "code",
      "source": [
        "image=np.array([[100, 120, 130],\n",
        "               [90, 110, 140],\n",
        "               [90, 110, 140]])\n",
        "\n",
        "mean=image.mean(axis=0)\n",
        "std=image.std(axis=0)\n",
        "normalized_image=(image-mean)/std\n",
        "print(normalized_image)"
      ],
      "metadata": {
        "colab": {
          "base_uri": "https://localhost:8080/"
        },
        "id": "uVPuSe6D4mbU",
        "outputId": "36edf689-697a-4251-c3f8-cb028b94a147"
      },
      "execution_count": 8,
      "outputs": [
        {
          "output_type": "stream",
          "name": "stdout",
          "text": [
            "[[ 1.41421356  1.41421356 -1.41421356]\n",
            " [-0.70710678 -0.70710678  0.70710678]\n",
            " [-0.70710678 -0.70710678  0.70710678]]\n"
          ]
        }
      ]
    },
    {
      "cell_type": "markdown",
      "source": [
        "# Centering Data in Machine Learning"
      ],
      "metadata": {
        "id": "oeT1y2ab9gdZ"
      }
    },
    {
      "cell_type": "code",
      "source": [
        "data=np.array([[100, 120, 130],\n",
        "               [90, 110, 140]])\n",
        "\n",
        "mean=data.mean(axis=0)\n",
        "centered_data=(image-mean)\n",
        "print(centered_data)"
      ],
      "metadata": {
        "colab": {
          "base_uri": "https://localhost:8080/"
        },
        "id": "dpWkf-dC9YEm",
        "outputId": "e5816326-17b0-4c07-866e-c64a3c9940fa"
      },
      "execution_count": 10,
      "outputs": [
        {
          "output_type": "stream",
          "name": "stdout",
          "text": [
            "[[ 5.  5. -5.]\n",
            " [-5. -5.  5.]\n",
            " [-5. -5.  5.]]\n"
          ]
        }
      ]
    },
    {
      "cell_type": "markdown",
      "source": [
        "#NumPy Arithmetic operations"
      ],
      "metadata": {
        "id": "sZuoTY8D-db7"
      }
    },
    {
      "cell_type": "code",
      "source": [
        "a=np.array([1,2,3,4,5,6,7])\n",
        "b=np.array([11,22,33,44,55,66,77])\n",
        "\n",
        "add_ans=np.add(a,b)\n",
        "sub_ans=np.subtract(b,a)\n",
        "div_ans=np.divide(a,b)\n",
        "mul_ans=np.multiply(a,b)\n",
        "pow_ans=np.power(b,a)\n",
        "\n",
        "print(add_ans)\n",
        "print(sub_ans)\n",
        "print(div_ans)\n",
        "print(mul_ans)\n",
        "print(pow_ans)"
      ],
      "metadata": {
        "colab": {
          "base_uri": "https://localhost:8080/"
        },
        "id": "VuP_mGgP-haD",
        "outputId": "e654c109-a026-4891-ec8e-e6ea5e108e1f"
      },
      "execution_count": 12,
      "outputs": [
        {
          "output_type": "stream",
          "name": "stdout",
          "text": [
            "[12 24 36 48 60 72 84]\n",
            "[10 20 30 40 50 60 70]\n",
            "[0.09090909 0.09090909 0.09090909 0.09090909 0.09090909 0.09090909\n",
            " 0.09090909]\n",
            "[ 11  44  99 176 275 396 539]\n",
            "[            11            484          35937        3748096\n",
            "      503284375    82653950016 16048523266853]\n"
          ]
        }
      ]
    },
    {
      "cell_type": "markdown",
      "source": [
        "# Aggregation functions\n",
        "\n",
        "sum,mean,min,max"
      ],
      "metadata": {
        "id": "_UPV-h6k_lUy"
      }
    },
    {
      "cell_type": "code",
      "source": [
        "a=np.array([1,2,3,4,5,6,7])\n",
        "b=np.array([11,22,33,44,55,66,77])\n",
        "res=np.sum(a)\n",
        "print(res)\n",
        "min_res=np.minimum(a,b)\n",
        "print(min_res)\n",
        "max_res=np.maximum(a,b)\n",
        "print(max_res)"
      ],
      "metadata": {
        "colab": {
          "base_uri": "https://localhost:8080/"
        },
        "id": "2kmSnV0-_zK_",
        "outputId": "eb224196-09e0-4546-8c54-4ce82ea18b13"
      },
      "execution_count": 18,
      "outputs": [
        {
          "output_type": "stream",
          "name": "stdout",
          "text": [
            "28\n",
            "[1 2 3 4 5 6 7]\n",
            "[11 22 33 44 55 66 77]\n"
          ]
        }
      ]
    }
  ]
}