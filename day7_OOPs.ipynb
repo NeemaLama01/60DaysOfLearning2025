{
  "nbformat": 4,
  "nbformat_minor": 0,
  "metadata": {
    "colab": {
      "provenance": []
    },
    "kernelspec": {
      "name": "python3",
      "display_name": "Python 3"
    },
    "language_info": {
      "name": "python"
    }
  },
  "cells": [
    {
      "cell_type": "markdown",
      "source": [
        "#Encapsulation in Python\n",
        "\n",
        "Encapsulation is the process of bundling data(attributes) and methods(functions) that operate on the data into a single unit, typically a class."
      ],
      "metadata": {
        "id": "SwSSK8lZGuPT"
      }
    },
    {
      "cell_type": "markdown",
      "source": [
        "**Public members**\n",
        "\n",
        "They are accessible from anywhere, both inside and outside class. These are default members."
      ],
      "metadata": {
        "id": "DVk8pazrHJad"
      }
    },
    {
      "cell_type": "code",
      "execution_count": null,
      "metadata": {
        "id": "bI3HjjdWGPz4",
        "colab": {
          "base_uri": "https://localhost:8080/",
          "height": 53
        },
        "outputId": "5c9ea75e-de7a-4773-f8cf-87cad05428c5"
      },
      "outputs": [
        {
          "output_type": "stream",
          "name": "stdout",
          "text": [
            "hina\n"
          ]
        },
        {
          "output_type": "execute_result",
          "data": {
            "text/plain": [
              "'hina'"
            ],
            "application/vnd.google.colaboratory.intrinsic+json": {
              "type": "string"
            }
          },
          "metadata": {},
          "execution_count": 8
        }
      ],
      "source": [
        "class Public:\n",
        "  def __init__(self):\n",
        "    self.name='hina'\n",
        "  def display_name(self):\n",
        "    print(self.name)\n",
        "obj=Public()\n",
        "obj.display_name()\n",
        "obj.name"
      ]
    },
    {
      "cell_type": "markdown",
      "source": [
        "**Protected members**\n",
        "\n",
        "They are identified with a single underscore (_). They can be accessed only within class or its subclass.\n"
      ],
      "metadata": {
        "id": "q9o_ICSALQYp"
      }
    },
    {
      "cell_type": "code",
      "source": [
        "class Protected:\n",
        "  def __init__(self):\n",
        "    self._age=18 # Protected attribute\n",
        "\n",
        "class Subclass(Protected):\n",
        "  def display_age(self):\n",
        "    return f\"Her age is {self._age}\" # accessible in sub class\n",
        "obj1=Subclass()\n",
        "print(obj1.display_age())\n",
        "print(obj1._age)"
      ],
      "metadata": {
        "colab": {
          "base_uri": "https://localhost:8080/"
        },
        "id": "U3ppy1wUMFNF",
        "outputId": "376da01d-91de-47fe-9432-5136964b8635"
      },
      "execution_count": 17,
      "outputs": [
        {
          "output_type": "stream",
          "name": "stdout",
          "text": [
            "Her age is 18\n",
            "18\n"
          ]
        }
      ]
    },
    {
      "cell_type": "markdown",
      "source": [
        "**Private members**\n",
        "\n",
        "They are identified with a double underscore(__) and can't be accessed directly from outside the class."
      ],
      "metadata": {
        "id": "e2HggbbiAgCy"
      }
    },
    {
      "cell_type": "code",
      "source": [
        "class Private:\n",
        "  def __init__(self):\n",
        "    self.__age=18 # Private attribute\n",
        "  def display_age(self):\n",
        "    return f\"Her age is {self.__age}\" # accessible through public method\n",
        "obj1=Private()\n",
        "print(obj1.display_age())\n",
        "#obj1.__age  # raises AttributeError"
      ],
      "metadata": {
        "colab": {
          "base_uri": "https://localhost:8080/"
        },
        "id": "pJSJCwGbAfdM",
        "outputId": "64b82f42-7672-48d4-e0d8-cf726f194d6a"
      },
      "execution_count": 10,
      "outputs": [
        {
          "output_type": "stream",
          "name": "stdout",
          "text": [
            "Her age is 18\n"
          ]
        }
      ]
    },
    {
      "cell_type": "markdown",
      "source": [
        "# Iterators in Python\n",
        "\n",
        "Iterators are the objects that actually perform the iteration. They implement two methods:\n",
        "\n",
        "*  __iter__()-\n",
        "initializes and returns the iterator obj itself.\n",
        "*  __next__()- retrieves the next avaiable item.\n",
        "\n"
      ],
      "metadata": {
        "id": "WcSl4vfLGNPu"
      }
    },
    {
      "cell_type": "code",
      "source": [
        "a=[2,3,'ram']\n",
        "it=iter(a)\n",
        "print(next(it))\n",
        "print(next(it))\n",
        "print(next(it))\n"
      ],
      "metadata": {
        "colab": {
          "base_uri": "https://localhost:8080/"
        },
        "id": "GoVHrMo0GzG-",
        "outputId": "e175dbd3-6c23-421e-d330-fba54c7ec694"
      },
      "execution_count": 28,
      "outputs": [
        {
          "output_type": "stream",
          "name": "stdout",
          "text": [
            "2\n",
            "3\n",
            "ram\n"
          ]
        }
      ]
    },
    {
      "cell_type": "code",
      "source": [
        "class OddNumbers:\n",
        "  def __iter__(self):\n",
        "    self.num=1\n",
        "    return self\n",
        "  def __next__(self):\n",
        "    x=self.num\n",
        "    self.num +=2\n",
        "    return x\n",
        "odd=OddNumbers()\n",
        "it=iter(odd)\n",
        "print(next(it))\n",
        "print(next(it))\n",
        "print(next(it))\n",
        "print(next(it))\n"
      ],
      "metadata": {
        "colab": {
          "base_uri": "https://localhost:8080/"
        },
        "id": "cC9EVG9fHqT2",
        "outputId": "8d0fc7fd-56ad-4801-b003-b074ae08fbc2"
      },
      "execution_count": 26,
      "outputs": [
        {
          "output_type": "stream",
          "name": "stdout",
          "text": [
            "1\n",
            "3\n",
            "5\n",
            "7\n"
          ]
        }
      ]
    },
    {
      "cell_type": "markdown",
      "source": [
        "Note: StopIteration Exception is integrated with Python’s iterator protocol which signals that the iterator has no more items to return."
      ],
      "metadata": {
        "id": "uq3UWSYbJAcR"
      }
    },
    {
      "cell_type": "code",
      "source": [
        "li = [100, 200, 300]\n",
        "it = iter(li)\n",
        "\n",
        "# Iterate until StopIteration is raised\n",
        "while True:\n",
        "    try:\n",
        "        print(next(it))\n",
        "    except StopIteration:\n",
        "        print(\"End of iteration\")\n",
        "        break"
      ],
      "metadata": {
        "colab": {
          "base_uri": "https://localhost:8080/"
        },
        "id": "wCd8Lw-VJLp_",
        "outputId": "d84b2244-e91e-4bb1-e38d-a4817968bac7"
      },
      "execution_count": 29,
      "outputs": [
        {
          "output_type": "stream",
          "name": "stdout",
          "text": [
            "100\n",
            "200\n",
            "300\n",
            "End of iteration\n"
          ]
        }
      ]
    }
  ]
}