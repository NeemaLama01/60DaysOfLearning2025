{
  "nbformat": 4,
  "nbformat_minor": 0,
  "metadata": {
    "colab": {
      "provenance": []
    },
    "kernelspec": {
      "name": "python3",
      "display_name": "Python 3"
    },
    "language_info": {
      "name": "python"
    }
  },
  "cells": [
    {
      "cell_type": "markdown",
      "source": [
        "# File handling in Python\n",
        "\n",
        "It is the process of performing operations on file via programming interface such as create, open, read, write and close it."
      ],
      "metadata": {
        "id": "nNZofBqYuhNc"
      }
    },
    {
      "cell_type": "code",
      "source": [
        "# open file and read\n",
        "file= open('/content/myfile.txt','r')\n",
        "content=file.read()  # reads entire content of a file\n",
        "print(content)\n",
        "file.close()"
      ],
      "metadata": {
        "colab": {
          "base_uri": "https://localhost:8080/"
        },
        "id": "8Ip4Ewf9vOix",
        "outputId": "921ccb82-f42f-4d9a-add5-ed69070bdbd7"
      },
      "execution_count": 7,
      "outputs": [
        {
          "output_type": "stream",
          "name": "stdout",
          "text": [
            "Hi I am Ngima\n",
            "Iamdoing60DaysChallenge\n",
            "123 245 789\n"
          ]
        }
      ]
    },
    {
      "cell_type": "code",
      "source": [
        "file= open('/content/myfile.txt','rb') #reading a file in binary mode\n",
        "content=file.read()\n",
        "print(content)\n",
        "file.close()"
      ],
      "metadata": {
        "colab": {
          "base_uri": "https://localhost:8080/"
        },
        "id": "rdmBz7z5v3rX",
        "outputId": "ae96ebbf-ecae-4a79-ded6-712e8a333659"
      },
      "execution_count": 8,
      "outputs": [
        {
          "output_type": "stream",
          "name": "stdout",
          "text": [
            "b'Hi I am Ngima\\r\\nIamdoing60DaysChallenge\\r\\n123 245 789'\n"
          ]
        }
      ]
    },
    {
      "cell_type": "code",
      "source": [
        "file=open('/content/myfile.txt','w') # write to a file mode\n",
        "file.write('hehe') # write to a file\n",
        "file.close()"
      ],
      "metadata": {
        "id": "cOvJha36wILs"
      },
      "execution_count": 12,
      "outputs": []
    },
    {
      "cell_type": "markdown",
      "source": [
        "Note: write to a file erases existing content and writes and if not exists it creates."
      ],
      "metadata": {
        "id": "0IdEz0O9xOXt"
      }
    },
    {
      "cell_type": "code",
      "source": [
        "file=open('/content/myfile.txt','a') # write to a file in append mode\n",
        "file.write('haha') # write to a file\n",
        "file.close()"
      ],
      "metadata": {
        "id": "JHYBK79JwqtI"
      },
      "execution_count": 13,
      "outputs": []
    },
    {
      "cell_type": "markdown",
      "source": [
        "Note: writing to a file in append mode adds specified string to end of file without erasing the content"
      ],
      "metadata": {
        "id": "oq5cxg4Uxb9I"
      }
    },
    {
      "cell_type": "code",
      "source": [
        "file = open(\"/content/myfile.txt\", \"r\")\n",
        "print(file.read())\n",
        "file.close()"
      ],
      "metadata": {
        "colab": {
          "base_uri": "https://localhost:8080/"
        },
        "id": "XVw4ANEEx23z",
        "outputId": "fb388275-c27e-4f77-fa53-a345ba641216"
      },
      "execution_count": 16,
      "outputs": [
        {
          "output_type": "stream",
          "name": "stdout",
          "text": [
            "hehehaha\n"
          ]
        }
      ]
    },
    {
      "cell_type": "markdown",
      "source": [
        "Note: closing a file ensures all resources used by file are released and changes made to file are saved."
      ],
      "metadata": {
        "id": "Ke4Xab7ZxbXk"
      }
    },
    {
      "cell_type": "markdown",
      "source": [
        "**Using with Statement**\n",
        "\n",
        "with statement is used for resource managemnt. with open() methd automatically handles closing the file once block of code is exited even if error occurs."
      ],
      "metadata": {
        "id": "fMW-Crfyyowl"
      }
    },
    {
      "cell_type": "code",
      "source": [
        "with open('/content/myfile.txt','r') as file:\n",
        "  content=file.read()"
      ],
      "metadata": {
        "id": "zJ4MNz-YyW4P"
      },
      "execution_count": 17,
      "outputs": []
    },
    {
      "cell_type": "markdown",
      "source": [
        "**Handling Eceptions when closing a file**"
      ],
      "metadata": {
        "id": "5NZ9CR8VzDyP"
      }
    },
    {
      "cell_type": "code",
      "source": [
        "try:\n",
        "  file=open('/content/myfile.txt','r')\n",
        "  content=file.read()\n",
        "  print(content)\n",
        "except OSError as e:\n",
        "  print(e)\n",
        "finally:\n",
        "  file.close()"
      ],
      "metadata": {
        "colab": {
          "base_uri": "https://localhost:8080/"
        },
        "id": "GURicGofzI5o",
        "outputId": "447fd92e-b630-47a9-c89d-1092834cc6d4"
      },
      "execution_count": 20,
      "outputs": [
        {
          "output_type": "stream",
          "name": "stdout",
          "text": [
            "hehehaha\n"
          ]
        }
      ]
    },
    {
      "cell_type": "code",
      "source": [
        "import os\n",
        "cwd = os.getcwd()\n",
        "print(\"Current working directory:\", cwd)"
      ],
      "metadata": {
        "colab": {
          "base_uri": "https://localhost:8080/"
        },
        "id": "0ZYi23Wq3eI6",
        "outputId": "7c495dc0-3f60-4c05-defd-01b1df4cd4bd"
      },
      "execution_count": 24,
      "outputs": [
        {
          "output_type": "stream",
          "name": "stdout",
          "text": [
            "Current working directory: /content\n"
          ]
        }
      ]
    }
  ]
}