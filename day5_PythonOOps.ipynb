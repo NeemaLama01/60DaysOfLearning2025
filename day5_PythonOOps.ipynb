{
  "nbformat": 4,
  "nbformat_minor": 0,
  "metadata": {
    "colab": {
      "provenance": []
    },
    "kernelspec": {
      "name": "python3",
      "display_name": "Python 3"
    },
    "language_info": {
      "name": "python"
    }
  },
  "cells": [
    {
      "cell_type": "markdown",
      "source": [
        "#Python Classes and Objects\n",
        "\n",
        "A class is a user-defined template for creating objects.\n",
        "\n",
        "Attributes are the variable defined inside the class and represent the properties of the class.\n",
        "They can be accessed using dot . operator."
      ],
      "metadata": {
        "id": "YQWiKWRSq-DX"
      }
    },
    {
      "cell_type": "code",
      "execution_count": null,
      "metadata": {
        "colab": {
          "base_uri": "https://localhost:8080/",
          "height": 35
        },
        "id": "Wjyw-BYPq0-m",
        "outputId": "0a2f045c-2a0d-4c6d-ddc3-c463bcd49db7"
      },
      "outputs": [
        {
          "output_type": "execute_result",
          "data": {
            "text/plain": [
              "'meow'"
            ],
            "application/vnd.google.colaboratory.intrinsic+json": {
              "type": "string"
            }
          },
          "metadata": {},
          "execution_count": 2
        }
      ],
      "source": [
        "# creating a class\n",
        "class Cat:\n",
        "  sound= \"meow\" # class attribute shared by all instances"
      ]
    },
    {
      "cell_type": "markdown",
      "source": [
        "Object\n",
        "\n",
        "An object is an instance of a Class."
      ],
      "metadata": {
        "id": "WVPgPV2usGwo"
      }
    },
    {
      "cell_type": "code",
      "source": [
        "class Cat:\n",
        "  sound =\"meow\"\n",
        "\n",
        "cat1=Cat() # obj creation from the class\n",
        "print(cat1.sound) # access the class attribute"
      ],
      "metadata": {
        "colab": {
          "base_uri": "https://localhost:8080/"
        },
        "id": "eliDFRoBr_p5",
        "outputId": "78afaeb2-d5cd-425c-af9e-a82166261e63"
      },
      "execution_count": null,
      "outputs": [
        {
          "output_type": "stream",
          "name": "stdout",
          "text": [
            "meow\n"
          ]
        }
      ]
    },
    {
      "cell_type": "markdown",
      "source": [
        "__init__ function:\n",
        "\n",
        "Class has __init__ function which automatically initializes obj attributes when an obj is created."
      ],
      "metadata": {
        "id": "ZhOdixmFwBBQ"
      }
    },
    {
      "cell_type": "code",
      "source": [
        "class Cat:\n",
        "  species=\"Tuxedo\" # class attribute\n",
        "\n",
        "  def __init__(self,name,age):\n",
        "    #self parameter is a reference to the current instance of the class.\n",
        "    self.nam=name # Instance attribute\n",
        "    self.age=age\n",
        "\n",
        "#creates an obj of Cat Class\n",
        "cat1= Cat(\"Oreo\",1)\n",
        "print(cat1.nam)\n",
        "print(cat1.age)\n",
        "print(cat1.species)"
      ],
      "metadata": {
        "colab": {
          "base_uri": "https://localhost:8080/"
        },
        "id": "gsUWWYU5sFn6",
        "outputId": "fd31b22b-e444-46c0-aa1b-10f55dc512ac"
      },
      "execution_count": null,
      "outputs": [
        {
          "output_type": "stream",
          "name": "stdout",
          "text": [
            "Oreo\n",
            "1\n",
            "Tuxedo\n"
          ]
        }
      ]
    },
    {
      "cell_type": "markdown",
      "source": [
        "__str__ Method:\n",
        "\n",
        "It allows to define a custom string representation of an obj."
      ],
      "metadata": {
        "id": "wqpirwrew8sb"
      }
    },
    {
      "cell_type": "code",
      "source": [
        "class Cat:\n",
        "\n",
        "  def __init__(self,name,age):\n",
        "    #self parameter is a reference to the current instance of the class.\n",
        "    self.nam=name # Instance attribute\n",
        "    self.age=age\n",
        "\n",
        "  def __str__(self):\n",
        "    return f\"{self.nam} is {self.age} years old.\"\n",
        "\n",
        "#creates objects of Cat Class\n",
        "cat1= Cat(\"Oreo\",1)\n",
        "cat2= Cat(\"Munna\",3)\n",
        "print(cat1)\n",
        "print(cat2)"
      ],
      "metadata": {
        "colab": {
          "base_uri": "https://localhost:8080/"
        },
        "id": "s9oO_eMEwQ4M",
        "outputId": "4821517f-c298-4362-ea2a-f4190b110826"
      },
      "execution_count": null,
      "outputs": [
        {
          "output_type": "stream",
          "name": "stdout",
          "text": [
            "Oreo is 1 years old.\n",
            "Munna is 3 years old.\n"
          ]
        }
      ]
    },
    {
      "cell_type": "code",
      "source": [
        "class Cat:\n",
        "  species='Tuxedo' #class variable\n",
        "\n",
        "  def __init__(self,name,age):\n",
        "    #self parameter is a reference to the current instance of the class.\n",
        "    self.nam=name # Instance variables\n",
        "    self.age=age\n",
        "\n",
        "#creates objects of Cat Class\n",
        "cat1= Cat(\"Oreo\",1)\n",
        "cat2= Cat(\"Munna\",3)\n",
        "\n",
        "print(cat1.species)\n",
        "print(cat1.nam)\n",
        "print(cat2.nam)\n",
        "\n",
        "#modify class variable\n",
        "Cat.species='ginger'\n",
        "print(cat1.species)\n",
        "print(cat2.species)\n",
        "\n",
        "# modify instance variables\n",
        "cat1.nam=\"Bond\"\n",
        "print(cat1.nam)"
      ],
      "metadata": {
        "colab": {
          "base_uri": "https://localhost:8080/"
        },
        "id": "eFkoeFsMy6be",
        "outputId": "ad780f5d-5096-4610-9312-de5d736bbb42"
      },
      "execution_count": null,
      "outputs": [
        {
          "output_type": "stream",
          "name": "stdout",
          "text": [
            "Tuxedo\n",
            "Oreo\n",
            "Munna\n",
            "ginger\n",
            "ginger\n",
            "Bond\n"
          ]
        }
      ]
    },
    {
      "cell_type": "markdown",
      "source": [
        "# Polymorphism in Python\n",
        "\n",
        "It is a foundational concept in programming that allows entities like functions, methods or operators to behave differently based on the type of data.\n",
        "\n",
        "#Polymorphism in OOps\n",
        "In OOP, polymorphism allows methods in different classes to share same name but perform distinct tasks."
      ],
      "metadata": {
        "id": "3o6xbmxC3osm"
      }
    },
    {
      "cell_type": "code",
      "source": [
        "class Shape: #parent class\n",
        "  def area(self):\n",
        "    return \"Shape can vary.\"\n",
        "\n",
        "# child class\n",
        "class Rectangle(Shape):\n",
        "  def __init__(self,length,width): # constructor\n",
        "    self.length= length\n",
        "    self.width= width\n",
        "  def area(self): #method\n",
        "    return self.length* self.width\n",
        "\n",
        "# child class\n",
        "class Circle(Shape):\n",
        "  def __init__(self,radius):  # constructor\n",
        "    self.radius=radius\n",
        "  def area(self): #method\n",
        "    return f\"Area:{3.14* self.radius ** 2} unit^2\"\n",
        "\n",
        "shape1=Rectangle(3,4)\n",
        "print(shape1.area())\n",
        "\n",
        "#list of shape objects\n",
        "shape=[Rectangle(3,4),Circle(7)]\n",
        "for shapes in shape:\n",
        "  print(shapes.area())"
      ],
      "metadata": {
        "colab": {
          "base_uri": "https://localhost:8080/"
        },
        "id": "IGmTz-ZUv8Ev",
        "outputId": "7f8f7070-2c04-4bad-c586-f99da2428559"
      },
      "execution_count": null,
      "outputs": [
        {
          "output_type": "stream",
          "name": "stdout",
          "text": [
            "12\n",
            "12\n",
            "Area:153.86 unit^2\n"
          ]
        }
      ]
    },
    {
      "cell_type": "markdown",
      "source": [
        "Note: Since for loop iterates through the list , calling area method on each object, the method to execute is determines by obj's type showcasing polymorphism."
      ],
      "metadata": {
        "id": "4jDPMOeZ7cuK"
      }
    },
    {
      "cell_type": "code",
      "source": [
        "class Animal:\n",
        "  def species(self):\n",
        "    return \"All species are beautiful.\"\n",
        "\n",
        "class Dog(Animal):\n",
        "  def species(self):\n",
        "    return \"Golden Retriver\"\n",
        "\n",
        "class Cat(Animal):\n",
        "  def species(self):\n",
        "    return \"Tuxedo\"\n",
        "\n",
        "animal=[Dog(),Cat(),Animal()]\n",
        "for animals in animal:\n",
        "  print(animals.species())"
      ],
      "metadata": {
        "colab": {
          "base_uri": "https://localhost:8080/"
        },
        "id": "YzzJj29q7zGv",
        "outputId": "0afe0ee5-5bcf-45b2-a5a0-0cbfbd187ad1"
      },
      "execution_count": null,
      "outputs": [
        {
          "output_type": "stream",
          "name": "stdout",
          "text": [
            "Golden Retriver\n",
            "Tuxedo\n",
            "All species are beautiful.\n"
          ]
        }
      ]
    }
  ]
}