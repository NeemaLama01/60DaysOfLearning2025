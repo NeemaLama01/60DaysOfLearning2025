{
  "nbformat": 4,
  "nbformat_minor": 0,
  "metadata": {
    "colab": {
      "provenance": []
    },
    "kernelspec": {
      "name": "python3",
      "display_name": "Python 3"
    },
    "language_info": {
      "name": "python"
    }
  },
  "cells": [
    {
      "cell_type": "markdown",
      "source": [
        "#PyTorch\n",
        "\n",
        "It is an open-source deep learning framework designed to simplify the process of building neural netwroks and machine learning models."
      ],
      "metadata": {
        "id": "VtHFH9_ZlAmk"
      }
    },
    {
      "cell_type": "code",
      "source": [
        "! pip install torch torchvision"
      ],
      "metadata": {
        "id": "39hc2WiK2671"
      },
      "execution_count": null,
      "outputs": []
    },
    {
      "cell_type": "code",
      "source": [
        "import torch\n",
        "\n",
        "tensor_1d=torch.tensor([1,2,3])\n",
        "print(\"1D Tensor (Vector):\")\n",
        "print(tensor_1d)\n",
        "\n",
        "tensor_2d=torch.tensor([[1,2,3],[3,4,5]])\n",
        "print(\"1D Tensor (Vector):\")\n",
        "print(tensor_1d)\n",
        "print()\n",
        "\n",
        "random_tensor=torch.rand(2,3)\n",
        "print(\"Random Tensor(2*3):\")\n",
        "print(random_tensor)\n",
        "\n",
        "zeros_tensor=torch.zeros(2,3)\n",
        "print(\"Zeros Tensor (2*3):\")\n",
        "print(zeros_tensor)\n",
        "\n",
        "ones_tensor=torch.ones(2,3)\n",
        "print(\"Ones Tensor(3*3):\")\n",
        "print(ones_tensor)"
      ],
      "metadata": {
        "colab": {
          "base_uri": "https://localhost:8080/"
        },
        "id": "pTF1z0DJm6Hf",
        "outputId": "135489f2-4499-42bf-ec73-4fd7074c16f3"
      },
      "execution_count": 8,
      "outputs": [
        {
          "output_type": "stream",
          "name": "stdout",
          "text": [
            "1D Tensor (Vector):\n",
            "tensor([1, 2, 3])\n",
            "1D Tensor (Vector):\n",
            "tensor([1, 2, 3])\n",
            "\n",
            "Random Tensor(2*3):\n",
            "tensor([[0.6988, 0.1567, 0.0654],\n",
            "        [0.0535, 0.7375, 0.4494]])\n",
            "Zeros Tensor (2*3):\n",
            "tensor([[0., 0., 0.],\n",
            "        [0., 0., 0.]])\n",
            "Ones Tensor(3*3):\n",
            "tensor([[1., 1., 1.],\n",
            "        [1., 1., 1.]])\n"
          ]
        }
      ]
    },
    {
      "cell_type": "markdown",
      "source": [
        "Tensor Operations in PyTorch: Indexing,Slicing,Reshaping."
      ],
      "metadata": {
        "id": "2T7SQQghsJLp"
      }
    },
    {
      "cell_type": "code",
      "source": [
        "import torch\n",
        "\n",
        "tensor=torch.tensor([[1,2],[3,4],[5,6]])\n",
        "\n",
        "element=tensor[1,0]\n",
        "print(f\"indexed element (Row1, Column0): {element}\")\n",
        "\n",
        "slice_tensor=tensor[:2,:]\n",
        "print(f\"Sliced tensor ( First two rows all elements): \\n {slice_tensor}\")\n",
        "\n",
        "reshaped_tensor=tensor.view(2,3)\n",
        "print(f\"Reshaped Tensor (2*3): \\n {reshaped_tensor}\")"
      ],
      "metadata": {
        "colab": {
          "base_uri": "https://localhost:8080/"
        },
        "id": "aGmFHb_Fra0Z",
        "outputId": "5410677a-4e0c-4a15-c20e-314056f08d50"
      },
      "execution_count": 14,
      "outputs": [
        {
          "output_type": "stream",
          "name": "stdout",
          "text": [
            "indexed element (Row1, Column0): 3\n",
            "Sliced tensor ( First two rows all elements): \n",
            " tensor([[1, 2],\n",
            "        [3, 4]])\n",
            "Reshaped Tensor (2*3): \n",
            " tensor([[1, 2, 3],\n",
            "        [4, 5, 6]])\n"
          ]
        }
      ]
    },
    {
      "cell_type": "markdown",
      "source": [
        "Common Tensor Functions: Broadcasting Matrix, Multiplication etc."
      ],
      "metadata": {
        "id": "H62_NT9RuUjB"
      }
    },
    {
      "cell_type": "code",
      "source": [
        "import torch\n",
        "\n",
        "tensor_a=torch.tensor([[1,2,3],[4,8,10]])\n",
        "tensor_b=torch.tensor([6,12,24])\n",
        "\n",
        "broadcasted_result=tensor_a + tensor_b\n",
        "print(f\"Broadcasted Addition result:\\n {broadcasted_result}\")\n",
        "\n",
        "matrix_mul_result=torch.matmul(tensor_a , tensor_b)\n",
        "print(f\"matrix multplication result: {matrix_mul_result}\")"
      ],
      "metadata": {
        "colab": {
          "base_uri": "https://localhost:8080/"
        },
        "id": "z27Q5Rd1tuzC",
        "outputId": "dc360005-de61-4ea1-8c76-05594d5d898c"
      },
      "execution_count": 16,
      "outputs": [
        {
          "output_type": "stream",
          "name": "stdout",
          "text": [
            "Broadcasted Addition result:\n",
            " tensor([[ 7, 14, 27],\n",
            "        [10, 20, 34]])\n",
            "matrix multplication result: tensor([102, 360])\n"
          ]
        }
      ]
    }
  ]
}