{
  "nbformat": 4,
  "nbformat_minor": 0,
  "metadata": {
    "colab": {
      "provenance": []
    },
    "kernelspec": {
      "name": "python3",
      "display_name": "Python 3"
    },
    "language_info": {
      "name": "python"
    }
  },
  "cells": [
    {
      "cell_type": "markdown",
      "source": [
        "# String manipulations in Pandas DataFrame\n",
        "\n",
        "It is the process of changing, parsing, slicing, pasting or analyzing strings."
      ],
      "metadata": {
        "id": "yJgzlvTNvq1N"
      }
    },
    {
      "cell_type": "code",
      "execution_count": 1,
      "metadata": {
        "colab": {
          "base_uri": "https://localhost:8080/"
        },
        "id": "q-QeDk7-uR4A",
        "outputId": "f3980edf-b765-44a3-e87b-7879ebf03faa"
      },
      "outputs": [
        {
          "output_type": "stream",
          "name": "stdout",
          "text": [
            "      Names       City\n",
            "0    Roshan        Ktm\n",
            "1     Shima   Lalitpur\n",
            "2      Bina  Bhaktapur\n",
            "3  Abhishek    Pokhara\n",
            "4      Ajay        Ktm\n",
            "5       NaN  Bhaktapur\n",
            "6  Pratigya    Pokhara\n"
          ]
        }
      ],
      "source": [
        "import pandas as pd\n",
        "import numpy as np\n",
        "\n",
        "data = {'Names': ['Roshan', 'Shima', 'Bina', 'Abhishek', 'Ajay', np.nan, 'Pratigya'],\n",
        "        'City': ['Ktm', 'Lalitpur', 'Bhaktapur', 'Pokhara', 'Ktm', 'Bhaktapur', 'Pokhara']}\n",
        "\n",
        "df = pd.DataFrame(data)\n",
        "print(df)"
      ]
    },
    {
      "cell_type": "code",
      "source": [
        "d_type=df.dtypes\n",
        "print(d_type)\n",
        "\n",
        "df=df.astype('string')# change column datatype\n",
        "print(df.dtypes)"
      ],
      "metadata": {
        "colab": {
          "base_uri": "https://localhost:8080/"
        },
        "id": "7Tli_Y2ywZRx",
        "outputId": "51f83376-4126-428a-f3db-1ff5a91e6890"
      },
      "execution_count": 8,
      "outputs": [
        {
          "output_type": "stream",
          "name": "stdout",
          "text": [
            "Names    object\n",
            "City     object\n",
            "dtype: object\n",
            "Names    string[python]\n",
            "City     string[python]\n",
            "dtype: object\n"
          ]
        }
      ]
    },
    {
      "cell_type": "code",
      "source": [
        "print(df['Names'].str.lower()) #converts all uppercase characters to lowercase\n",
        "print(df['Names'].str.upper()) #converts all lowercase characters to uppercase"
      ],
      "metadata": {
        "colab": {
          "base_uri": "https://localhost:8080/"
        },
        "id": "Wgj9YTVyxuCH",
        "outputId": "54b22257-6f79-440d-889f-a6452e2846ff"
      },
      "execution_count": 10,
      "outputs": [
        {
          "output_type": "stream",
          "name": "stdout",
          "text": [
            "0      roshan\n",
            "1       shima\n",
            "2        bina\n",
            "3    abhishek\n",
            "4        ajay\n",
            "5        <NA>\n",
            "6    pratigya\n",
            "Name: Names, dtype: string\n",
            "0      ROSHAN\n",
            "1       SHIMA\n",
            "2        BINA\n",
            "3    ABHISHEK\n",
            "4        AJAY\n",
            "5        <NA>\n",
            "6    PRATIGYA\n",
            "Name: Names, dtype: string\n"
          ]
        }
      ]
    },
    {
      "cell_type": "code",
      "source": [
        "df['Split_Names']=df['Names'].str.split('a') #splits each string with the given pattern\n",
        "print(df[['Names','Split_Names']])"
      ],
      "metadata": {
        "colab": {
          "base_uri": "https://localhost:8080/"
        },
        "id": "pqg1gZGo6EzA",
        "outputId": "7f01c4ea-8e29-43b9-9bb0-4d8fd8ede50c"
      },
      "execution_count": 15,
      "outputs": [
        {
          "output_type": "stream",
          "name": "stdout",
          "text": [
            "      Names   Split_Names\n",
            "0    Roshan     [Rosh, n]\n",
            "1     Shima      [Shim, ]\n",
            "2      Bina       [Bin, ]\n",
            "3  Abhishek    [Abhishek]\n",
            "4      Ajay       [Aj, y]\n",
            "5      <NA>          <NA>\n",
            "6  Pratigya  [Pr, tigy, ]\n"
          ]
        }
      ]
    },
    {
      "cell_type": "code",
      "source": [
        "len=df['Names'].str.len() #compute the length of each string\n",
        "len"
      ],
      "metadata": {
        "colab": {
          "base_uri": "https://localhost:8080/",
          "height": 304
        },
        "id": "ggYPJUJj8S0Z",
        "outputId": "3817ecf3-f893-4552-d635-83755b386d6a"
      },
      "execution_count": 16,
      "outputs": [
        {
          "output_type": "execute_result",
          "data": {
            "text/plain": [
              "0       6\n",
              "1       5\n",
              "2       4\n",
              "3       8\n",
              "4       4\n",
              "5    <NA>\n",
              "6       8\n",
              "Name: Names, dtype: Int64"
            ],
            "text/html": [
              "<div>\n",
              "<style scoped>\n",
              "    .dataframe tbody tr th:only-of-type {\n",
              "        vertical-align: middle;\n",
              "    }\n",
              "\n",
              "    .dataframe tbody tr th {\n",
              "        vertical-align: top;\n",
              "    }\n",
              "\n",
              "    .dataframe thead th {\n",
              "        text-align: right;\n",
              "    }\n",
              "</style>\n",
              "<table border=\"1\" class=\"dataframe\">\n",
              "  <thead>\n",
              "    <tr style=\"text-align: right;\">\n",
              "      <th></th>\n",
              "      <th>Names</th>\n",
              "    </tr>\n",
              "  </thead>\n",
              "  <tbody>\n",
              "    <tr>\n",
              "      <th>0</th>\n",
              "      <td>6</td>\n",
              "    </tr>\n",
              "    <tr>\n",
              "      <th>1</th>\n",
              "      <td>5</td>\n",
              "    </tr>\n",
              "    <tr>\n",
              "      <th>2</th>\n",
              "      <td>4</td>\n",
              "    </tr>\n",
              "    <tr>\n",
              "      <th>3</th>\n",
              "      <td>8</td>\n",
              "    </tr>\n",
              "    <tr>\n",
              "      <th>4</th>\n",
              "      <td>4</td>\n",
              "    </tr>\n",
              "    <tr>\n",
              "      <th>5</th>\n",
              "      <td>&lt;NA&gt;</td>\n",
              "    </tr>\n",
              "    <tr>\n",
              "      <th>6</th>\n",
              "      <td>8</td>\n",
              "    </tr>\n",
              "  </tbody>\n",
              "</table>\n",
              "</div><br><label><b>dtype:</b> Int64</label>"
            ]
          },
          "metadata": {},
          "execution_count": 16
        }
      ]
    },
    {
      "cell_type": "code",
      "source": [
        "cat=df['Names'].str.cat(sep=',') #concatenates the data-frame index elements or each string\n",
        "cat"
      ],
      "metadata": {
        "colab": {
          "base_uri": "https://localhost:8080/",
          "height": 35
        },
        "id": "IZDrjLBc8vS2",
        "outputId": "d61e6122-4215-4742-c823-1c4be1f73113"
      },
      "execution_count": 18,
      "outputs": [
        {
          "output_type": "execute_result",
          "data": {
            "text/plain": [
              "'Roshan,Shima,Bina,Abhishek,Ajay,Pratigya'"
            ],
            "application/vnd.google.colaboratory.intrinsic+json": {
              "type": "string"
            }
          },
          "metadata": {},
          "execution_count": 18
        }
      ]
    },
    {
      "cell_type": "code",
      "source": [
        "print(df['City'].str.get_dummies())"
      ],
      "metadata": {
        "colab": {
          "base_uri": "https://localhost:8080/"
        },
        "id": "FJuiK-D09DXs",
        "outputId": "f62ae627-fa85-4667-e149-a2e7d91a255c"
      },
      "execution_count": 19,
      "outputs": [
        {
          "output_type": "stream",
          "name": "stdout",
          "text": [
            "   Bhaktapur  Ktm  Lalitpur  Pokhara\n",
            "0          0    1         0        0\n",
            "1          0    0         1        0\n",
            "2          1    0         0        0\n",
            "3          0    0         0        1\n",
            "4          0    1         0        0\n",
            "5          1    0         0        0\n",
            "6          0    0         0        1\n"
          ]
        }
      ]
    }
  ]
}