{
  "nbformat": 4,
  "nbformat_minor": 0,
  "metadata": {
    "colab": {
      "provenance": []
    },
    "kernelspec": {
      "name": "python3",
      "display_name": "Python 3"
    },
    "language_info": {
      "name": "python"
    }
  },
  "cells": [
    {
      "cell_type": "code",
      "execution_count": 2,
      "metadata": {
        "colab": {
          "base_uri": "https://localhost:8080/"
        },
        "id": "bT_SErCmn9Mm",
        "outputId": "edc20ea1-4305-4855-c288-fb919633b813"
      },
      "outputs": [
        {
          "output_type": "stream",
          "name": "stdout",
          "text": [
            "Begin 60DaysOfLearning\n"
          ]
        }
      ],
      "source": [
        "#using print() function\n",
        "print(\"Begin 60DaysOfLearning\")"
      ]
    },
    {
      "cell_type": "code",
      "source": [
        "#using input() function\n",
        "name=input(\"Enter your name: \")\n",
        "print(\"Hello\",name,\"!let's start\")"
      ],
      "metadata": {
        "colab": {
          "base_uri": "https://localhost:8080/"
        },
        "id": "AWHhV06yoG_Z",
        "outputId": "a531637d-487b-46dd-8475-e944f2df1e55"
      },
      "execution_count": 4,
      "outputs": [
        {
          "output_type": "stream",
          "name": "stdout",
          "text": [
            "Enter your name: Ngima\n",
            "Hello Ngima !let's start\n"
          ]
        }
      ]
    },
    {
      "cell_type": "code",
      "source": [
        "# taking multiple inputs using split() method.\n",
        "x,y= input(\"Enter two values:\").split()\n",
        "print(\"I am learning:\",x)\n",
        "print(\"Today's my day:\",y)"
      ],
      "metadata": {
        "colab": {
          "base_uri": "https://localhost:8080/"
        },
        "id": "m3vhtJpno0bH",
        "outputId": "57fe002e-3d51-4563-b378-5e64ebd5fd1e"
      },
      "execution_count": 8,
      "outputs": [
        {
          "output_type": "stream",
          "name": "stdout",
          "text": [
            "Enter two values:python 1\n",
            "I am learning: python\n",
            "Today's my day: 1\n"
          ]
        }
      ]
    },
    {
      "cell_type": "code",
      "source": [
        "#conditional input from user\n",
        "age_input=input(\"Enter your age:\")\n",
        "age=int(age_input)\n",
        "\n",
        "#checking conditions\n",
        "if age<0:\n",
        "  print(\"Invalid age.\")\n",
        "elif age<18:\n",
        "  print(\"Minor\")\n",
        "elif age>=18 and age<65:\n",
        "  print(\"Adult\")\n",
        "else:\n",
        "  print(\"Senior Citizen\")"
      ],
      "metadata": {
        "colab": {
          "base_uri": "https://localhost:8080/"
        },
        "id": "CQrf3rEnqOUH",
        "outputId": "ebd64e74-c500-46a9-ece8-7766cc1c1a97"
      },
      "execution_count": 10,
      "outputs": [
        {
          "output_type": "stream",
          "name": "stdout",
          "text": [
            "Enter your age:21\n",
            "Adult\n"
          ]
        }
      ]
    },
    {
      "cell_type": "code",
      "source": [
        "#typecasting\n",
        "x=float(input(\"Enter a num in decimal:\"))\n",
        "print(x)"
      ],
      "metadata": {
        "colab": {
          "base_uri": "https://localhost:8080/"
        },
        "id": "84Z0BqN6saRF",
        "outputId": "e66b7e9f-f916-44ba-8536-a1682327525c"
      },
      "execution_count": 11,
      "outputs": [
        {
          "output_type": "stream",
          "name": "stdout",
          "text": [
            "Enter a num in decimal:12.2\n",
            "12.2\n"
          ]
        }
      ]
    },
    {
      "cell_type": "code",
      "source": [
        "#learning data types\n",
        "a= \"Ngima\"\n",
        "b= 1\n",
        "c = 21.2\n",
        "d=(\"leap\", \"frog\",\"Technology\")\n",
        "e=[\"60days\",\"of\",\"learning\",2025,]\n",
        "f={\"leap\":0, \"frog\":1,\"Technology\":2}\n",
        "\n",
        "print(type(a))\n",
        "print(type(b))\n",
        "print(type(c))\n",
        "print(type(d))\n",
        "print(type(e))\n",
        "print(type(f))"
      ],
      "metadata": {
        "colab": {
          "base_uri": "https://localhost:8080/"
        },
        "id": "C4nkOWmYtbNt",
        "outputId": "223902a4-b828-446b-99e5-5a1a49f84cdf"
      },
      "execution_count": 14,
      "outputs": [
        {
          "output_type": "stream",
          "name": "stdout",
          "text": [
            "<class 'str'>\n",
            "<class 'int'>\n",
            "<class 'float'>\n",
            "<class 'tuple'>\n",
            "<class 'list'>\n",
            "<class 'dict'>\n"
          ]
        }
      ]
    },
    {
      "cell_type": "code",
      "source": [
        "# using format()\n",
        "price=300.034\n",
        "print(\"Amount: Rs.{:.2f}\".format(price))"
      ],
      "metadata": {
        "colab": {
          "base_uri": "https://localhost:8080/"
        },
        "id": "k-vSZGdhuM37",
        "outputId": "e6ffc839-f58c-4419-a13b-9d4417518218"
      },
      "execution_count": 17,
      "outputs": [
        {
          "output_type": "stream",
          "name": "stdout",
          "text": [
            "Amount: Rs.300.03\n"
          ]
        }
      ]
    },
    {
      "cell_type": "code",
      "source": [
        "#using sep and end parameter\n",
        "print (\"Challenge\", end='@')\n",
        "print('learn','2025',sep='-')"
      ],
      "metadata": {
        "colab": {
          "base_uri": "https://localhost:8080/"
        },
        "id": "fJRnHWGouogr",
        "outputId": "d38d7a20-f994-4ef6-9555-1d514ad6843e"
      },
      "execution_count": 25,
      "outputs": [
        {
          "output_type": "stream",
          "name": "stdout",
          "text": [
            "Challenge@learn-2025\n"
          ]
        }
      ]
    },
    {
      "cell_type": "code",
      "source": [
        "#using f-string\n",
        "name=\"Book\"\n",
        "cost=180\n",
        "print(f\"This is a {name}. It costs Rs:{cost}\")"
      ],
      "metadata": {
        "colab": {
          "base_uri": "https://localhost:8080/"
        },
        "id": "w7MuPCq2vsrb",
        "outputId": "7fda5072-ace4-4585-ab29-1c7a0f14bb66"
      },
      "execution_count": 29,
      "outputs": [
        {
          "output_type": "stream",
          "name": "stdout",
          "text": [
            "This is a Book. It costs Rs:180\n"
          ]
        }
      ]
    },
    {
      "cell_type": "markdown",
      "source": [
        "Note:\n",
        "\n",
        "%d = integer\n",
        "\n",
        "%f = float\n",
        "\n",
        "%s= string\n",
        "\n",
        "%x= hexadecimal\n",
        "\n",
        "%o= octal"
      ],
      "metadata": {
        "id": "PTSYsVbNxAUv"
      }
    },
    {
      "cell_type": "code",
      "source": [
        "#using % operator\n",
        "name = input(\"Enter your name:\")\n",
        "age= int(input(\"Enter your grade:\"))\n",
        "score= float(input(\"Enter your score:\"))\n",
        "print(\"It's %s.I study in grade: %d. I scored: %.2f\" % (name,age,score))"
      ],
      "metadata": {
        "colab": {
          "base_uri": "https://localhost:8080/"
        },
        "id": "MfCzNVkUw3l3",
        "outputId": "ebe35bce-6c11-450f-e240-7cb781d34640"
      },
      "execution_count": 34,
      "outputs": [
        {
          "output_type": "stream",
          "name": "stdout",
          "text": [
            "Enter your name:roshni\n",
            "Enter your grade:7\n",
            "Enter your score:87.04\n",
            "It's roshni.I study in grade: 7. I scored: 87.04\n"
          ]
        }
      ]
    },
    {
      "cell_type": "code",
      "source": [
        "#python variables\n",
        "x= 10\n",
        "pet = 'puppy'\n",
        "print(x,pet)"
      ],
      "metadata": {
        "colab": {
          "base_uri": "https://localhost:8080/"
        },
        "id": "OJp0ZBPKzOT8",
        "outputId": "955b1a31-44d2-4593-d16b-3b1a3f393438"
      },
      "execution_count": 35,
      "outputs": [
        {
          "output_type": "stream",
          "name": "stdout",
          "text": [
            "10 puppy\n"
          ]
        }
      ]
    },
    {
      "cell_type": "code",
      "source": [
        "#dynamic typing, means same variable can hold different values\n",
        "x= 10\n",
        "x= \"Hi\"\n",
        "print(x)\n",
        "\n",
        "#assing same value\n",
        "a=b=c=20\n",
        "print(a,b,c)\n",
        "\n",
        "#assigning different values\n",
        "a,b,c = 10,20,\"lft\"\n",
        "print(a,b,c)"
      ],
      "metadata": {
        "colab": {
          "base_uri": "https://localhost:8080/"
        },
        "id": "pvqUINOCzu9y",
        "outputId": "6abceae2-d6c0-4347-9014-08702fd8a578"
      },
      "execution_count": 39,
      "outputs": [
        {
          "output_type": "stream",
          "name": "stdout",
          "text": [
            "Hi\n",
            "20 20 20\n",
            "10 20 lft\n"
          ]
        }
      ]
    },
    {
      "cell_type": "markdown",
      "source": [
        "Scope of variable:\n",
        "\n",
        "Two methods to define variable:\n",
        "local and global"
      ],
      "metadata": {
        "id": "f9q1ikQt4Xbm"
      }
    },
    {
      "cell_type": "code",
      "source": [
        "#local variable, means variable defined inside a function\n",
        "def fun():\n",
        "  x =\"Local\"\n",
        "  print(x)\n",
        "fun()"
      ],
      "metadata": {
        "colab": {
          "base_uri": "https://localhost:8080/"
        },
        "id": "4PXx6dfU0CKi",
        "outputId": "52c94d94-f77c-433c-9b88-f79c45ae2078"
      },
      "execution_count": 41,
      "outputs": [
        {
          "output_type": "stream",
          "name": "stdout",
          "text": [
            "Local\n"
          ]
        }
      ]
    },
    {
      "cell_type": "code",
      "source": [
        "#global variable, means variable defined outside a function\n",
        "a= \"Global\"\n",
        "def fun():\n",
        "  print(a)\n",
        "fun()\n",
        "print(a)"
      ],
      "metadata": {
        "colab": {
          "base_uri": "https://localhost:8080/"
        },
        "id": "A4By7m5o43eF",
        "outputId": "8553e445-3390-4a52-e474-6db0f99fef73"
      },
      "execution_count": 46,
      "outputs": [
        {
          "output_type": "stream",
          "name": "stdout",
          "text": [
            "Global\n",
            "Global\n"
          ]
        }
      ]
    },
    {
      "cell_type": "code",
      "source": [
        "# gobal variable modification\n",
        "a= \"Global\"\n",
        "def fun():\n",
        "  global a\n",
        "  a=\"modified\"\n",
        "  print(a)\n",
        "fun()\n",
        "print(a)"
      ],
      "metadata": {
        "colab": {
          "base_uri": "https://localhost:8080/"
        },
        "id": "bZ9iOnWi5YNo",
        "outputId": "2c8e1bd1-90fe-49cc-c2e3-70f62f49247c"
      },
      "execution_count": 48,
      "outputs": [
        {
          "output_type": "stream",
          "name": "stdout",
          "text": [
            "modified\n",
            "modified\n"
          ]
        }
      ]
    },
    {
      "cell_type": "code",
      "source": [
        "#deleting a variable\n",
        "y=2\n",
        "print(y)\n",
        "# Removing the variable using del\n",
        "del y\n",
        "# Printing y after deletion will raise an error as NameError\n",
        "print(y)"
      ],
      "metadata": {
        "colab": {
          "base_uri": "https://localhost:8080/",
          "height": 193
        },
        "id": "w0DMNxNV5rys",
        "outputId": "ea259204-a688-4d3c-911d-bbf765f9527a"
      },
      "execution_count": 51,
      "outputs": [
        {
          "output_type": "stream",
          "name": "stdout",
          "text": [
            "2\n"
          ]
        },
        {
          "output_type": "error",
          "ename": "NameError",
          "evalue": "name 'y' is not defined",
          "traceback": [
            "\u001b[0;31m---------------------------------------------------------------------------\u001b[0m",
            "\u001b[0;31mNameError\u001b[0m                                 Traceback (most recent call last)",
            "\u001b[0;32m<ipython-input-51-84297d64684e>\u001b[0m in \u001b[0;36m<cell line: 0>\u001b[0;34m()\u001b[0m\n\u001b[1;32m      4\u001b[0m \u001b[0;34m\u001b[0m\u001b[0m\n\u001b[1;32m      5\u001b[0m \u001b[0;32mdel\u001b[0m \u001b[0my\u001b[0m\u001b[0;34m\u001b[0m\u001b[0;34m\u001b[0m\u001b[0m\n\u001b[0;32m----> 6\u001b[0;31m \u001b[0mprint\u001b[0m\u001b[0;34m(\u001b[0m\u001b[0my\u001b[0m\u001b[0;34m)\u001b[0m\u001b[0;34m\u001b[0m\u001b[0;34m\u001b[0m\u001b[0m\n\u001b[0m",
            "\u001b[0;31mNameError\u001b[0m: name 'y' is not defined"
          ]
        }
      ]
    },
    {
      "cell_type": "markdown",
      "source": [
        "Python Operators:\n",
        "\n",
        "Operators: Special symbls like: -,+,*\n",
        "\n",
        "Operand: Value on which operator is applied.\n"
      ],
      "metadata": {
        "id": "xNcWWdpa7X9S"
      }
    },
    {
      "cell_type": "code",
      "source": [
        "# Arithmetic Operators\n",
        "\n",
        "a= 10\n",
        "b= 4\n",
        "print(\"Subtraction:\",a-b)\n",
        "print(\"Addition:\",a+b)\n",
        "print(\"Multiplication:\",a*b)\n",
        "print(\"Exponentiation:\",a**b)\n",
        "print(\"Division:\",a/b)\n",
        "print(\"Floor Division:\",a//b)\n",
        "print(\"Modulus:\",a%b)"
      ],
      "metadata": {
        "colab": {
          "base_uri": "https://localhost:8080/"
        },
        "id": "e9YA7XTQ6t-4",
        "outputId": "2bf5450b-01a9-4413-8b1b-3774c7f60d6e"
      },
      "execution_count": 54,
      "outputs": [
        {
          "output_type": "stream",
          "name": "stdout",
          "text": [
            "Subtraction: 6\n",
            "Addition: 14\n",
            "Multiplication: 40\n",
            "Exponentiation: 10000\n",
            "Division: 2.5\n",
            "Floor Division: 2\n",
            "Modulus: 2\n"
          ]
        }
      ]
    },
    {
      "cell_type": "code",
      "source": [
        "#Comparison Operators\n",
        "\n",
        "a= 20\n",
        "b= 30\n",
        "print(a>b)\n",
        "print(a<b)\n",
        "print(a==b)\n",
        "print(a!=b)\n",
        "print(a<=b)\n",
        "print(a>=b)"
      ],
      "metadata": {
        "colab": {
          "base_uri": "https://localhost:8080/"
        },
        "id": "Ty3XtkjC8xve",
        "outputId": "986428b3-d3e3-4747-e8a7-f6f95434ee30"
      },
      "execution_count": 55,
      "outputs": [
        {
          "output_type": "stream",
          "name": "stdout",
          "text": [
            "False\n",
            "True\n",
            "False\n",
            "True\n",
            "True\n",
            "False\n"
          ]
        }
      ]
    },
    {
      "cell_type": "code",
      "source": [
        "#Logical Operators\n",
        "\n",
        "x= True\n",
        "y= False\n",
        "print(x and y)\n",
        "print( x or y)\n",
        "print(not y)"
      ],
      "metadata": {
        "colab": {
          "base_uri": "https://localhost:8080/"
        },
        "id": "iQtVdhqu9IQU",
        "outputId": "cb10317e-ae07-461e-9afd-e92a6ac87340"
      },
      "execution_count": 56,
      "outputs": [
        {
          "output_type": "stream",
          "name": "stdout",
          "text": [
            "False\n",
            "True\n",
            "True\n"
          ]
        }
      ]
    },
    {
      "cell_type": "code",
      "source": [
        "#Bitwise Operators\n",
        "a = 10\n",
        "b= 5\n",
        "\n",
        "print(a & b)\n",
        "print(a | b)\n",
        "print(~a)\n",
        "print(a ^ b)\n",
        "print(a >> 2)\n",
        "print(a << 2)"
      ],
      "metadata": {
        "colab": {
          "base_uri": "https://localhost:8080/"
        },
        "id": "ZRVa4uy79fZT",
        "outputId": "b4a6399b-fdd9-4c30-f748-bb7b4eed3c38"
      },
      "execution_count": 57,
      "outputs": [
        {
          "output_type": "stream",
          "name": "stdout",
          "text": [
            "0\n",
            "15\n",
            "-11\n",
            "15\n",
            "2\n",
            "40\n"
          ]
        }
      ]
    },
    {
      "cell_type": "code",
      "source": [
        "#Assignment operators\n",
        "\n",
        "a = 3\n",
        "b = a\n",
        "print(b)\n",
        "b += a\n",
        "print(b)\n",
        "b -= a\n",
        "print(b)\n",
        "b *= a\n",
        "print(b)\n",
        "b <<= a\n",
        "print(b)"
      ],
      "metadata": {
        "colab": {
          "base_uri": "https://localhost:8080/"
        },
        "id": "max_HaDA-DJZ",
        "outputId": "5531565a-b678-4943-8e30-7f3714589e76"
      },
      "execution_count": 58,
      "outputs": [
        {
          "output_type": "stream",
          "name": "stdout",
          "text": [
            "3\n",
            "6\n",
            "3\n",
            "9\n",
            "72\n"
          ]
        }
      ]
    },
    {
      "cell_type": "code",
      "source": [
        "# Identity operators\n",
        "\n",
        "x = 10\n",
        "y = 20\n",
        "z = x\n",
        "print(x is not y)\n",
        "print(x is z)\n",
        "print(z is y)"
      ],
      "metadata": {
        "colab": {
          "base_uri": "https://localhost:8080/"
        },
        "id": "FYZSlv_5-lPz",
        "outputId": "50a80146-6516-4636-fdf4-222d77ea17ea"
      },
      "execution_count": 60,
      "outputs": [
        {
          "output_type": "stream",
          "name": "stdout",
          "text": [
            "True\n",
            "True\n",
            "False\n"
          ]
        }
      ]
    },
    {
      "cell_type": "code",
      "source": [
        "#Membership operators\n",
        "\n",
        "x = 22\n",
        "list = [10, 20, 30, 40, 50]\n",
        "#used not in operator\n",
        "if (x not in list):\n",
        "    print(\"x is not in the list\")\n",
        "else:\n",
        "    print(\"x is present in the list\")"
      ],
      "metadata": {
        "colab": {
          "base_uri": "https://localhost:8080/"
        },
        "id": "GpcxCNSB-5Es",
        "outputId": "93e7d012-b6fe-4ec9-f558-246fd5a2918c"
      },
      "execution_count": 63,
      "outputs": [
        {
          "output_type": "stream",
          "name": "stdout",
          "text": [
            "x is not in the list\n"
          ]
        }
      ]
    }
  ]
}