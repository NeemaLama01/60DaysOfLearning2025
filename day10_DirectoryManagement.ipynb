{
  "nbformat": 4,
  "nbformat_minor": 0,
  "metadata": {
    "colab": {
      "provenance": []
    },
    "kernelspec": {
      "name": "python3",
      "display_name": "Python 3"
    },
    "language_info": {
      "name": "python"
    }
  },
  "cells": [
    {
      "cell_type": "markdown",
      "source": [
        "# Python Directory Management\n",
        "\n",
        "It refers handling and interacting with directories(folders) on a filesystem using python. For this purpose we can use built-in modules like os, os.path,pathlib module.\n",
        "\n",
        "**os**\n",
        "\n",
        "os module provides functions to interact with operating system such as managing directories, files, processes and environment variables."
      ],
      "metadata": {
        "id": "pjzvRQFqkpxZ"
      }
    },
    {
      "cell_type": "code",
      "execution_count": 6,
      "metadata": {
        "id": "ZCfbsHBwjySm"
      },
      "outputs": [],
      "source": [
        "import os\n",
        "\n",
        "#creates single directory\n",
        "os.mkdir(\"myDirectory\")\n",
        "\n",
        "#creates nested directories\n",
        "os.makedirs('parent_directory/child_directory')"
      ]
    },
    {
      "cell_type": "code",
      "source": [
        "print(\"String format: \", os.getcwd()) #returns current working directory\n",
        "print(\"Byte string format: \",os.getcwdb())"
      ],
      "metadata": {
        "colab": {
          "base_uri": "https://localhost:8080/"
        },
        "id": "irpO5oPdmso5",
        "outputId": "bf6ffe1c-dd8d-44d9-f293-af1cccf617aa"
      },
      "execution_count": 7,
      "outputs": [
        {
          "output_type": "stream",
          "name": "stdout",
          "text": [
            "String format:  /content\n",
            "Byte string format:  b'/content'\n"
          ]
        }
      ]
    },
    {
      "cell_type": "code",
      "source": [
        "os.rename('myDirectory','renamedDirectory') #rename a directory"
      ],
      "metadata": {
        "id": "BwBx6VAZnfia"
      },
      "execution_count": null,
      "outputs": []
    },
    {
      "cell_type": "code",
      "source": [
        "os.listdir(\"..\") # returns list of files and directories"
      ],
      "metadata": {
        "colab": {
          "base_uri": "https://localhost:8080/"
        },
        "id": "c0Mpwpv8ngaQ",
        "outputId": "2ffa98f3-83ae-4250-8510-37b1385b05b6"
      },
      "execution_count": 13,
      "outputs": [
        {
          "output_type": "execute_result",
          "data": {
            "text/plain": [
              "['sys',\n",
              " 'etc',\n",
              " 'usr',\n",
              " 'proc',\n",
              " 'boot',\n",
              " 'sbin',\n",
              " 'lib64',\n",
              " 'mnt',\n",
              " 'var',\n",
              " 'srv',\n",
              " 'libx32',\n",
              " 'dev',\n",
              " 'run',\n",
              " 'lib',\n",
              " 'home',\n",
              " 'lib32',\n",
              " 'tmp',\n",
              " 'bin',\n",
              " 'media',\n",
              " 'root',\n",
              " 'opt',\n",
              " 'kaggle',\n",
              " 'content',\n",
              " '.dockerenv',\n",
              " 'datalab',\n",
              " 'tools',\n",
              " 'python-apt',\n",
              " 'python-apt.tar.xz',\n",
              " 'NGC-DL-CONTAINER-LICENSE',\n",
              " 'cuda-keyring_1.1-1_all.deb']"
            ]
          },
          "metadata": {},
          "execution_count": 13
        }
      ]
    },
    {
      "cell_type": "markdown",
      "source": [
        "Note: The \".\" referes to current directory and \"..\" refers to parent directory."
      ],
      "metadata": {
        "id": "F-T9vvNDn-6a"
      }
    },
    {
      "cell_type": "code",
      "source": [
        "import os\n",
        "# this also referes to current directory\n",
        "print(\"Files in CWD are :\",os.listdir(os.getcwd()))"
      ],
      "metadata": {
        "colab": {
          "base_uri": "https://localhost:8080/"
        },
        "id": "1DvtiN-Cnabq",
        "outputId": "dfdce67d-516b-4031-cb65-2017fcb08495"
      },
      "execution_count": 14,
      "outputs": [
        {
          "output_type": "stream",
          "name": "stdout",
          "text": [
            "Files in CWD are : ['.config', '.ipynb_checkpoints', 'renamedDirectory', 'parent_directory', 'sample_data']\n"
          ]
        }
      ]
    },
    {
      "cell_type": "code",
      "source": [
        "print(os.path.getsize(os.getcwd())) #returns size of a file in bytes"
      ],
      "metadata": {
        "colab": {
          "base_uri": "https://localhost:8080/"
        },
        "id": "JgYs358soSEJ",
        "outputId": "c727da40-b44c-4cb8-ac89-73fef782cb83"
      },
      "execution_count": 15,
      "outputs": [
        {
          "output_type": "stream",
          "name": "stdout",
          "text": [
            "4096\n"
          ]
        }
      ]
    },
    {
      "cell_type": "markdown",
      "source": [
        "**shutil module**\n",
        "\n",
        "Shutil module is a high-level file and directory management library to provide functions for copying, moving and removing files and directories."
      ],
      "metadata": {
        "id": "7mfKofZfo7eh"
      }
    },
    {
      "cell_type": "code",
      "source": [
        "import shutil\n",
        "# deletes an entire directory tree, including all its files and subdirectroies.\n",
        "shutil.rmtree('/content/parent_directory')\n",
        "print(\"Directory removed\")"
      ],
      "metadata": {
        "colab": {
          "base_uri": "https://localhost:8080/"
        },
        "id": "yiBD5xY5orWh",
        "outputId": "489b140a-e4fc-4a83-f279-fd578853ee9e"
      },
      "execution_count": 16,
      "outputs": [
        {
          "output_type": "stream",
          "name": "stdout",
          "text": [
            "Directory removed\n"
          ]
        }
      ]
    }
  ]
}