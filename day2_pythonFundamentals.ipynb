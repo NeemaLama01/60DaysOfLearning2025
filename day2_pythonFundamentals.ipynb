{
  "nbformat": 4,
  "nbformat_minor": 0,
  "metadata": {
    "colab": {
      "provenance": []
    },
    "kernelspec": {
      "name": "python3",
      "display_name": "Python 3"
    },
    "language_info": {
      "name": "python"
    }
  },
  "cells": [
    {
      "cell_type": "code",
      "execution_count": null,
      "metadata": {
        "colab": {
          "base_uri": "https://localhost:8080/"
        },
        "id": "e3GNxAV99eC9",
        "outputId": "4b7591ff-f2f5-4e93-d6fd-84325c820fbc"
      },
      "outputs": [
        {
          "output_type": "stream",
          "name": "stdout",
          "text": [
            "result: Highest\n"
          ]
        }
      ],
      "source": [
        "# short hand if-else\n",
        "score=80\n",
        "result = 'Highest' if score <= 80 else 'average'\n",
        "print(f\"result: {result}\")"
      ]
    },
    {
      "cell_type": "code",
      "source": [
        "#match case statement in python is like a switch-case in other languages\n",
        "\n",
        "num = 4\n",
        "\n",
        "match num:\n",
        "  case 1:\n",
        "    print(\"One\")\n",
        "  case 2|3:\n",
        "    print(\"Two or three\")\n",
        "  case _:\n",
        "    print(\"Other num\")"
      ],
      "metadata": {
        "id": "QJ9bUuyY-U58",
        "colab": {
          "base_uri": "https://localhost:8080/"
        },
        "outputId": "9a8d3f25-805f-49df-b4e4-54685f9098db"
      },
      "execution_count": 6,
      "outputs": [
        {
          "output_type": "stream",
          "name": "stdout",
          "text": [
            "Other num\n"
          ]
        }
      ]
    },
    {
      "cell_type": "code",
      "source": [
        "#while loop\n",
        "count = 0\n",
        "while (count <=4):\n",
        "  count += 1\n",
        "  print('AI and ML')\n",
        "else:\n",
        "  print('else')"
      ],
      "metadata": {
        "id": "C9QMUxYx-Ukn",
        "colab": {
          "base_uri": "https://localhost:8080/"
        },
        "outputId": "59d06064-0eef-4330-c4d8-e07865c54e0b"
      },
      "execution_count": 7,
      "outputs": [
        {
          "output_type": "stream",
          "name": "stdout",
          "text": [
            "AI and ML\n",
            "AI and ML\n",
            "AI and ML\n",
            "AI and ML\n",
            "AI and ML\n",
            "else\n"
          ]
        }
      ]
    },
    {
      "cell_type": "code",
      "source": [
        "# for loop\n",
        "num =4\n",
        "for i in range(num):\n",
        "  print(i)"
      ],
      "metadata": {
        "colab": {
          "base_uri": "https://localhost:8080/"
        },
        "id": "hzyDLUrRNyT_",
        "outputId": "66a09eef-f3e0-4157-9f60-67fd543c0039"
      },
      "execution_count": 11,
      "outputs": [
        {
          "output_type": "stream",
          "name": "stdout",
          "text": [
            "0\n",
            "1\n",
            "2\n",
            "3\n"
          ]
        }
      ]
    },
    {
      "cell_type": "code",
      "source": [
        "#nested loop\n",
        "for i in range(5):\n",
        "  for j in range(i):\n",
        "    print(i,end=' ')\n",
        "  print()"
      ],
      "metadata": {
        "colab": {
          "base_uri": "https://localhost:8080/"
        },
        "id": "UOfcucrBO2sQ",
        "outputId": "7041216c-159c-4c2f-cff5-d72a3cf3a2d3"
      },
      "execution_count": 18,
      "outputs": [
        {
          "output_type": "stream",
          "name": "stdout",
          "text": [
            "\n",
            "1 \n",
            "2 2 \n",
            "3 3 3 \n",
            "4 4 4 4 \n"
          ]
        }
      ]
    },
    {
      "cell_type": "code",
      "source": [
        "#defining function\n",
        "def fun():\n",
        "  print('Hello Ngima')\n",
        "fun()"
      ],
      "metadata": {
        "colab": {
          "base_uri": "https://localhost:8080/"
        },
        "id": "C5byQZn7RQGT",
        "outputId": "37e2ac78-ec72-4610-d71f-54f562f32455"
      },
      "execution_count": 19,
      "outputs": [
        {
          "output_type": "stream",
          "name": "stdout",
          "text": [
            "Hello Ngima\n"
          ]
        }
      ]
    },
    {
      "cell_type": "code",
      "source": [
        "def fun (a,b):\n",
        "  result = a-b\n",
        "  print(f\"difference between {a} and {b} is: {result}\")\n",
        "\n",
        "a= 10\n",
        "b= 4\n",
        "fun(a,b)"
      ],
      "metadata": {
        "colab": {
          "base_uri": "https://localhost:8080/"
        },
        "id": "ZQy7sXq2S73e",
        "outputId": "997c5aa6-10b6-48e4-fa3d-7e95b4ec9c2c"
      },
      "execution_count": 22,
      "outputs": [
        {
          "output_type": "stream",
          "name": "stdout",
          "text": [
            "difference between 10 and 4 is: 6\n"
          ]
        }
      ]
    },
    {
      "cell_type": "code",
      "source": [
        "def is_prime(x):\n",
        "    if x < 2:\n",
        "        return\n",
        "    for d in range(2, x):\n",
        "        if x % d == 0:\n",
        "            return\n",
        "    print(x)\n",
        "\n",
        "# print primes from 1 to 10\n",
        "for num in range(1, 10):\n",
        "    is_prime(num)\n"
      ],
      "metadata": {
        "colab": {
          "base_uri": "https://localhost:8080/"
        },
        "id": "QvbectIATkXt",
        "outputId": "6d58166c-fd39-4116-ece7-4ac1f0c51279"
      },
      "execution_count": 39,
      "outputs": [
        {
          "output_type": "stream",
          "name": "stdout",
          "text": [
            "2\n",
            "3\n",
            "5\n",
            "7\n"
          ]
        }
      ]
    },
    {
      "cell_type": "code",
      "source": [
        "# recursion in python\n",
        "def recursion(n):\n",
        "  if n ==0:\n",
        "   return 1\n",
        "  elif n ==1:\n",
        "    return 2\n",
        "  else:\n",
        "    return recursion(n-1)*recursion(n-2)\n",
        "\n",
        "print(recursion(4))"
      ],
      "metadata": {
        "colab": {
          "base_uri": "https://localhost:8080/"
        },
        "id": "q3Z61OBsZado",
        "outputId": "2274697f-8e6b-4cd2-a723-557f24ad24c8"
      },
      "execution_count": 42,
      "outputs": [
        {
          "output_type": "stream",
          "name": "stdout",
          "text": [
            "8\n"
          ]
        }
      ]
    },
    {
      "cell_type": "code",
      "source": [
        "#python inner functions\n",
        "def fun1(text):\n",
        "  def fun2():\n",
        "    print(text)\n",
        "  fun2()\n",
        "fun1(\"Hi\")"
      ],
      "metadata": {
        "colab": {
          "base_uri": "https://localhost:8080/"
        },
        "id": "Pl9aI0Efefvj",
        "outputId": "a5c6e308-6a3b-4bb1-ef1c-79bf065c87a4"
      },
      "execution_count": 45,
      "outputs": [
        {
          "output_type": "stream",
          "name": "stdout",
          "text": [
            "Hi\n"
          ]
        }
      ]
    },
    {
      "cell_type": "code",
      "source": [
        "#nonlocal modifies a variable of outer fun in inner fun\n",
        "def fun1():\n",
        "  text = 'hola'\n",
        "  def fun2():\n",
        "    nonlocal text\n",
        "    text ='amigo'\n",
        "    print(text)\n",
        "  fun2()\n",
        "  print(text)\n",
        "fun1()"
      ],
      "metadata": {
        "colab": {
          "base_uri": "https://localhost:8080/"
        },
        "id": "pt61iDZUgq5F",
        "outputId": "e1682e30-7ea1-4110-9fd4-0b13afd0fabd"
      },
      "execution_count": 55,
      "outputs": [
        {
          "output_type": "stream",
          "name": "stdout",
          "text": [
            "amigo\n",
            "amigo\n"
          ]
        }
      ]
    },
    {
      "cell_type": "markdown",
      "source": [
        "Decorators are  powerful in flexible way in python to modify or extend the behaviorof functions or methods without changing their actual code.\n",
        "\n",
        "Decorators are often used in scenarious such as logging, authentication and more."
      ],
      "metadata": {
        "id": "od-fJXFHijeQ"
      }
    },
    {
      "cell_type": "code",
      "source": [
        "#decorators in python\n",
        "def decorator(func):\n",
        "  def wrapper():\n",
        "    print('before calling function')\n",
        "    func()\n",
        "    print('after calling function')\n",
        "  return wrapper\n",
        "\n",
        "@decorator\n",
        "\n",
        "def greet():\n",
        "  print(\"Hey!\")\n",
        "\n",
        "greet()\n",
        ""
      ],
      "metadata": {
        "colab": {
          "base_uri": "https://localhost:8080/"
        },
        "id": "B3H_vYwnhglM",
        "outputId": "de8f1ae5-3dd2-4be5-d913-ab0ad660866f"
      },
      "execution_count": 60,
      "outputs": [
        {
          "output_type": "stream",
          "name": "stdout",
          "text": [
            "before calling function\n",
            "Hey!\n",
            "after calling function\n"
          ]
        }
      ]
    }
  ]
}