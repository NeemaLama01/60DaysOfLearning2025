{
  "nbformat": 4,
  "nbformat_minor": 0,
  "metadata": {
    "colab": {
      "provenance": []
    },
    "kernelspec": {
      "name": "python3",
      "display_name": "Python 3"
    },
    "language_info": {
      "name": "python"
    }
  },
  "cells": [
    {
      "cell_type": "markdown",
      "source": [
        "#Pandas Change Datatype\n",
        "\n",
        "To view type using dtype then using the astype() method to convert/change it."
      ],
      "metadata": {
        "id": "AHRrIgQXxRW_"
      }
    },
    {
      "cell_type": "code",
      "execution_count": 5,
      "metadata": {
        "colab": {
          "base_uri": "https://localhost:8080/"
        },
        "id": "tZlp6rStw_tU",
        "outputId": "a6e84f75-1115-430b-c2f4-30c6a7038ac8"
      },
      "outputs": [
        {
          "output_type": "stream",
          "name": "stdout",
          "text": [
            "int64\n",
            "0     5.0\n",
            "1    10.0\n",
            "2    15.0\n",
            "3     8.0\n",
            "4    12.0\n",
            "Name: Age, dtype: float64\n"
          ]
        }
      ],
      "source": [
        "import pandas as pd\n",
        "\n",
        "data={'Cat_Breed':['Tuxedo','Ginger','Tabby','Persian','Ragdoll'],\n",
        "      'Age':[5,10,15,8,12],\n",
        "      'Gender':['F','M','M','F','F']}\n",
        "df=pd.DataFrame(data)\n",
        "\n",
        "# view age type\n",
        "typ= df['Age'].dtype\n",
        "print(typ)\n",
        "\n",
        "# convert 'Age' into float\n",
        "df['Age']=df['Age'].astype(float)\n",
        "print(df['Age'])"
      ]
    },
    {
      "cell_type": "code",
      "source": [
        "#converting to a DateTime Type\n",
        "df['Date'] = ['2021-03-02', '2022-07-12', '2023-09-09', '2020-01-01', '2022-12-25']\n",
        "\n",
        "df['Date'].dtype\n",
        "print(df['Date'])\n",
        "\n",
        "df['Date']=pd.to_datetime(df['Date'])\n",
        "print(df.dtypes)"
      ],
      "metadata": {
        "colab": {
          "base_uri": "https://localhost:8080/"
        },
        "id": "mv1FIodezAAo",
        "outputId": "ef963748-363b-43d6-f3b7-e8e0336498d5"
      },
      "execution_count": 9,
      "outputs": [
        {
          "output_type": "stream",
          "name": "stdout",
          "text": [
            "0    2021-03-02\n",
            "1    2022-07-12\n",
            "2    2023-09-09\n",
            "3    2020-01-01\n",
            "4    2022-12-25\n",
            "Name: Date, dtype: object\n",
            "Cat_Breed            object\n",
            "Age                 float64\n",
            "Gender               object\n",
            "Date         datetime64[ns]\n",
            "dtype: object\n"
          ]
        }
      ]
    },
    {
      "cell_type": "code",
      "source": [
        "#changing multiple columns data type\n",
        "df=df.astype({'Age':'int','Date':'object'})\n",
        "print(df.dtypes)"
      ],
      "metadata": {
        "colab": {
          "base_uri": "https://localhost:8080/"
        },
        "id": "gtM5oMgP07Wu",
        "outputId": "2567ba9c-5d09-411f-a403-9b7457019f4d"
      },
      "execution_count": 10,
      "outputs": [
        {
          "output_type": "stream",
          "name": "stdout",
          "text": [
            "Cat_Breed    object\n",
            "Age           int64\n",
            "Gender       object\n",
            "Date         object\n",
            "dtype: object\n"
          ]
        }
      ]
    }
  ]
}