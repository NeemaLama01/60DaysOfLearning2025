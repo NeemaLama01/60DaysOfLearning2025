{
  "nbformat": 4,
  "nbformat_minor": 0,
  "metadata": {
    "colab": {
      "provenance": []
    },
    "kernelspec": {
      "name": "python3",
      "display_name": "Python 3"
    },
    "language_info": {
      "name": "python"
    }
  },
  "cells": [
    {
      "cell_type": "markdown",
      "source": [
        "#Inheritance in Python\n",
        "\n",
        "It is a fundamental concept in OOP that allows a class(child class) to inherit attributes and methods from another class(parent class).\n",
        "\n",
        "Syntax:\n",
        "\n",
        "**class ParentClass:**\n",
        "\n",
        "Parent class code here\n",
        "\n",
        "pass\n",
        "\n",
        "**class Childclass(ParentClass):**\n",
        "\n",
        "Child class code here\n",
        "\n",
        "pass"
      ],
      "metadata": {
        "id": "rMBrV6793Bop"
      }
    },
    {
      "cell_type": "code",
      "execution_count": 4,
      "metadata": {
        "colab": {
          "base_uri": "https://localhost:8080/"
        },
        "id": "Zadpr8Ix2u0E",
        "outputId": "b20cb52c-c457-4b1b-822b-e3ee44758bbf"
      },
      "outputs": [
        {
          "output_type": "stream",
          "name": "stdout",
          "text": [
            "Oreo meows.\n"
          ]
        }
      ],
      "source": [
        "class Animal:\n",
        "  def __init__(self,name):\n",
        "    self.name = name # initialize the name attribute\n",
        "  def speak(self):\n",
        "    pass # placeholder method to overridden by child classes\n",
        "\n",
        "# child class inheriting from Animal/parent class\n",
        "class Cat(Animal):\n",
        "  def speak(self):\n",
        "    return f\"{self.name} meows.\"\n",
        "\n",
        "#create an instance of Cat\n",
        "cat = Cat(\"Oreo\")\n",
        "print(cat.speak())"
      ]
    },
    {
      "cell_type": "code",
      "source": [
        "class Person:\n",
        "  def __init__(self,name,id): #constructor method\n",
        "    self.name=name\n",
        "    self.id=id\n",
        "  def display(self):\n",
        "    return (self.name, self.id)\n",
        "emp=Person('nima',101)\n",
        "emp.display()"
      ],
      "metadata": {
        "colab": {
          "base_uri": "https://localhost:8080/"
        },
        "id": "lB5ohwAu4bsS",
        "outputId": "443b1bd0-51fa-4e7f-fa02-2a18a2baaea0"
      },
      "execution_count": 6,
      "outputs": [
        {
          "output_type": "stream",
          "name": "stdout",
          "text": [
            "('nima', 101)\n"
          ]
        }
      ]
    },
    {
      "cell_type": "code",
      "source": [
        "class Emp(Person):\n",
        "  def Print(self): #method\n",
        "    print(\"Emp class called.\")\n",
        "\n",
        "emp1=Emp('Ngima',102)\n",
        "# calling child class function\n",
        "emp1.Print()\n",
        "#calling parent class function\n",
        "emp1.display()"
      ],
      "metadata": {
        "colab": {
          "base_uri": "https://localhost:8080/"
        },
        "id": "0W3OuyzG6BgZ",
        "outputId": "65b974d3-8b58-4f9c-f6b6-153923d78ddf"
      },
      "execution_count": 8,
      "outputs": [
        {
          "output_type": "execute_result",
          "data": {
            "text/plain": [
              "('Ngima', 102)"
            ]
          },
          "metadata": {},
          "execution_count": 8
        }
      ]
    },
    {
      "cell_type": "markdown",
      "source": [
        "#super() function\n",
        "\n",
        "It is used to call parent class's method. IT is commonly used in the child class's __init__ method() to initialize inherited attributes."
      ],
      "metadata": {
        "id": "MP9SlhR27crU"
      }
    },
    {
      "cell_type": "code",
      "source": [
        "#Single Inheritance\n",
        "class Person:\n",
        "  def __init__(self,name,id): #constructor method\n",
        "    self.name=name\n",
        "    self.id=id\n",
        "  def display(self):\n",
        "    return (self.name, self.id)\n",
        "\n",
        "class Emp(Person):\n",
        "  def __init__(self,name,id,post,salary):\n",
        "    super().__init__(name,id)\n",
        "    self.post= post\n",
        "    self.salary= salary\n",
        "  def display(self):\n",
        "    return f\"{self.name} is a {self.post} with Rs.{self.salary} salary.\"\n",
        "\n",
        "emp1=Emp('Hina',104,'Manager',90000)\n",
        "print(emp1.display())\n",
        "print(emp1.post)"
      ],
      "metadata": {
        "colab": {
          "base_uri": "https://localhost:8080/"
        },
        "id": "PevSm0yW70_G",
        "outputId": "00429d99-b70f-4695-d340-a567c22a4375"
      },
      "execution_count": 31,
      "outputs": [
        {
          "output_type": "stream",
          "name": "stdout",
          "text": [
            "Hina is a Manager with Rs.90000 salary.\n",
            "Manager\n"
          ]
        }
      ]
    },
    {
      "cell_type": "code",
      "source": [
        "#Multiple Inheritance\n",
        "class Job:\n",
        "  def __init__(self,salary):\n",
        "    self.salary=salary\n",
        "\n",
        "class Employee(Emp,Job):\n",
        "  def __init__(self,name,id,post,salary):\n",
        "    Emp.__init__(self,name,id,post,salary)\n",
        "    Job.__init__(self,salary)\n",
        "\n",
        "emp2=Employee('nima',105,'CEO',200000)\n",
        "emp2.display()"
      ],
      "metadata": {
        "colab": {
          "base_uri": "https://localhost:8080/",
          "height": 36
        },
        "id": "3wPrbGzq8HJU",
        "outputId": "267d80f9-b51d-46b3-edf3-c5395f1f62d7"
      },
      "execution_count": 30,
      "outputs": [
        {
          "output_type": "execute_result",
          "data": {
            "text/plain": [
              "'nima is a CEO with Rs.200000 salary.'"
            ],
            "application/vnd.google.colaboratory.intrinsic+json": {
              "type": "string"
            }
          },
          "metadata": {},
          "execution_count": 30
        }
      ]
    },
    {
      "cell_type": "markdown",
      "source": [
        "#Types of Python Inheritance:\n",
        "\n",
        "*   Single Inheritance-\n",
        "A child class inherits from one parent class.\n",
        "\n",
        "*   Multiple Inheritance-\n",
        "A child class inherits from more than one parent class.\n",
        "\n",
        "*   Multilevel Inheritance-\n",
        "A child class inherits from a class which is also derived from another class.\n",
        "\n",
        "*   Hierarchial Inheritance-\n",
        "Multiple classes inherit from a single parent class.\n",
        "\n",
        "*   Hybrid Inheritance-\n",
        "A combination of more than one type of inheritance.\n",
        "\n",
        "\n",
        "\n",
        "\n",
        "\n"
      ],
      "metadata": {
        "id": "pC_aY2IKCKM0"
      }
    },
    {
      "cell_type": "markdown",
      "source": [
        "#Abstract Classes in Python\n",
        "\n",
        "It is a class that can't be instantiated on its own and is designed to be a blueprint for other classes.\n",
        "\n",
        "**Abstract Base Classes**\n",
        "\n",
        "It is a class that defines methods that must be implemented by its subclasses, ensuring subclasses follow a consistent structure.\n",
        "\n",
        "Python provides the abc module to define ABCs and enforce implementation of abstract methods in subclasses."
      ],
      "metadata": {
        "id": "_Xqnybh4DdAO"
      }
    },
    {
      "cell_type": "code",
      "source": [
        "from abc import ABC, abstractmethod\n",
        "\n",
        "#define an abstract class\n",
        "class Animal(ABC):\n",
        "\n",
        "  @abstractmethod\n",
        "  def sound(self):\n",
        "    pass # abstract method, no implementation here\n",
        "\n",
        "# concrete subclass of Animal\n",
        "class Cat(Animal):\n",
        "\n",
        "  def sound(self):\n",
        "    return \"Meow\" #implementation of abstract\n",
        "\n",
        "#create an instance of Cat\n",
        "cat=Cat()\n",
        "cat.sound()"
      ],
      "metadata": {
        "colab": {
          "base_uri": "https://localhost:8080/",
          "height": 36
        },
        "id": "p9IG-zWFEvnQ",
        "outputId": "ca36699d-7da4-44aa-e39d-442ca1d2a78b"
      },
      "execution_count": 42,
      "outputs": [
        {
          "output_type": "execute_result",
          "data": {
            "text/plain": [
              "'Meow'"
            ],
            "application/vnd.google.colaboratory.intrinsic+json": {
              "type": "string"
            }
          },
          "metadata": {},
          "execution_count": 42
        }
      ]
    },
    {
      "cell_type": "markdown",
      "source": [
        "**Concrete methods**\n",
        "\n",
        "Methods having full implementations in abstract class."
      ],
      "metadata": {
        "id": "tDpKFyn6IOvK"
      }
    },
    {
      "cell_type": "code",
      "source": [
        "from abc import ABC, abstractclassmethod\n",
        "\n",
        "class Animal(ABC):\n",
        "\n",
        "  @abstractmethod\n",
        "  def sound(self):\n",
        "    pass\n",
        "\n",
        "  # concrete method with implementation\n",
        "  def species(self):\n",
        "    \"Tuxedo\"\n"
      ],
      "metadata": {
        "id": "GkPHJQOIGSfV"
      },
      "execution_count": 43,
      "outputs": []
    },
    {
      "cell_type": "markdown",
      "source": [
        "**Abstract Properties**\n",
        "\n",
        "It works like abstract methods but are used for properties. Declared with @property decorator and marked as abstract using @abstractmethod."
      ],
      "metadata": {
        "id": "zRyHqPFpIZql"
      }
    },
    {
      "cell_type": "code",
      "source": [
        "from abc import ABC, abstractmethod\n",
        "\n",
        "#define an abstract class\n",
        "class Animal(ABC):\n",
        "  @property\n",
        "  @abstractmethod\n",
        "  def sound(self):\n",
        "    pass # abstract method, no implementation here\n",
        "\n",
        "# concrete subclass of Animal\n",
        "class Cat(Animal):\n",
        "  @property\n",
        "  def sound(self):\n",
        "    return \"Meow\" #implementation of abstract\n",
        "\n",
        "#create an instance of Cat\n",
        "cat=Cat()\n",
        "cat.sound"
      ],
      "metadata": {
        "colab": {
          "base_uri": "https://localhost:8080/",
          "height": 36
        },
        "id": "WZYZHRlYILok",
        "outputId": "6cb4ee7f-2a09-4ed9-a357-14d67dbcd550"
      },
      "execution_count": 51,
      "outputs": [
        {
          "output_type": "execute_result",
          "data": {
            "text/plain": [
              "'Meow'"
            ],
            "application/vnd.google.colaboratory.intrinsic+json": {
              "type": "string"
            }
          },
          "metadata": {},
          "execution_count": 51
        }
      ]
    },
    {
      "cell_type": "markdown",
      "source": [
        "Note: Abstract properties enforce that a subclass provides the property's implementation.i.e cat.sound()\n",
        "\n"
      ],
      "metadata": {
        "id": "Qq4hB78aJwm9"
      }
    }
  ]
}