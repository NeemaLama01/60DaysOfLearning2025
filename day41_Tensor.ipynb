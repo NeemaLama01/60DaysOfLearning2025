{
  "nbformat": 4,
  "nbformat_minor": 0,
  "metadata": {
    "colab": {
      "provenance": []
    },
    "kernelspec": {
      "name": "python3",
      "display_name": "Python 3"
    },
    "language_info": {
      "name": "python"
    }
  },
  "cells": [
    {
      "cell_type": "markdown",
      "source": [
        "#Tensor and Tensor Shapes\n",
        "\n",
        "Tensors are multidimensional arrays, which are the basic building blocks used to represent a data."
      ],
      "metadata": {
        "id": "lzXBNS5Lpf0e"
      }
    },
    {
      "cell_type": "markdown",
      "source": [
        "Tensor Shape:\n",
        "\n",
        " It refers to layout or structure of a tensor which describes how many elements are along each axis of the tensor."
      ],
      "metadata": {
        "id": "vkc_g2ILp4GN"
      }
    },
    {
      "cell_type": "code",
      "execution_count": 9,
      "metadata": {
        "colab": {
          "base_uri": "https://localhost:8080/"
        },
        "id": "oQrpk-yjoarX",
        "outputId": "cc26cbd8-bbc5-4261-8a5d-525a749ca179"
      },
      "outputs": [
        {
          "output_type": "stream",
          "name": "stdout",
          "text": [
            "Tensor:\n",
            " [[1 2 3]\n",
            " [4 5 6]]\n",
            "Tensor shape:  (2, 3)\n"
          ]
        }
      ],
      "source": [
        "import tensorflow as tf\n",
        "\n",
        "#create a tensor\n",
        "tensor=tf.constant([[1,2,3],[4,5,6]])\n",
        "\n",
        "#shape of tensor\n",
        "shape=tensor.shape\n",
        "\n",
        "print(\"Tensor:\\n\", tensor.numpy())\n",
        "print(\"Tensor shape: \",shape)"
      ]
    },
    {
      "cell_type": "markdown",
      "source": [
        "Tensor Size:\n",
        "\n",
        "It referss to the total number of elements in a tensor."
      ],
      "metadata": {
        "id": "KETOekTsqer5"
      }
    },
    {
      "cell_type": "code",
      "source": [
        "# get size of the tensor\n",
        "size=tf.size(tensor)\n",
        "print(size.numpy())"
      ],
      "metadata": {
        "colab": {
          "base_uri": "https://localhost:8080/"
        },
        "id": "K68vvx05qIrf",
        "outputId": "d10ef7e3-2852-4d93-eec1-8413c5e58071"
      },
      "execution_count": 7,
      "outputs": [
        {
          "output_type": "stream",
          "name": "stdout",
          "text": [
            "6\n"
          ]
        }
      ]
    },
    {
      "cell_type": "markdown",
      "source": [
        "Tensor Rank:\n",
        "\n",
        "It is also known as the tensor's number of dimensions.\n",
        "\n",
        "Rank 0: Scalars. Represent single values.\n",
        "\n",
        "Rank 1: Vectors. Have one dimension and represent arrays of values.\n",
        "\n",
        "Rank 2: Matrices. Have two dimensions and represent 2D arrays of values.\n",
        "\n",
        "Rank 3 and above: Have three or more dimensions and represent higher-dimensional arrays of values.\n"
      ],
      "metadata": {
        "id": "y4BqESgyq7fB"
      }
    },
    {
      "cell_type": "code",
      "source": [
        "import tensorflow as tf\n",
        "\n",
        "#create tensors of different ranks\n",
        "scalar=tf.constant(5) #Rank 0 tensor\n",
        "vector=tf.constant([1,2,3]) #Rank 1 tensor\n",
        "matrix=tf.constant([[1,2],[3,4]]) #Rank 2 tensor\n",
        "tensor_3d=tf.constant([[[1,2],[6,2],[4,4]]]) #Rank 3 tensor\n",
        "\n",
        "# Get the rank of tensors\n",
        "rank_scalar = tf.rank(scalar)\n",
        "rank_vector = tf.rank(vector)\n",
        "rank_matrix = tf.rank(matrix)\n",
        "rank_3d = tf.rank(tensor_3d)\n",
        "\n",
        "print('Rank of scalar:', rank_scalar.numpy())\n",
        "print('Rank of vector:', rank_vector.numpy())\n",
        "print('Rank of matrix:', rank_matrix.numpy())\n",
        "print('Rank of 3D tensor:', rank_3d.numpy())"
      ],
      "metadata": {
        "colab": {
          "base_uri": "https://localhost:8080/"
        },
        "id": "V6hkPyhbrVpo",
        "outputId": "67b5be08-cf16-477f-d9e0-03aeae6a3ea8"
      },
      "execution_count": 10,
      "outputs": [
        {
          "output_type": "stream",
          "name": "stdout",
          "text": [
            "Rank of scalar: 0\n",
            "Rank of vector: 1\n",
            "Rank of matrix: 2\n",
            "Rank of 3D tensor: 3\n"
          ]
        }
      ]
    },
    {
      "cell_type": "markdown",
      "source": [
        "Tensor Dimension:\n",
        "\n",
        "It is length along a particular axis of tensor."
      ],
      "metadata": {
        "id": "ZQnAU8siseB9"
      }
    },
    {
      "cell_type": "code",
      "source": [
        "import tensorflow as tf\n",
        "tensor = tf.constant([[1, 2, 3], [4, 5, 6]])\n",
        "shape = tensor.shape\n",
        "\n",
        "# Get the length of the first dimension\n",
        "dim1_length = shape[0]\n",
        "\n",
        "# Get the length of the second dimension\n",
        "dim2_length = shape[1]\n",
        "\n",
        "print('Tensor shape:', shape)\n",
        "print('Length of first dimension:', dim1_length)\n",
        "print('Length of second dimension:', dim2_length)"
      ],
      "metadata": {
        "colab": {
          "base_uri": "https://localhost:8080/"
        },
        "id": "U0ZIMdtVsU0C",
        "outputId": "0edd5c5b-7498-4a36-d5a5-4367d547bbc7"
      },
      "execution_count": 11,
      "outputs": [
        {
          "output_type": "stream",
          "name": "stdout",
          "text": [
            "Tensor shape: (2, 3)\n",
            "Length of first dimension: 2\n",
            "Length of second dimension: 3\n"
          ]
        }
      ]
    }
  ]
}