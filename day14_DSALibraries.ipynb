{
  "nbformat": 4,
  "nbformat_minor": 0,
  "metadata": {
    "colab": {
      "provenance": []
    },
    "kernelspec": {
      "name": "python3",
      "display_name": "Python 3"
    },
    "language_info": {
      "name": "python"
    }
  },
  "cells": [
    {
      "cell_type": "markdown",
      "source": [
        "#Python DSA Libraries\n",
        "\n",
        "**Heap**\n",
        "\n",
        "A heap is a specialized binary tree-based data structure that satisfies the heap property which can be classified as: binary min-heaps or binary max-heaps.\n",
        "\n",
        "The 'heapq library' provides a collection of heap-based algorithms and is used to manipulate regular lists as heaps."
      ],
      "metadata": {
        "id": "kVkl8cCEGOtt"
      }
    },
    {
      "cell_type": "code",
      "execution_count": 10,
      "metadata": {
        "colab": {
          "base_uri": "https://localhost:8080/"
        },
        "id": "V_GbnZJvEUZk",
        "outputId": "d46fdea9-01e7-47df-e0fc-7fbcc4de0d2f"
      },
      "outputs": [
        {
          "output_type": "stream",
          "name": "stdout",
          "text": [
            "The created heap is: [2, 4, 6, 8, 10]\n",
            "[2, 4, 3, 8, 10, 6]\n"
          ]
        },
        {
          "output_type": "execute_result",
          "data": {
            "text/plain": [
              "2"
            ]
          },
          "metadata": {},
          "execution_count": 10
        }
      ],
      "source": [
        "import heapq\n",
        "\n",
        "#initilaizing the list\n",
        "li=[2,4,6,8,10]\n",
        "\n",
        "#using heapify to convert list into heap\n",
        "heapq.heapify(li)\n",
        "print(\"The created heap is:\",(list(li)))\n",
        "\n",
        "#adds item to the heap\n",
        "heapq.heappush(li,3)\n",
        "print(li)\n",
        "\n",
        "#returns smallest element\n",
        "heapq.heappop(li)"
      ]
    },
    {
      "cell_type": "markdown",
      "source": [
        "**Bisect**\n",
        "\n",
        "The bisect algprithm, also known as binary search is a technique to find the position where an element should be inserted into a sorted list to maintain sorted order.\n",
        "\n",
        "For this the 'bisect library' is used in python.\n"
      ],
      "metadata": {
        "id": "sI5grkyNmk87"
      }
    },
    {
      "cell_type": "code",
      "source": [
        "import bisect\n",
        "\n",
        "sorted_list=[1,2,4,6,8,9]\n",
        "new_ele=10\n",
        "\n",
        "#find the insertion point\n",
        "insertion_point=bisect.bisect_left(sorted_list,new_ele)\n",
        "#insert the element\n",
        "sorted_list.insert(insertion_point, new_ele)\n",
        "\n",
        "print(\"Sorted list after insertion: \", sorted_list)\n",
        "print(\"New element inserted at index: \",insertion_point)"
      ],
      "metadata": {
        "colab": {
          "base_uri": "https://localhost:8080/"
        },
        "id": "P_VO76tIj_dN",
        "outputId": "c2c90e17-fa2f-4c82-a4b8-be4f4b91fb5d"
      },
      "execution_count": 13,
      "outputs": [
        {
          "output_type": "stream",
          "name": "stdout",
          "text": [
            "Sorted list after insertion:  [1, 2, 4, 6, 8, 9, 10]\n",
            "New element inserted at index:  6\n"
          ]
        }
      ]
    }
  ]
}