{
  "nbformat": 4,
  "nbformat_minor": 0,
  "metadata": {
    "colab": {
      "provenance": []
    },
    "kernelspec": {
      "name": "python3",
      "display_name": "Python 3"
    },
    "language_info": {
      "name": "python"
    }
  },
  "cells": [
    {
      "cell_type": "markdown",
      "source": [
        "# Products of Vectors and Matrices in NumPy\n",
        "\n",
        "**Inner Product of Vectors and matrices**\n",
        "\n",
        "Inner product or dot product is the sum .got by multiplying matching elements of two arrays and then adding them.\n",
        "\n",
        "syntax:\n",
        "\n",
        "numpy.inner(arr1,arr2)"
      ],
      "metadata": {
        "id": "ab1fBaOv87iY"
      }
    },
    {
      "cell_type": "code",
      "execution_count": 2,
      "metadata": {
        "colab": {
          "base_uri": "https://localhost:8080/"
        },
        "id": "jHvNBCe_7ntG",
        "outputId": "d8205f8f-482d-46f3-c60b-638368d1c97f"
      },
      "outputs": [
        {
          "output_type": "stream",
          "name": "stdout",
          "text": [
            "23\n",
            "[[17 29]\n",
            " [23 38]]\n"
          ]
        }
      ],
      "source": [
        "import numpy as np\n",
        "\n",
        "a=np.array([2,3])\n",
        "b=np.array([4,5])\n",
        "print(np.inner(a,b))\n",
        "\n",
        "x=np.array([[2,3,4],[3,4,5]])\n",
        "y=np.array([[1,5,0],[2,3,4]])\n",
        "print(np.inner(x,y))\n"
      ]
    },
    {
      "cell_type": "markdown",
      "source": [
        "# Outer Product of Vectors and Matrices\n",
        "\n",
        "Outer Product of vectors creates a matrix each element is the product of elements from both vectors.\n",
        "\n",
        "syntax:\n",
        "\n",
        "numpy.outer(arr1,arr2,out=None)\n"
      ],
      "metadata": {
        "id": "t7gb8AVcFnEE"
      }
    },
    {
      "cell_type": "code",
      "source": [
        "import numpy as np\n",
        "\n",
        "a=np.array([2,3])\n",
        "b=np.array([4,5])\n",
        "print(np.outer(a,b))\n",
        "\n",
        "x=np.array([[2,3,4],[3,4,5]])\n",
        "y=np.array([[1,5,0],[2,3,4]])\n",
        "print(np.outer(x,y))"
      ],
      "metadata": {
        "colab": {
          "base_uri": "https://localhost:8080/"
        },
        "id": "WbGAZOn3FWMT",
        "outputId": "0d2e5d96-0084-4eb4-aff0-6a0119aa8df0"
      },
      "execution_count": 3,
      "outputs": [
        {
          "output_type": "stream",
          "name": "stdout",
          "text": [
            "[[ 8 10]\n",
            " [12 15]]\n",
            "[[ 2 10  0  4  6  8]\n",
            " [ 3 15  0  6  9 12]\n",
            " [ 4 20  0  8 12 16]\n",
            " [ 3 15  0  6  9 12]\n",
            " [ 4 20  0  8 12 16]\n",
            " [ 5 25  0 10 15 20]]\n"
          ]
        }
      ]
    },
    {
      "cell_type": "markdown",
      "source": [
        "**Determinant of matrix**\n",
        "\n"
      ],
      "metadata": {
        "id": "qtp8RQ49OTvm"
      }
    },
    {
      "cell_type": "code",
      "source": [
        "#using numpy.linalg.slotdet() for large matrices\n",
        "\n",
        "A=np.array([[25,10],[30,44]])\n",
        "sign,logdet=np.linalg.slogdet(A)\n",
        "res=sign*np.exp(logdet)\n",
        "print(res)"
      ],
      "metadata": {
        "colab": {
          "base_uri": "https://localhost:8080/"
        },
        "id": "OaKg1wlqMsFm",
        "outputId": "d145d0e3-975f-44cd-a1a4-235b161cc290"
      },
      "execution_count": 5,
      "outputs": [
        {
          "output_type": "stream",
          "name": "stdout",
          "text": [
            "800.0000000000006\n"
          ]
        }
      ]
    },
    {
      "cell_type": "code",
      "source": [
        "#using numpy.linalg.det()\n",
        "\n",
        "A=np.array([[1,2],[2,1]])\n",
        "res=np.linalg.det(A)\n",
        "print(res)"
      ],
      "metadata": {
        "colab": {
          "base_uri": "https://localhost:8080/"
        },
        "id": "NYmvp_PEPMdb",
        "outputId": "11d95c98-6d6b-4438-ff06-14bba14e2272"
      },
      "execution_count": 7,
      "outputs": [
        {
          "output_type": "stream",
          "name": "stdout",
          "text": [
            "-2.9999999999999996\n"
          ]
        }
      ]
    },
    {
      "cell_type": "markdown",
      "source": [
        "**Inverse matrix**\n",
        "\n",
        "The inverse of a matrix is that matrix which when multiplied with original matrix will give aan identity matrix.\n",
        "\n",
        "It only exists when matrix is non-singular.\n",
        "\n",
        "Syntax:\n",
        "\n",
        "numpy.linalg.inv(a)"
      ],
      "metadata": {
        "id": "oQSJvn0wP02B"
      }
    },
    {
      "cell_type": "code",
      "source": [
        "A=np.array([[2,4,8],\n",
        "           [3,5,8],\n",
        "           [6,8,9]])\n",
        "res=np.linalg.inv(A)\n",
        "print(res)"
      ],
      "metadata": {
        "colab": {
          "base_uri": "https://localhost:8080/"
        },
        "id": "nZZipedMQTJr",
        "outputId": "d4c62b1d-d8aa-4f4e-9b42-b638e7420405"
      },
      "execution_count": 8,
      "outputs": [
        {
          "output_type": "stream",
          "name": "stdout",
          "text": [
            "[[  9.5 -14.    4. ]\n",
            " [-10.5  15.   -4. ]\n",
            " [  3.   -4.    1. ]]\n"
          ]
        }
      ]
    }
  ]
}