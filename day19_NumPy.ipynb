{
  "nbformat": 4,
  "nbformat_minor": 0,
  "metadata": {
    "colab": {
      "provenance": []
    },
    "kernelspec": {
      "name": "python3",
      "display_name": "Python 3"
    },
    "language_info": {
      "name": "python"
    }
  },
  "cells": [
    {
      "cell_type": "markdown",
      "source": [
        "# Dot and Vdot functions\n",
        "\n",
        "**numpy.dot() in python**\n",
        "\n",
        "It returns the dot product of vectors a and b.\n",
        "If vectors are 1D then scalar is returned and if they are 2D then matrix multiplication is performed.\n"
      ],
      "metadata": {
        "id": "CVA9BQQbd9SX"
      }
    },
    {
      "cell_type": "code",
      "execution_count": 2,
      "metadata": {
        "colab": {
          "base_uri": "https://localhost:8080/"
        },
        "id": "4EBF7KzMayQp",
        "outputId": "cf9d5cfe-7afa-480b-ef67-cc5c26f66d3e"
      },
      "outputs": [
        {
          "output_type": "stream",
          "name": "stdout",
          "text": [
            "Dot product of scalar values is :3\n",
            "Dot product of 1D array is: (-6+17j)\n"
          ]
        }
      ],
      "source": [
        "import numpy as np\n",
        "\n",
        "#scalars\n",
        "product=np.dot(3,1)\n",
        "print(f\"Dot product of scalar values is :{product}\")\n",
        "\n",
        "#1D array\n",
        "vector_a= 2+3j\n",
        "vector_b=3+4j\n",
        "product1=np.dot(vector_a,vector_b)\n",
        "print(\"Dot product of 1D array is:\",product1)"
      ]
    },
    {
      "cell_type": "code",
      "source": [
        "#1D array\n",
        "a=np.array([[1,2,3],[3,4,6],[1,2,3]])\n",
        "b=np.array([[3,4,5],[1,5,7],[1,2,3]])\n",
        "product=np.dot(a,b)\n",
        "product1=np.dot(b,a)\n",
        "print(f\"Dot products are:\\n {product} and\\n {product1}\")"
      ],
      "metadata": {
        "colab": {
          "base_uri": "https://localhost:8080/"
        },
        "id": "fniPYqzngQ0R",
        "outputId": "ae49c003-bd1c-4140-efed-d0d2e7af8c97"
      },
      "execution_count": 12,
      "outputs": [
        {
          "output_type": "stream",
          "name": "stdout",
          "text": [
            "Dot products are:\n",
            " [[ 8 20 28]\n",
            " [19 44 61]\n",
            " [ 8 20 28]] and\n",
            " [[20 32 48]\n",
            " [23 36 54]\n",
            " [10 16 24]]\n"
          ]
        }
      ]
    },
    {
      "cell_type": "markdown",
      "source": [
        "**numpy.vdot() in Python**\n",
        "\n",
        "It can handle multi-dimensional arrays but works on it as flattened array."
      ],
      "metadata": {
        "id": "qhU5-OAOlLv-"
      }
    },
    {
      "cell_type": "code",
      "source": [
        "import numpy as np\n",
        "\n",
        "#scalars\n",
        "product=np.vdot(3,1)\n",
        "print(f\"Dot product of scalar values is :{product}\")\n",
        "\n",
        "#1D array\n",
        "vector_a= 2+3j\n",
        "vector_b=3+4j\n",
        "product1=np.vdot(vector_a,vector_b)\n",
        "print(\"Dot product of 1D array is:\",product1)"
      ],
      "metadata": {
        "colab": {
          "base_uri": "https://localhost:8080/"
        },
        "id": "b86M-UXJiX4T",
        "outputId": "05601b0e-5469-4efb-f900-4f490a2f9672"
      },
      "execution_count": 13,
      "outputs": [
        {
          "output_type": "stream",
          "name": "stdout",
          "text": [
            "Dot product of scalar values is :3\n",
            "Dot product of 1D array is: (18-1j)\n"
          ]
        }
      ]
    },
    {
      "cell_type": "code",
      "source": [
        "#1D array\n",
        "a=np.array([[1,2,3],[3,4,6],[1,2,3]])\n",
        "b=np.array([[3,4,5],[1,5,7],[1,2,3]])\n",
        "product=np.vdot(a,b)\n",
        "product1=np.vdot(b,a)\n",
        "print(f\"Dot products are:\\n {product} and\\n {product1}\")"
      ],
      "metadata": {
        "colab": {
          "base_uri": "https://localhost:8080/"
        },
        "id": "9QeO-83znBcX",
        "outputId": "b3c1fa46-f3fd-4979-b739-6621c6795f7d"
      },
      "execution_count": 14,
      "outputs": [
        {
          "output_type": "stream",
          "name": "stdout",
          "text": [
            "Dot products are:\n",
            " 105 and\n",
            " 105\n"
          ]
        }
      ]
    },
    {
      "cell_type": "code",
      "source": [
        "#2D array\n",
        "a=np.array([[[5,2],[3,4]]])\n",
        "b=np.array([[[3,4],[1,5]]])\n",
        "product=np.vdot(a,b)\n",
        "product1=np.vdot(b,a)\n",
        "print(f\"Dot products are:\\n {product} and\\n {product1}\")"
      ],
      "metadata": {
        "colab": {
          "base_uri": "https://localhost:8080/"
        },
        "id": "r74csj6PnGzx",
        "outputId": "68025ec7-5f87-4b46-d1b1-b719c53c7bc1"
      },
      "execution_count": 17,
      "outputs": [
        {
          "output_type": "stream",
          "name": "stdout",
          "text": [
            "Dot products are:\n",
            " 46 and\n",
            " 46\n"
          ]
        }
      ]
    },
    {
      "cell_type": "markdown",
      "source": [
        "# Normal Distribution\n",
        "\n",
        "It is also known as Gaussian Distribution.Method used- numpy.random.normal() which has three parameters loc,scale and size.\n",
        "\n",
        "syntax:\n",
        "\n",
        "numpy.random.normal(loc=0.0,scale=1.0,size=None)"
      ],
      "metadata": {
        "id": "oG1y__6Vot1n"
      }
    },
    {
      "cell_type": "code",
      "source": [
        "# single random num from default normal distribution\n",
        "\n",
        "import numpy as np\n",
        "random_num=np.random.normal()\n",
        "print(random_num)"
      ],
      "metadata": {
        "colab": {
          "base_uri": "https://localhost:8080/"
        },
        "id": "8NsDzcf4U0qY",
        "outputId": "b705a67a-5875-4ed3-fc88-0352b3c92365"
      },
      "execution_count": 1,
      "outputs": [
        {
          "output_type": "stream",
          "name": "stdout",
          "text": [
            "-0.4587492982544854\n"
          ]
        }
      ]
    },
    {
      "cell_type": "code",
      "source": [
        "#array/multiple random numbers\n",
        "\n",
        "random_nums=np.random.normal(size=5)\n",
        "print(random_nums)"
      ],
      "metadata": {
        "colab": {
          "base_uri": "https://localhost:8080/"
        },
        "id": "usDaAYOtVENY",
        "outputId": "f20cb74d-bc58-4eef-8d50-3d8fa32e30ea"
      },
      "execution_count": 2,
      "outputs": [
        {
          "output_type": "stream",
          "name": "stdout",
          "text": [
            "[-1.02464203 -1.15541001  1.38361349 -0.00578539  2.26371862]\n"
          ]
        }
      ]
    },
    {
      "cell_type": "code",
      "source": [
        "#visualizating normal distribution\n",
        "import matplotlib.pyplot as plt\n",
        "from scipy.stats import norm\n",
        "data=np.random.normal(loc=0,scale=1,size=1000)\n",
        "plt.hist(data,bins=30,edgecolor='blue',density=True)\n",
        "x = np.linspace(min(data), max(data), 100)\n",
        "pdf=norm.pdf(x,loc=0,scale=1)\n",
        "plt.plot(x,pdf,color='red',label='Theoretical pdf')\n",
        "plt.title(\"Normal Distribution\")\n",
        "plt.xlabel(\"Value\")\n",
        "plt.ylabel(\"Density\")\n",
        "plt.grid(True)\n",
        "plt.show()"
      ],
      "metadata": {
        "colab": {
          "base_uri": "https://localhost:8080/",
          "height": 472
        },
        "id": "3tDpxOK_ViXp",
        "outputId": "de378bca-fcbf-4887-b8c2-b81e349b6391"
      },
      "execution_count": 16,
      "outputs": [
        {
          "output_type": "display_data",
          "data": {
            "text/plain": [
              "<Figure size 640x480 with 1 Axes>"
            ],
            "image/png": "[encoded data removed]"
          },
          "metadata": {}
        }
      ]
    },
    {
      "cell_type": "markdown",
      "source": [
        "The histogram represents the frequency of generated numbers and the curve shows theoretical pattern for comparison. The curve of a Normal Distribution is also known as the Bell Curve."
      ],
      "metadata": {
        "id": "Z-bah7ibX4Vf"
      }
    }
  ]
}