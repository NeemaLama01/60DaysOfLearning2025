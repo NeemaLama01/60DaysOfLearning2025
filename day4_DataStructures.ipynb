{
  "nbformat": 4,
  "nbformat_minor": 0,
  "metadata": {
    "colab": {
      "provenance": []
    },
    "kernelspec": {
      "name": "python3",
      "display_name": "Python 3"
    },
    "language_info": {
      "name": "python"
    }
  },
  "cells": [
    {
      "cell_type": "markdown",
      "source": [
        "Python Sets:\n",
        "\n",
        "An unordered collection of multiple items with different data types which are mutable, no duplicates,inside {} and unindexed."
      ],
      "metadata": {
        "id": "CtlAYPwCmi2Z"
      }
    },
    {
      "cell_type": "code",
      "execution_count": 2,
      "metadata": {
        "colab": {
          "base_uri": "https://localhost:8080/"
        },
        "id": "QEJi2-ualnt6",
        "outputId": "40428282-f293-4e6a-ff5a-ed22e55d304f"
      },
      "outputs": [
        {
          "output_type": "stream",
          "name": "stdout",
          "text": [
            "set()\n",
            "{'e', 's', 'y', 'f', 'r', 'a', '0', 'L', '6', 'n', 'i', 'O', 'g', 'D'}\n",
            "{1, 'lama', 'Ngima'}\n"
          ]
        }
      ],
      "source": [
        "set1 = set()\n",
        "print(set1)\n",
        "\n",
        "set2= set(\"60DaysOfLearning\")\n",
        "print(set2)\n",
        "\n",
        "#creating set with use of a list\n",
        "set3= ['Ngima','lama',1]\n",
        "print(set(set3))\n"
      ]
    },
    {
      "cell_type": "markdown",
      "source": [
        "Note: Duplicate items are removed by itself"
      ],
      "metadata": {
        "id": "_OASJOgqm66I"
      }
    },
    {
      "cell_type": "markdown",
      "source": [
        "Adding elements in set:\n",
        "\n",
        "use add() method and update() method."
      ],
      "metadata": {
        "id": "RCj2kj28n_gJ"
      }
    },
    {
      "cell_type": "code",
      "source": [
        "set3= {'Ngima','lama',1}\n",
        "#add method()\n",
        "set3.add(2)\n",
        "#update method\n",
        "set3.update(['Neema',4])\n",
        "set3"
      ],
      "metadata": {
        "colab": {
          "base_uri": "https://localhost:8080/"
        },
        "id": "pkra3wfnn4q5",
        "outputId": "c4352248-c9c0-418c-8c95-770fcc451a93"
      },
      "execution_count": 10,
      "outputs": [
        {
          "output_type": "execute_result",
          "data": {
            "text/plain": [
              "{1, 2, 4, 'Neema', 'Ngima', 'lama'}"
            ]
          },
          "metadata": {},
          "execution_count": 10
        }
      ]
    },
    {
      "cell_type": "code",
      "source": [
        "set1= {'Ngima','lama',1}\n",
        "#acceessing elemnts using for loop\n",
        "for i in set1:\n",
        "  print(i, end=\" \")\n",
        "#checking\n",
        "print('Ngima'in set1)"
      ],
      "metadata": {
        "colab": {
          "base_uri": "https://localhost:8080/"
        },
        "id": "OZU-_-Qhoiqg",
        "outputId": "7e0b8349-543a-4395-935f-19f0c8079d25"
      },
      "execution_count": 12,
      "outputs": [
        {
          "output_type": "stream",
          "name": "stdout",
          "text": [
            "1 lama Ngima True\n"
          ]
        }
      ]
    },
    {
      "cell_type": "markdown",
      "source": [
        "Removing elements from set in python:\n",
        "\n",
        "* remove() method and discard method()-\n",
        "\n",
        "removes specified element and when not found remove() raises error but discard()doesn't.\n",
        "\n",
        "* pop() method-\n",
        "\n",
        "removes a element from the set\n",
        "\n",
        "* clear() method-\n",
        "\n",
        "removes all and empties the set.\n"
      ],
      "metadata": {
        "id": "BV868f9spQ9Y"
      }
    },
    {
      "cell_type": "code",
      "source": [
        "set1={1,2,3,4,5,6,2}\n",
        "#using remove and discard methods\n",
        "set1.remove(3)\n",
        "set1.discard(1)\n",
        "set1"
      ],
      "metadata": {
        "colab": {
          "base_uri": "https://localhost:8080/"
        },
        "id": "1KEbvkhDpPx4",
        "outputId": "6b39b6d5-a270-4dae-d8b6-51538f738680"
      },
      "execution_count": 16,
      "outputs": [
        {
          "output_type": "execute_result",
          "data": {
            "text/plain": [
              "{2, 4, 5, 6}"
            ]
          },
          "metadata": {},
          "execution_count": 16
        }
      ]
    },
    {
      "cell_type": "code",
      "source": [
        "set1={1,2,3,4,5,6,2}\n",
        "#using pop method\n",
        "set1.pop()\n",
        "set1"
      ],
      "metadata": {
        "colab": {
          "base_uri": "https://localhost:8080/"
        },
        "id": "l_06DQz5qpMT",
        "outputId": "727eff43-463f-4e3d-a588-f6769c3a738d"
      },
      "execution_count": 19,
      "outputs": [
        {
          "output_type": "execute_result",
          "data": {
            "text/plain": [
              "{2, 3, 4, 5, 6}"
            ]
          },
          "metadata": {},
          "execution_count": 19
        }
      ]
    },
    {
      "cell_type": "code",
      "source": [
        "set1={1,2,3,4,5,6,2}\n",
        "#using clear method\n",
        "set1.clear()\n",
        "set1"
      ],
      "metadata": {
        "colab": {
          "base_uri": "https://localhost:8080/"
        },
        "id": "G_iX22RAqvRL",
        "outputId": "ae9d85fd-29eb-4705-abc2-ee354a4a0eff"
      },
      "execution_count": 20,
      "outputs": [
        {
          "output_type": "execute_result",
          "data": {
            "text/plain": [
              "set()"
            ]
          },
          "metadata": {},
          "execution_count": 20
        }
      ]
    },
    {
      "cell_type": "markdown",
      "source": [
        "Frozen Sets:\n",
        "\n",
        "Frozensets is a built-in data type similar to a set but its immutable, means can't be modified."
      ],
      "metadata": {
        "id": "zed374garJ1Y"
      }
    },
    {
      "cell_type": "code",
      "source": [
        "#frozensets\n",
        "set1={1,2,3,4,5,6,2}\n",
        "fset=frozenset(set1)\n",
        "fset"
      ],
      "metadata": {
        "colab": {
          "base_uri": "https://localhost:8080/"
        },
        "id": "XJXK7SG2rG6b",
        "outputId": "e38a3b23-9d4a-4360-91b5-b86d378f1e1e"
      },
      "execution_count": 24,
      "outputs": [
        {
          "output_type": "execute_result",
          "data": {
            "text/plain": [
              "frozenset({1, 2, 3, 4, 5, 6})"
            ]
          },
          "metadata": {},
          "execution_count": 24
        }
      ]
    },
    {
      "cell_type": "markdown",
      "source": [
        "Python Arrays\n",
        "\n",
        "Array is a collection of homogeneous elements and can have duplicates.\n",
        "\n",
        "array(data_type, value_list)\n"
      ],
      "metadata": {
        "id": "M-oTSYzUscOx"
      }
    },
    {
      "cell_type": "code",
      "source": [
        "import array as arr\n",
        "a=arr.array('i',[2,3,3,6])\n",
        "\n",
        "for i in range(0,4):\n",
        "  print(a[i],end=\" \")"
      ],
      "metadata": {
        "colab": {
          "base_uri": "https://localhost:8080/"
        },
        "id": "sU30GSDCtDfz",
        "outputId": "223cb62b-b1d0-4fa6-edb6-1458f62e3d88"
      },
      "execution_count": 37,
      "outputs": [
        {
          "output_type": "stream",
          "name": "stdout",
          "text": [
            "2 3 3 6 "
          ]
        }
      ]
    },
    {
      "cell_type": "markdown",
      "source": [
        "Adding elements to an Array:\n",
        "\n",
        "insert()- adds element at givesn index.\n",
        "\n",
        "append()- adds element at last"
      ],
      "metadata": {
        "id": "J21IiJP3uQOL"
      }
    },
    {
      "cell_type": "code",
      "source": [
        "a=arr.array('i',[2,3,6])\n",
        "#using insert and append methods\n",
        "a.insert(0,1)\n",
        "a.append(8)\n",
        "a"
      ],
      "metadata": {
        "colab": {
          "base_uri": "https://localhost:8080/"
        },
        "id": "RYIYBm9bt2vI",
        "outputId": "106862ee-134a-413d-87a5-88dc84785d39"
      },
      "execution_count": 43,
      "outputs": [
        {
          "output_type": "execute_result",
          "data": {
            "text/plain": [
              "array('i', [1, 2, 3, 6, 8])"
            ]
          },
          "metadata": {},
          "execution_count": 43
        }
      ]
    },
    {
      "cell_type": "code",
      "source": [
        "#accessing array\n",
        "a=arr.array('d',[2.0,3.2,6])\n",
        "a[1]"
      ],
      "metadata": {
        "colab": {
          "base_uri": "https://localhost:8080/"
        },
        "id": "ViHfnh-Su-GG",
        "outputId": "172c8eda-7b85-4f59-f5c2-25be9069dded"
      },
      "execution_count": 58,
      "outputs": [
        {
          "output_type": "execute_result",
          "data": {
            "text/plain": [
              "3.2"
            ]
          },
          "metadata": {},
          "execution_count": 58
        }
      ]
    },
    {
      "cell_type": "markdown",
      "source": [
        "Removing elements from the array\n",
        "\n",
        "* remove()-\n",
        "\n",
        "only removes first occurance of searched element.\n",
        "\n",
        "* pop()-\n",
        "\n",
        "removes element of specified index if not specified then removes last one."
      ],
      "metadata": {
        "id": "5Qq8i3o0wggz"
      }
    },
    {
      "cell_type": "code",
      "source": [
        "a=arr.array('d',[2.0,3.2,6,6,8.5])\n",
        "a.remove(6)\n",
        "a.pop()\n",
        "a.pop(1)\n",
        "a"
      ],
      "metadata": {
        "colab": {
          "base_uri": "https://localhost:8080/"
        },
        "id": "Zk7h58VxwStw",
        "outputId": "3c6734aa-699a-4389-e677-e55f2b97bbb5"
      },
      "execution_count": 61,
      "outputs": [
        {
          "output_type": "execute_result",
          "data": {
            "text/plain": [
              "array('d', [2.0, 6.0])"
            ]
          },
          "metadata": {},
          "execution_count": 61
        }
      ]
    },
    {
      "cell_type": "markdown",
      "source": [
        "Slicing of an array-\n",
        "\n",
        "Slice operation is used to print a specific range of elements from the array."
      ],
      "metadata": {
        "id": "QARaDZJQxTU1"
      }
    },
    {
      "cell_type": "code",
      "source": [
        "a=arr.array('d',[2.0,3.2,6,6,8.5])\n",
        "s_arr=a[:4]\n",
        "s1_arr=a[:]\n",
        "s2_arr=a[2:3]\n",
        "s3_arr=a[::-1]\n",
        "print(s_arr)\n",
        "print(s1_arr)\n",
        "print(s2_arr)\n",
        "print(s3_arr)"
      ],
      "metadata": {
        "colab": {
          "base_uri": "https://localhost:8080/"
        },
        "id": "gs39_tyexJqb",
        "outputId": "718f9a12-679d-4707-8ff3-68d39d73f95b"
      },
      "execution_count": 65,
      "outputs": [
        {
          "output_type": "stream",
          "name": "stdout",
          "text": [
            "array('d', [2.0, 3.2, 6.0, 6.0])\n",
            "array('d', [2.0, 3.2, 6.0, 6.0, 8.5])\n",
            "array('d', [6.0])\n",
            "array('d', [8.5, 6.0, 6.0, 3.2, 2.0])\n"
          ]
        }
      ]
    },
    {
      "cell_type": "markdown",
      "source": [
        "Searching elemnent-\n",
        "\n",
        "use index() method"
      ],
      "metadata": {
        "id": "i6FeoOU9ySWm"
      }
    },
    {
      "cell_type": "code",
      "source": [
        "a=arr.array('d',[2.0,3.2,6,6,8.5])\n",
        "print(a.index(2))"
      ],
      "metadata": {
        "colab": {
          "base_uri": "https://localhost:8080/"
        },
        "id": "AhnZnzdHyXGt",
        "outputId": "83c72f30-c7c2-4ff1-c48a-157ca211bf82"
      },
      "execution_count": 66,
      "outputs": [
        {
          "output_type": "stream",
          "name": "stdout",
          "text": [
            "0\n"
          ]
        }
      ]
    },
    {
      "cell_type": "code",
      "source": [
        "ar=arr.array('d',[2.0,3.2,6,6,8.5])\n",
        "# updating item at specified index\n",
        "ar[2]=3.1\n",
        "print(ar)\n",
        "#count num of occurances of an item\n",
        "count=ar.count(3.1)\n",
        "count"
      ],
      "metadata": {
        "colab": {
          "base_uri": "https://localhost:8080/"
        },
        "id": "ZluAjIcqypKp",
        "outputId": "73b259e2-94db-4452-b154-1ebe9b9c77da"
      },
      "execution_count": 74,
      "outputs": [
        {
          "output_type": "stream",
          "name": "stdout",
          "text": [
            "array('d', [2.0, 3.2, 3.1, 6.0, 8.5])\n"
          ]
        },
        {
          "output_type": "execute_result",
          "data": {
            "text/plain": [
              "1"
            ]
          },
          "metadata": {},
          "execution_count": 74
        }
      ]
    },
    {
      "cell_type": "markdown",
      "source": [
        "List comprehension:\n",
        "\n",
        "Way to create lists using a concise syntax, allows to generate a new list by applying an expression to each item  in an existing iterable(i.e. list or range)\n",
        "\n",
        "Syntax:\n",
        "[expression for item in iterable if condition(opt)]"
      ],
      "metadata": {
        "id": "254sdNotzgmY"
      }
    },
    {
      "cell_type": "code",
      "source": [
        "comp_list=[i for i in range(10)]\n",
        "print(comp_list)\n",
        "a=[i*2 for i in comp_list]\n",
        "print(a)\n",
        "a1=[i for i in a if i%3 == 0]\n",
        "print(a1)"
      ],
      "metadata": {
        "colab": {
          "base_uri": "https://localhost:8080/"
        },
        "id": "0Y9zpdxU090B",
        "outputId": "bf9f71e6-890e-4ed0-fbae-8ac91a94b6c6"
      },
      "execution_count": 79,
      "outputs": [
        {
          "output_type": "stream",
          "name": "stdout",
          "text": [
            "[0, 1, 2, 3, 4, 5, 6, 7, 8, 9]\n",
            "[0, 2, 4, 6, 8, 10, 12, 14, 16, 18]\n",
            "[0, 6, 12, 18]\n"
          ]
        }
      ]
    },
    {
      "cell_type": "code",
      "source": [
        "#using nested loops\n",
        "coord=[(x,y) for x in range(3) for y in range(2)]\n",
        "coord\n"
      ],
      "metadata": {
        "colab": {
          "base_uri": "https://localhost:8080/"
        },
        "id": "D_PN8tTJ1qDs",
        "outputId": "4aed95bd-61db-47ee-ac9c-a84d529b2205"
      },
      "execution_count": 80,
      "outputs": [
        {
          "output_type": "execute_result",
          "data": {
            "text/plain": [
              "[(0, 0), (0, 1), (1, 0), (1, 1), (2, 0), (2, 1)]"
            ]
          },
          "metadata": {},
          "execution_count": 80
        }
      ]
    },
    {
      "cell_type": "code",
      "source": [
        "mat = [[1,3], [4, 5, 6], [7, 8, 9,10]]\n",
        "flat=[val for row in mat for val in row]\n",
        "flat"
      ],
      "metadata": {
        "colab": {
          "base_uri": "https://localhost:8080/"
        },
        "id": "WriZHbyx2yKQ",
        "outputId": "909bd38e-85d9-49ef-a69c-d016b4d3629a"
      },
      "execution_count": 82,
      "outputs": [
        {
          "output_type": "execute_result",
          "data": {
            "text/plain": [
              "[1, 3, 4, 5, 6, 7, 8, 9, 10]"
            ]
          },
          "metadata": {},
          "execution_count": 82
        }
      ]
    }
  ]
}