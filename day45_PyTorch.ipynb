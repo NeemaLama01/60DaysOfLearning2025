{
  "nbformat": 4,
  "nbformat_minor": 0,
  "metadata": {
    "colab": {
      "provenance": []
    },
    "kernelspec": {
      "name": "python3",
      "display_name": "Python 3"
    },
    "language_info": {
      "name": "python"
    }
  },
  "cells": [
    {
      "cell_type": "markdown",
      "source": [
        "#Optimizing Model Training with PyTorch Dataset"
      ],
      "metadata": {
        "id": "JkQ1OYUYRjJC"
      }
    },
    {
      "cell_type": "markdown",
      "source": [
        "#Efficient Data Handling with Datasets and DataLoaders\n",
        "\n",
        "PyTorch provides the **torch.utils.data** library to make data loading easy with DataSets and DataLoader class.\n",
        "\n",
        "**Dataset** is itself the argument of DataLoader constructor which indicates a dataset object to load form.\n",
        "\n",
        "Meanwhile, **Dataloader** allows to iterate through the dataset in batches and gives access to inbuilt functions for multiprocessing, shuffling etc."
      ],
      "metadata": {
        "id": "8E1TjyrNRaUQ"
      }
    },
    {
      "cell_type": "code",
      "execution_count": 5,
      "metadata": {
        "colab": {
          "base_uri": "https://localhost:8080/"
        },
        "id": "kCXvpe4TAW9e",
        "outputId": "d28bbfc0-9be4-4fd9-f1d4-3d2df83c2a16"
      },
      "outputs": [
        {
          "output_type": "stream",
          "name": "stdout",
          "text": [
            "Batch Data:\n",
            "  tensor([[3, 4],\n",
            "        [1, 2]])\n",
            "Batch Labels:  tensor([1, 0])\n",
            "Batch Data:\n",
            "  tensor([[5, 6]])\n",
            "Batch Labels:  tensor([0])\n"
          ]
        }
      ],
      "source": [
        "import torch\n",
        "from torch.utils.data import Dataset, DataLoader\n",
        "\n",
        "class MyDataset(Dataset):\n",
        "  def __init__(self):\n",
        "    self.data=torch.tensor([[1,2],[3,4],[5,6]])\n",
        "    self.labels=torch.tensor([0,1,0])\n",
        "\n",
        "  def __len__(self):\n",
        "    return len(self.data)\n",
        "\n",
        "  def __getitem__(self,idx):\n",
        "    return self.data[idx], self.labels[idx]\n",
        "\n",
        "dataset=MyDataset()\n",
        "dataloader=DataLoader(dataset,batch_size=2,shuffle=True)\n",
        "\n",
        "for batch in dataloader:\n",
        "  print(\"Batch Data:\\n \", batch[0])\n",
        "  print(\"Batch Labels: \", batch[1])"
      ]
    },
    {
      "cell_type": "markdown",
      "source": [
        "#Enhancing Data Diversity through Augmentation\n",
        "\n",
        "Torchvision provides simple tools for applying random transformations to generalize on unseen data."
      ],
      "metadata": {
        "id": "6js5R9kPRKNk"
      }
    },
    {
      "cell_type": "code",
      "source": [
        "import torchvision.transforms as transforms\n",
        "from PIL import Image\n",
        "\n",
        "image = Image.open('/content/doraemon.jpg')\n",
        "\n",
        "transform = transforms.Compose([\n",
        "    transforms.RandomHorizontalFlip(),\n",
        "    transforms.ToTensor()\n",
        "])\n",
        "\n",
        "augmented_image = transform(image)\n",
        "print(\"Augmented Image Shape:\", augmented_image.shape)"
      ],
      "metadata": {
        "colab": {
          "base_uri": "https://localhost:8080/"
        },
        "id": "H-YBtveoQ_Pi",
        "outputId": "dcb59b00-01d4-4ea4-92d1-69d5b4c92ff4"
      },
      "execution_count": 6,
      "outputs": [
        {
          "output_type": "stream",
          "name": "stdout",
          "text": [
            "Augmented Image Shape: torch.Size([3, 1829, 1920])\n"
          ]
        }
      ]
    }
  ]
}