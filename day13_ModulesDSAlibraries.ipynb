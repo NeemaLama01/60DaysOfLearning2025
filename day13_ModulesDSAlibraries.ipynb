{
  "nbformat": 4,
  "nbformat_minor": 0,
  "metadata": {
    "colab": {
      "provenance": []
    },
    "kernelspec": {
      "name": "python3",
      "display_name": "Python 3"
    },
    "language_info": {
      "name": "python"
    }
  },
  "cells": [
    {
      "cell_type": "markdown",
      "source": [
        "#Python Modules\n",
        "\n",
        "A python module is a file containing Python definitions and statements."
      ],
      "metadata": {
        "id": "6yaH65ApETfl"
      }
    },
    {
      "cell_type": "code",
      "execution_count": 8,
      "metadata": {
        "colab": {
          "base_uri": "https://localhost:8080/"
        },
        "id": "WFS16Y13Dr_H",
        "outputId": "923930d6-e2a5-494e-a5c8-2fd28acb5e20"
      },
      "outputs": [
        {
          "output_type": "execute_result",
          "data": {
            "text/plain": [
              "3.1622776601683795"
            ]
          },
          "metadata": {},
          "execution_count": 8
        }
      ],
      "source": [
        "#import specific attributes from a python module\n",
        "from math import sqrt\n",
        "def calc(a):\n",
        "  return sqrt(a)\n",
        "calc(10)"
      ]
    },
    {
      "cell_type": "code",
      "source": [
        "#import all names from module\n",
        "from math import *\n",
        "print(add(10,2))"
      ],
      "metadata": {
        "colab": {
          "base_uri": "https://localhost:8080/"
        },
        "id": "ucE-Kj83D9JY",
        "outputId": "18413674-ea35-455d-bdec-4aadc9f9749a"
      },
      "execution_count": 26,
      "outputs": [
        {
          "output_type": "stream",
          "name": "stdout",
          "text": [
            "12\n"
          ]
        }
      ]
    },
    {
      "cell_type": "code",
      "source": [
        "#renaming the python module\n",
        "import datetime as dt\n",
        "# Converts a number of seconds to a date object\n",
        "print(dt.date.fromtimestamp(454554))"
      ],
      "metadata": {
        "colab": {
          "base_uri": "https://localhost:8080/"
        },
        "id": "P74kdzKAFtF1",
        "outputId": "30001909-6356-4370-d1d3-7cf1e1df241b"
      },
      "execution_count": 14,
      "outputs": [
        {
          "output_type": "stream",
          "name": "stdout",
          "text": [
            "1970-01-06\n"
          ]
        }
      ]
    },
    {
      "cell_type": "markdown",
      "source": [
        "#Python DSA Libraries\n",
        "**Linked List**\n",
        "\n",
        "It consists of a sequence of elements called nodes, where each node contains some data and a reference(or pointer) to next node in sequence.\n",
        "\n",
        "The 'collection.deque' library is used to implement Linked List.\n",
        "\n",
        "deque stands for double-ended queue."
      ],
      "metadata": {
        "id": "2yED7O3eRQKB"
      }
    },
    {
      "cell_type": "code",
      "source": [
        "from collections import deque\n",
        "\n",
        "#create a deque\n",
        "de=deque()\n",
        "\n",
        "#add elements to the queue\n",
        "de.append(2) #adds to right end\n",
        "de.appendleft(2) #adds to left end\n",
        "de.appendleft(1)\n",
        "\n",
        "#remove the elements from the queue\n",
        "rem=de.pop() #removes from right\n",
        "rem=de.popleft() # removes from left\n",
        "\n",
        "print(de)"
      ],
      "metadata": {
        "colab": {
          "base_uri": "https://localhost:8080/"
        },
        "id": "ABcyFmUEGjOy",
        "outputId": "10aba291-11c9-4f8f-f583-8be77a0bebf1"
      },
      "execution_count": 15,
      "outputs": [
        {
          "output_type": "stream",
          "name": "stdout",
          "text": [
            "deque([2])\n"
          ]
        }
      ]
    },
    {
      "cell_type": "markdown",
      "source": [
        "**Queue in Python**\n",
        "\n",
        "In queue elements are added(enqueue operation) to the tail and removed( dequeue operation) from the front/head.i.e FIFO method.\n",
        "\n",
        "The 'queue.Queue' library is used to implement Queue in Python.\n"
      ],
      "metadata": {
        "id": "ZdgtZFOJTw5q"
      }
    },
    {
      "cell_type": "code",
      "source": [
        "from queue import Queue\n",
        "\n",
        "#create a queue\n",
        "qu=Queue()\n",
        "\n",
        "#add elements to the queue\n",
        "qu.put(1)\n",
        "qu.put(2)\n",
        "qu.put(3)\n",
        "\n",
        "#remove an element from queue\n",
        "rem=qu.get()\n",
        "print(rem)\n",
        "\n",
        "#check size\n",
        "print(qu.qsize())\n",
        "\n",
        "#check if queue is empty\n",
        "print(qu.empty())"
      ],
      "metadata": {
        "colab": {
          "base_uri": "https://localhost:8080/"
        },
        "id": "Y1gKx9BjUojl",
        "outputId": "b567f478-998f-4eb2-feae-a9c304832c78"
      },
      "execution_count": 21,
      "outputs": [
        {
          "output_type": "stream",
          "name": "stdout",
          "text": [
            "1\n",
            "2\n",
            "False\n"
          ]
        }
      ]
    },
    {
      "cell_type": "markdown",
      "source": [
        "**Hash Map in Python**\n",
        "\n",
        "A hash map also known as hash table, is a data structure that stores key-value pairs.\n",
        "\n",
        "The ' collections.Counter' library is used to implement Hash Map, specialized to count occurances of elements."
      ],
      "metadata": {
        "id": "PygZPWQvWcCD"
      }
    },
    {
      "cell_type": "code",
      "source": [
        "from collections import Counter\n",
        "fruits_list=['apple','banana','mango','cherry','guava','apple']\n",
        "counter=Counter(fruits_list)\n",
        "counter"
      ],
      "metadata": {
        "colab": {
          "base_uri": "https://localhost:8080/"
        },
        "id": "x9hlGVvJVtm_",
        "outputId": "1fad20de-895a-490a-f786-6bcd79c7d53f"
      },
      "execution_count": 23,
      "outputs": [
        {
          "output_type": "execute_result",
          "data": {
            "text/plain": [
              "Counter({'apple': 2, 'banana': 1, 'mango': 1, 'cherry': 1, 'guava': 1})"
            ]
          },
          "metadata": {},
          "execution_count": 23
        }
      ]
    }
  ]
}