{
  "nbformat": 4,
  "nbformat_minor": 0,
  "metadata": {
    "colab": {
      "provenance": []
    },
    "kernelspec": {
      "name": "python3",
      "display_name": "Python 3"
    },
    "language_info": {
      "name": "python"
    }
  },
  "cells": [
    {
      "cell_type": "markdown",
      "source": [
        "# Sparse Matrices in NumPy\n",
        "\n",
        "\n",
        "If most of the elemnets of matrix have 0 value, it is called sparse matrix.Two major benefits:\n",
        "\n",
        "*Storage\n",
        "\n",
        "*Computing time\n",
        "\n",
        "Syntax:\n",
        "\n",
        "for compressed sparse row format:\n",
        "scipy.sparse.csr_matrix(shape=None,dtype=None)\n",
        "\n",
        "for compressed sparse column format:\n",
        "scipy.sparse.csc_matrix(shape=None,dtype=None)"
      ],
      "metadata": {
        "id": "WPLEEHGG0Z-t"
      }
    },
    {
      "cell_type": "code",
      "execution_count": null,
      "metadata": {
        "colab": {
          "base_uri": "https://localhost:8080/"
        },
        "id": "RiY7N7Ic0L8M",
        "outputId": "59a70f85-0642-432e-b668-1d65b45a9bad"
      },
      "outputs": [
        {
          "output_type": "stream",
          "name": "stdout",
          "text": [
            "[[0 0 0 0]\n",
            " [0 0 0 0]\n",
            " [0 0 0 0]]\n"
          ]
        }
      ],
      "source": [
        "#create sparse matrix using csr_matrix()\n",
        "\n",
        "import numpy as np\n",
        "from scipy.sparse import csr_matrix\n",
        "\n",
        "# creating an empty 3*4 sparse matrix\n",
        "sparseMat= csr_matrix((3,4),dtype=np.int8).toarray()\n",
        "print(sparseMat)"
      ]
    },
    {
      "cell_type": "code",
      "source": [
        "#create sparse matrix using csr_matrix()\n",
        "\n",
        "from scipy.sparse import csr_matrix\n",
        "\n",
        "row=np.array([0,0,1,2,2,1,0])\n",
        "column=np.array([0,2,1,0,0,0,1])\n",
        "\n",
        "#taking data\n",
        "data=np.array([1,2,3,4,5,6,7])\n",
        "\n",
        "#creating sparse_matrix\n",
        "sparsemat=csr_matrix((data,(row,column)),shape=(3,3)).toarray()\n",
        "\n",
        "print(sparsemat)"
      ],
      "metadata": {
        "colab": {
          "base_uri": "https://localhost:8080/"
        },
        "id": "HlvC_YPe2qEs",
        "outputId": "3ab69ba1-070a-460f-889b-64bb8ea18fb4"
      },
      "execution_count": null,
      "outputs": [
        {
          "output_type": "stream",
          "name": "stdout",
          "text": [
            "[[1 7 2]\n",
            " [6 3 0]\n",
            " [9 0 0]]\n"
          ]
        }
      ]
    },
    {
      "cell_type": "code",
      "source": [
        "#create sparse matrix using csc_matrix()\n",
        "\n",
        "from scipy.sparse import csc_matrix\n",
        "\n",
        "#creating empty sparse matrix\n",
        "sparse_matrix=csc_matrix((3,4),dtype=np.int8).toarray()\n",
        "print(sparse_matrix)"
      ],
      "metadata": {
        "colab": {
          "base_uri": "https://localhost:8080/"
        },
        "id": "Kaf5S0bkCaM0",
        "outputId": "475f19ad-a333-4eec-fb8d-8d45f344fb15"
      },
      "execution_count": null,
      "outputs": [
        {
          "output_type": "stream",
          "name": "stdout",
          "text": [
            "[[0 0 0 0]\n",
            " [0 0 0 0]\n",
            " [0 0 0 0]]\n"
          ]
        }
      ]
    },
    {
      "cell_type": "code",
      "source": [
        "#creating sprase matrix using csc_matrix()\n",
        "\n",
        "from scipy.sparse import csc_matrix\n",
        "row=np.array([1,2,1,0,0,0,0])\n",
        "col=np.array([0,0,0,1,2,1,0])\n",
        "\n",
        "#taking data\n",
        "data=np.array([1,2,4,6,8,9,3])\n",
        "\n",
        "#creating sparse matrix\n",
        "sparseMat=csc_matrix((data,(row,col)),shape=(3,3)).toarray()\n",
        "\n",
        "print(sparseMat)"
      ],
      "metadata": {
        "colab": {
          "base_uri": "https://localhost:8080/"
        },
        "id": "TNgkPVDoC-1X",
        "outputId": "723590c6-db02-4868-955f-02f9eb494992"
      },
      "execution_count": null,
      "outputs": [
        {
          "output_type": "stream",
          "name": "stdout",
          "text": [
            "[[ 3 15  8]\n",
            " [ 5  0  0]\n",
            " [ 2  0  0]]\n"
          ]
        }
      ]
    }
  ]
}