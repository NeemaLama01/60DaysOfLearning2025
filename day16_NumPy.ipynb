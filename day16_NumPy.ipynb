{
  "nbformat": 4,
  "nbformat_minor": 0,
  "metadata": {
    "colab": {
      "provenance": []
    },
    "kernelspec": {
      "name": "python3",
      "display_name": "Python 3"
    },
    "language_info": {
      "name": "python"
    }
  },
  "cells": [
    {
      "cell_type": "code",
      "execution_count": null,
      "metadata": {
        "colab": {
          "base_uri": "https://localhost:8080/"
        },
        "id": "dli3tVWMbNVl",
        "outputId": "0424a2e6-2f47-4edd-a9c7-a6258a3dc0f3"
      },
      "outputs": [
        {
          "output_type": "stream",
          "name": "stdout",
          "text": [
            "Given Array:  [[[1 2]\n",
            "  [2 3]\n",
            "  [3 4]\n",
            "  [4 5]]]\n",
            "Accessed array: \n",
            " [[[1 2]\n",
            "  [2 3]]]\n"
          ]
        }
      ],
      "source": [
        "import numpy as np\n",
        "\n",
        "arr=np.array([[[1,2],[2,3],[3,4],[4,5]]])\n",
        "print(\"Given Array: \",arr)\n",
        "res_arr=arr[:,[0,1]]\n",
        "print(\"Accessed array: \\n\",res_arr)"
      ]
    },
    {
      "cell_type": "code",
      "source": [
        "import numpy as np\n",
        "\n",
        "arr=np.array([[1,2],[2,3],[3,4],[4,5]])\n",
        "print(\"Given Array: \",arr)\n",
        "res_arr=arr[[0,1]]\n",
        "print(\"Accessed array: \\n\",res_arr)"
      ],
      "metadata": {
        "colab": {
          "base_uri": "https://localhost:8080/"
        },
        "id": "4DZff9UufVUF",
        "outputId": "82b4118f-bff0-40af-f127-f0bcc33f3aa6"
      },
      "execution_count": null,
      "outputs": [
        {
          "output_type": "stream",
          "name": "stdout",
          "text": [
            "Given Array:  [[1 2]\n",
            " [2 3]\n",
            " [3 4]\n",
            " [4 5]]\n",
            "Accessed array: \n",
            " [[1 2]\n",
            " [2 3]]\n"
          ]
        }
      ]
    },
    {
      "cell_type": "code",
      "source": [
        "import numpy as np\n",
        "a=np.array([1,2,3])\n",
        "b=np.array([3,2,1])\n",
        "\n",
        "#stacking 2 1-d arrays row-wise\n",
        "stac=np.stack((a,b),axis=0)\n",
        "print(stac)"
      ],
      "metadata": {
        "id": "UExLPjAyfd5x",
        "colab": {
          "base_uri": "https://localhost:8080/"
        },
        "outputId": "620ba843-64d2-4542-a391-b7fd79e71ce4"
      },
      "execution_count": 2,
      "outputs": [
        {
          "output_type": "stream",
          "name": "stdout",
          "text": [
            "[[1 2 3]\n",
            " [3 2 1]]\n"
          ]
        }
      ]
    },
    {
      "cell_type": "code",
      "source": [
        "import numpy as np\n",
        "a=np.array([1,2,3])\n",
        "b=np.array([3,2,1])\n",
        "\n",
        "#stacking 2 1-d arrays column-wise\n",
        "stac=np.stack((a,b),axis=1)\n",
        "print(stac)"
      ],
      "metadata": {
        "colab": {
          "base_uri": "https://localhost:8080/"
        },
        "id": "PRTaS-CcxkI4",
        "outputId": "c0c992a9-a811-4aa6-a723-25e13fe6786f"
      },
      "execution_count": 3,
      "outputs": [
        {
          "output_type": "stream",
          "name": "stdout",
          "text": [
            "[[1 3]\n",
            " [2 2]\n",
            " [3 1]]\n"
          ]
        }
      ]
    },
    {
      "cell_type": "code",
      "source": [
        "import numpy as np\n",
        "a=np.array([1,2,3])\n",
        "b=np.array([3,2,1])\n",
        "\n",
        "#stacking 2 1-d arrays along -1 axis\n",
        "stac=np.stack((a,b),axis=-1)\n",
        "print(stac)"
      ],
      "metadata": {
        "colab": {
          "base_uri": "https://localhost:8080/"
        },
        "id": "0okOmwzTxxrL",
        "outputId": "71fab185-46ec-4122-c5be-afe33e71c916"
      },
      "execution_count": 4,
      "outputs": [
        {
          "output_type": "stream",
          "name": "stdout",
          "text": [
            "[[1 3]\n",
            " [2 2]\n",
            " [3 1]]\n"
          ]
        }
      ]
    },
    {
      "cell_type": "markdown",
      "source": [
        "Note: -1 means 'last dimension wise while 2 axis are possible(0 and 1) so -1 is same as 1."
      ],
      "metadata": {
        "id": "3GBVBHFUyOXn"
      }
    },
    {
      "cell_type": "code",
      "source": [],
      "metadata": {
        "id": "g_jGFZXiy0h1"
      },
      "execution_count": null,
      "outputs": []
    }
  ]
}