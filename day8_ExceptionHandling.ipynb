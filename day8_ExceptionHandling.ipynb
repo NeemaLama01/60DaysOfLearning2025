{
  "nbformat": 4,
  "nbformat_minor": 0,
  "metadata": {
    "colab": {
      "provenance": []
    },
    "kernelspec": {
      "name": "python3",
      "display_name": "Python 3"
    },
    "language_info": {
      "name": "python"
    }
  },
  "cells": [
    {
      "cell_type": "markdown",
      "source": [
        "# Exception\n",
        "\n",
        "An exception is unwanted or unexpected event that occurs during the execution of program(i.e. runtime)."
      ],
      "metadata": {
        "id": "DTdGV4s6KZE9"
      }
    },
    {
      "cell_type": "markdown",
      "source": [
        "# Python Exception Handling\n",
        "It handles exceptions which occurs during the execution of program.\n",
        "\n",
        "**Syntax and usage:**\n",
        "\n",
        "*try:*\n",
        "\n",
        "  Code that might raise an exception\n",
        "  \n",
        "*except:*\n",
        "  \n",
        "  Code to handle the exception\n",
        "\n",
        "*else:*\n",
        "\n",
        "  Code to run if no exception occurs\n",
        "\n",
        "*finally:*\n",
        "\n",
        " Code to run regardless of whether an exception occurs.\n"
      ],
      "metadata": {
        "id": "1gecpxHSIojz"
      }
    },
    {
      "cell_type": "code",
      "execution_count": null,
      "metadata": {
        "colab": {
          "base_uri": "https://localhost:8080/"
        },
        "id": "xtgW2GVeIdl8",
        "outputId": "fd5c24b7-579c-44c0-d019-3de6486b3af8"
      },
      "outputs": [
        {
          "output_type": "stream",
          "name": "stdout",
          "text": [
            "Can't be divided by zero.\n"
          ]
        }
      ],
      "source": [
        "num = 20\n",
        "try:\n",
        "  result=num/0\n",
        "except ZeroDivisionError:\n",
        "  print(\"Can't be divided by zero.\")"
      ]
    },
    {
      "cell_type": "code",
      "source": [
        "num = int(input(\"Enter a num:\"))\n",
        "try:\n",
        "  result=num/0\n",
        "except ZeroDivisionError:\n",
        "  print(\"Can't be divided by zero.\")\n",
        "except ValueError:\n",
        "  print(\"Enter a valid number\")\n",
        "else:\n",
        "  print(result)\n",
        "finally:\n",
        "  print(\"Code executed.\")\n"
      ],
      "metadata": {
        "colab": {
          "base_uri": "https://localhost:8080/"
        },
        "id": "PvN73mRdJ7By",
        "outputId": "469c95d7-7e0a-4730-b11b-a2bda87934aa"
      },
      "execution_count": null,
      "outputs": [
        {
          "output_type": "stream",
          "name": "stdout",
          "text": [
            "Enter a num:12\n",
            "Can't be divided by zero.\n",
            "Code executed.\n"
          ]
        }
      ]
    },
    {
      "cell_type": "code",
      "source": [
        "#Catching Multiple Exceptions\n",
        "\n",
        "a=['1',2,'three']\n",
        "try:\n",
        "  result= int(a[0])+a[2]\n",
        "except (ValueError, TypeError) as e:\n",
        "  print(\"Error\",e )\n",
        "except IndexError:\n",
        "  print(\"Out of range\")"
      ],
      "metadata": {
        "colab": {
          "base_uri": "https://localhost:8080/"
        },
        "id": "U3DGxj68Lg0j",
        "outputId": "003ad9d7-2b80-441e-97bb-c4c50dc10300"
      },
      "execution_count": null,
      "outputs": [
        {
          "output_type": "stream",
          "name": "stdout",
          "text": [
            "Error unsupported operand type(s) for +: 'int' and 'str'\n"
          ]
        }
      ]
    },
    {
      "cell_type": "code",
      "source": [
        "def set(age):\n",
        "  if age < 0:\n",
        "    raise ValueError (\"Age can't be negative\")\n",
        "  print(f\"Age set to {age}\")\n",
        "\n",
        "try:\n",
        " set(-5)\n",
        "except ValueError as e:\n",
        "  print(e)"
      ],
      "metadata": {
        "colab": {
          "base_uri": "https://localhost:8080/"
        },
        "id": "Y4sC_FnMV_-U",
        "outputId": "9bd80cad-d4ff-4f4c-e67f-ee0cf75d9230"
      },
      "execution_count": 19,
      "outputs": [
        {
          "output_type": "stream",
          "name": "stdout",
          "text": [
            "Age can't be negative\n"
          ]
        }
      ]
    },
    {
      "cell_type": "markdown",
      "source": [
        "Some examples of Built-in Exception :"
      ],
      "metadata": {
        "id": "PlvFi09oXa5l"
      }
    },
    {
      "cell_type": "code",
      "source": [
        "import math\n",
        "\n",
        "try:\n",
        "  result=math.exp(1000)\n",
        "except OverflowError as e:\n",
        "  print(e)"
      ],
      "metadata": {
        "colab": {
          "base_uri": "https://localhost:8080/"
        },
        "id": "Z0ALOoReXZyK",
        "outputId": "9cc8d9c8-cb83-43c9-ab43-2156bf6acaf9"
      },
      "execution_count": 20,
      "outputs": [
        {
          "output_type": "stream",
          "name": "stdout",
          "text": [
            "math range error\n"
          ]
        }
      ]
    },
    {
      "cell_type": "code",
      "source": [
        "try:\n",
        "  open(\"non_existent_file.txt\")\n",
        "except OSError as e:\n",
        "  print(e)"
      ],
      "metadata": {
        "colab": {
          "base_uri": "https://localhost:8080/"
        },
        "id": "iiFR7REpX76Y",
        "outputId": "0868bc02-0a71-4d31-f413-ac2784a366ac"
      },
      "execution_count": 21,
      "outputs": [
        {
          "output_type": "stream",
          "name": "stdout",
          "text": [
            "[Errno 2] No such file or directory: 'non_existent_file.txt'\n"
          ]
        }
      ]
    }
  ]
}